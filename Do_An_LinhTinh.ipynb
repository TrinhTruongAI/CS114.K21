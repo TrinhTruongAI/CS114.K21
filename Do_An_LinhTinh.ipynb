{
  "nbformat": 4,
  "nbformat_minor": 0,
  "metadata": {
    "colab": {
      "name": "Do_An_LinhTinh.ipynb",
      "provenance": [],
      "collapsed_sections": [],
      "toc_visible": true,
      "mount_file_id": "1YtkyjajtebmZcQ2DVyeCvIalgezCBfGm",
      "authorship_tag": "ABX9TyPcfXSHATyui5+3DtY+8NnI",
      "include_colab_link": true
    },
    "kernelspec": {
      "name": "python3",
      "display_name": "Python 3"
    }
  },
  "cells": [
    {
      "cell_type": "markdown",
      "metadata": {
        "id": "view-in-github",
        "colab_type": "text"
      },
      "source": [
        "<a href=\"https://colab.research.google.com/github/UITTrinhQuangTruong/CS114.K21/blob/master/Do_An_LinhTinh.ipynb\" target=\"_parent\"><img src=\"https://colab.research.google.com/assets/colab-badge.svg\" alt=\"Open In Colab\"/></a>"
      ]
    },
    {
      "cell_type": "code",
      "metadata": {
        "id": "EEruWsU7sChA",
        "colab_type": "code",
        "colab": {}
      },
      "source": [
        "import cv2\n",
        "import numpy as np\n",
        "from os import listdir\n",
        "from os.path import isfile, join"
      ],
      "execution_count": 1,
      "outputs": []
    },
    {
      "cell_type": "markdown",
      "metadata": {
        "id": "eW9DWiy7RMio",
        "colab_type": "text"
      },
      "source": [
        "# Tiền xử lý dữ liệu và trích xuất đặc trưng "
      ]
    },
    {
      "cell_type": "markdown",
      "metadata": {
        "id": "Bfwws1waRhJ_",
        "colab_type": "text"
      },
      "source": [
        "**hàm xử lý dữ liệu và trích xuất đặc trưng bằng HOG**"
      ]
    },
    {
      "cell_type": "code",
      "metadata": {
        "id": "jfOifXOJiJtX",
        "colab_type": "code",
        "colab": {}
      },
      "source": [
        "def CvCanny(matrix):\n",
        "  v = np.median(matrix)\n",
        "  sigma = 0.33\n",
        "  lower = int(max(0, (1.0 - sigma) * v))\n",
        "  upper = int(min(255, (1.0 + sigma) * v))\n",
        "  canny = cv2.Canny(matrix, lower, upper, True)\n",
        "  return canny"
      ],
      "execution_count": 2,
      "outputs": []
    },
    {
      "cell_type": "code",
      "metadata": {
        "id": "7e5jM4B_iJ7F",
        "colab_type": "code",
        "colab": {}
      },
      "source": [
        "def apply_roi(img, roi):\n",
        "  #thresh, roi = cv2.threshold(roi, thresh=128, maxval=1, type=cv2.THRESH_BINARY)\n",
        "  new_img = img * roi\n",
        "  return new_img"
      ],
      "execution_count": 3,
      "outputs": []
    },
    {
      "cell_type": "code",
      "metadata": {
        "id": "XJ6AQ0X_sIjT",
        "colab_type": "code",
        "colab": {}
      },
      "source": [
        "def extract_features(path, label, data, labels):\n",
        "  videoPaths = [join(path, f) for f in listdir(path) if isfile(join(path, f))]\n",
        "  for videoPath in videoPaths:\n",
        "    cap = cv2.VideoCapture(videoPath)\n",
        "    ret, frame1 = cap.read()\n",
        "    frame1 = cv2.resize(frame1, (160, 120))\n",
        "    prvs = cv2.cvtColor(frame1,cv2.COLOR_BGR2GRAY)\n",
        "    hsv = np.zeros_like(frame1)\n",
        "    hsv[...,1] = 255\n",
        "    s = 1\n",
        "    roi = []\n",
        "    while(cap.isOpened()):\n",
        "        ret, frame2 = cap.read()\n",
        "\n",
        "        if not ret:\n",
        "          break;\n",
        "        if s % 2 == 0:\n",
        "          frame2 = cv2.resize(frame2, (160, 120))\n",
        "          #Trích xuất dòng quang từ 2 frame gần nhau\n",
        "          next = cv2.cvtColor(frame2,cv2.COLOR_BGR2GRAY)\n",
        "          optical_flow = cv2.optflow.DualTVL1OpticalFlow_create()\n",
        "          flow = optical_flow.calc(prvs, next, None)\n",
        "          if s == 3:\n",
        "            flowx = cv2.normalize(flow[...,0],None,0,255,cv2.NORM_MINMAX)\n",
        "            flowy = cv2.normalize(flow[...,1],None,0,255,cv2.NORM_MINMAX)\n",
        "          mag, ang = cv2.cartToPolar(flow[...,0], flow[...,1])\n",
        "          hsv[...,0] = ang*180/np.pi/2\n",
        "          nom = np.zeros((160,120))\n",
        "          hsv[...,2] = cv2.normalize(mag,None,0,255,cv2.NORM_MINMAX)\n",
        "          bgr = cv2.cvtColor(hsv,cv2.COLOR_HSV2BGR)\n",
        "          gray = cv2.cvtColor(bgr, cv2.COLOR_BGR2GRAY)\n",
        "\n",
        "          #Tăng độ nét cho ảnh dòng quang\n",
        "          '''kernel = np.array([[-1, -1, -1], [-1, 9, -1], [-1, -1, -1]])\n",
        "          sharpen = cv2.filter2D(hsv, -1, kernel)\n",
        "          canny1 = CvCanny(sharpen)'''\n",
        "          canny2 = CvCanny(gray)\n",
        "          #gray = cv2.cvtColor(bgr, cv2.COLOR_BGR2GRAY)\n",
        "          #cv2_imshow(gray)\n",
        "          \n",
        "          '''gray1 = cv2.filter2D(gray, -1, kernel)[...,::-1]\n",
        "          gray = cv2.ximgproc.guidedFilter(gray, gray1, radius=2, eps=0.004, dDepth=-1)[...,::-1]\n",
        "          canny3 = CvCanny(gray)\n",
        "          cv2_imshow(gray)'''\n",
        "          \n",
        "\n",
        "          kernel = np.ones((5,5),np.uint8)\n",
        "          closing = cv2.morphologyEx(canny2, cv2.MORPH_CLOSE, kernel)\n",
        "          closing_inv = cv2.bitwise_not(closing)\n",
        "          \n",
        "          h, w = closing.shape[:2]\n",
        "          mask = np.zeros((h+2, w+2), np.uint8)\n",
        "          \n",
        "          '''im_floodfill = closing.copy()\n",
        "          cv2.floodFill(im_floodfill, mask, (0,0), 255);\n",
        "          im_floodfill_inv = cv2.bitwise_not(im_floodfill)\n",
        "          floodfill = closing | im_floodfill'''\n",
        "\n",
        "          contour,hier = cv2.findContours(closing,cv2.RETR_CCOMP,cv2.CHAIN_APPROX_SIMPLE)\n",
        "\n",
        "          for cnt in contour:\n",
        "            cv2.drawContours(closing,[cnt],0,255,-1)\n",
        "\n",
        "          opening = cv2.morphologyEx(closing, cv2.MORPH_OPEN, kernel)\n",
        "          #opening = cv2.morphologyEx(opening, cv2.MORPH_CLOSE, kernel)\n",
        "          '''cv2_imshow(canny1)\n",
        "          cv2_imshow(canny2)\n",
        "          cv2_imshow(canny3)'''\n",
        "\n",
        "          after_roi = apply_roi(next, opening)\n",
        "\n",
        "          # trích xuất feature bằng HOG\n",
        "          winSize = (32,32)\n",
        "          blockSize = (16,16)\n",
        "          blockStride = (8,8)\n",
        "          cellSize = (8,8)\n",
        "          nbins = 9\n",
        "          hog = cv2.HOGDescriptor(winSize, blockSize, blockStride, cellSize, nbins)\n",
        "          image_hog = hog.compute(after_roi)\n",
        "\n",
        "          data.append(image_hog)\n",
        "          labels.append(label)\n",
        "\n",
        "\n",
        "          prvs = next.copy()\n",
        "\n",
        "\n",
        "        s += 1\n",
        "    print(videoPath + \"---done--\")\n",
        "\n"
      ],
      "execution_count": 4,
      "outputs": []
    },
    {
      "cell_type": "markdown",
      "metadata": {
        "id": "0CD2jS4nRryQ",
        "colab_type": "text"
      },
      "source": [
        "**Khởi tạo các biến chứa nhãn và dữ liệu**"
      ]
    },
    {
      "cell_type": "code",
      "metadata": {
        "id": "PyIjOgZcycGC",
        "colab_type": "code",
        "colab": {}
      },
      "source": [
        "labels = []\n",
        "data = []"
      ],
      "execution_count": 5,
      "outputs": []
    },
    {
      "cell_type": "markdown",
      "metadata": {
        "id": "QLuJTda1R13R",
        "colab_type": "text"
      },
      "source": [
        "**Tiến hành trích xuất đặc trưng lưu vào các biến data và labels**"
      ]
    },
    {
      "cell_type": "code",
      "metadata": {
        "id": "KvLngB5ayhlG",
        "colab_type": "code",
        "colab": {
          "base_uri": "https://localhost:8080/",
          "height": 514
        },
        "outputId": "82a7005d-a588-4ef2-ba86-6e15252f822d"
      },
      "source": [
        "path = \"/content/drive/My Drive/Data/cobaoluc\"\n",
        "extract_features(path, 0, data, labels)\n",
        "path = \"/content/drive/My Drive/Data/khongbaoluc\"\n",
        "extract_features(path, 1, data, labels)\n",
        "\n"
      ],
      "execution_count": 6,
      "outputs": [
        {
          "output_type": "stream",
          "text": [
            "/content/drive/My Drive/Data/cobaoluc/0.mp4---done--\n",
            "/content/drive/My Drive/Data/cobaoluc/1.mp4---done--\n",
            "/content/drive/My Drive/Data/cobaoluc/45.mp4---done--\n",
            "/content/drive/My Drive/Data/cobaoluc/75.mp4---done--\n",
            "/content/drive/My Drive/Data/cobaoluc/95.mp4---done--\n",
            "/content/drive/My Drive/Data/cobaoluc/98.mp4---done--\n",
            "/content/drive/My Drive/Data/cobaoluc/7.mp4---done--\n",
            "/content/drive/My Drive/Data/cobaoluc/68.mp4---done--\n",
            "/content/drive/My Drive/Data/cobaoluc/71.mp4---done--\n",
            "/content/drive/My Drive/Data/cobaoluc/88.mp4---done--\n"
          ],
          "name": "stdout"
        },
        {
          "output_type": "error",
          "ename": "KeyboardInterrupt",
          "evalue": "ignored",
          "traceback": [
            "\u001b[0;31m---------------------------------------------------------------------------\u001b[0m",
            "\u001b[0;31mKeyboardInterrupt\u001b[0m                         Traceback (most recent call last)",
            "\u001b[0;32m<ipython-input-6-dc90444a1075>\u001b[0m in \u001b[0;36m<module>\u001b[0;34m()\u001b[0m\n\u001b[1;32m      1\u001b[0m \u001b[0mpath\u001b[0m \u001b[0;34m=\u001b[0m \u001b[0;34m\"/content/drive/My Drive/Data/cobaoluc\"\u001b[0m\u001b[0;34m\u001b[0m\u001b[0;34m\u001b[0m\u001b[0m\n\u001b[0;32m----> 2\u001b[0;31m \u001b[0mextract_features\u001b[0m\u001b[0;34m(\u001b[0m\u001b[0mpath\u001b[0m\u001b[0;34m,\u001b[0m \u001b[0;36m0\u001b[0m\u001b[0;34m,\u001b[0m \u001b[0mdata\u001b[0m\u001b[0;34m,\u001b[0m \u001b[0mlabels\u001b[0m\u001b[0;34m)\u001b[0m\u001b[0;34m\u001b[0m\u001b[0;34m\u001b[0m\u001b[0m\n\u001b[0m\u001b[1;32m      3\u001b[0m \u001b[0mpath\u001b[0m \u001b[0;34m=\u001b[0m \u001b[0;34m\"/content/drive/My Drive/Data/khongbaoluc\"\u001b[0m\u001b[0;34m\u001b[0m\u001b[0;34m\u001b[0m\u001b[0m\n\u001b[1;32m      4\u001b[0m \u001b[0mextract_features\u001b[0m\u001b[0;34m(\u001b[0m\u001b[0mpath\u001b[0m\u001b[0;34m,\u001b[0m \u001b[0;36m1\u001b[0m\u001b[0;34m,\u001b[0m \u001b[0mdata\u001b[0m\u001b[0;34m,\u001b[0m \u001b[0mlabels\u001b[0m\u001b[0;34m)\u001b[0m\u001b[0;34m\u001b[0m\u001b[0;34m\u001b[0m\u001b[0m\n\u001b[1;32m      5\u001b[0m \u001b[0;34m\u001b[0m\u001b[0m\n",
            "\u001b[0;32m<ipython-input-4-acec524e0270>\u001b[0m in \u001b[0;36mextract_features\u001b[0;34m(path, label, data, labels)\u001b[0m\n\u001b[1;32m     20\u001b[0m           \u001b[0mnext\u001b[0m \u001b[0;34m=\u001b[0m \u001b[0mcv2\u001b[0m\u001b[0;34m.\u001b[0m\u001b[0mcvtColor\u001b[0m\u001b[0;34m(\u001b[0m\u001b[0mframe2\u001b[0m\u001b[0;34m,\u001b[0m\u001b[0mcv2\u001b[0m\u001b[0;34m.\u001b[0m\u001b[0mCOLOR_BGR2GRAY\u001b[0m\u001b[0;34m)\u001b[0m\u001b[0;34m\u001b[0m\u001b[0;34m\u001b[0m\u001b[0m\n\u001b[1;32m     21\u001b[0m           \u001b[0moptical_flow\u001b[0m \u001b[0;34m=\u001b[0m \u001b[0mcv2\u001b[0m\u001b[0;34m.\u001b[0m\u001b[0moptflow\u001b[0m\u001b[0;34m.\u001b[0m\u001b[0mDualTVL1OpticalFlow_create\u001b[0m\u001b[0;34m(\u001b[0m\u001b[0;34m)\u001b[0m\u001b[0;34m\u001b[0m\u001b[0;34m\u001b[0m\u001b[0m\n\u001b[0;32m---> 22\u001b[0;31m           \u001b[0mflow\u001b[0m \u001b[0;34m=\u001b[0m \u001b[0moptical_flow\u001b[0m\u001b[0;34m.\u001b[0m\u001b[0mcalc\u001b[0m\u001b[0;34m(\u001b[0m\u001b[0mprvs\u001b[0m\u001b[0;34m,\u001b[0m \u001b[0mnext\u001b[0m\u001b[0;34m,\u001b[0m \u001b[0;32mNone\u001b[0m\u001b[0;34m)\u001b[0m\u001b[0;34m\u001b[0m\u001b[0;34m\u001b[0m\u001b[0m\n\u001b[0m\u001b[1;32m     23\u001b[0m           \u001b[0;32mif\u001b[0m \u001b[0ms\u001b[0m \u001b[0;34m==\u001b[0m \u001b[0;36m3\u001b[0m\u001b[0;34m:\u001b[0m\u001b[0;34m\u001b[0m\u001b[0;34m\u001b[0m\u001b[0m\n\u001b[1;32m     24\u001b[0m             \u001b[0mflowx\u001b[0m \u001b[0;34m=\u001b[0m \u001b[0mcv2\u001b[0m\u001b[0;34m.\u001b[0m\u001b[0mnormalize\u001b[0m\u001b[0;34m(\u001b[0m\u001b[0mflow\u001b[0m\u001b[0;34m[\u001b[0m\u001b[0;34m...\u001b[0m\u001b[0;34m,\u001b[0m\u001b[0;36m0\u001b[0m\u001b[0;34m]\u001b[0m\u001b[0;34m,\u001b[0m\u001b[0;32mNone\u001b[0m\u001b[0;34m,\u001b[0m\u001b[0;36m0\u001b[0m\u001b[0;34m,\u001b[0m\u001b[0;36m255\u001b[0m\u001b[0;34m,\u001b[0m\u001b[0mcv2\u001b[0m\u001b[0;34m.\u001b[0m\u001b[0mNORM_MINMAX\u001b[0m\u001b[0;34m)\u001b[0m\u001b[0;34m\u001b[0m\u001b[0;34m\u001b[0m\u001b[0m\n",
            "\u001b[0;31mKeyboardInterrupt\u001b[0m: "
          ]
        }
      ]
    },
    {
      "cell_type": "code",
      "metadata": {
        "id": "61-BSBJcy-1A",
        "colab_type": "code",
        "colab": {}
      },
      "source": [
        "print(len(data))\n",
        "print(len(labels))"
      ],
      "execution_count": null,
      "outputs": []
    },
    {
      "cell_type": "markdown",
      "metadata": {
        "id": "XzOD4UV7SC8J",
        "colab_type": "text"
      },
      "source": [
        "**Xử lý các feature để có thêm đưa vào model train được**"
      ]
    },
    {
      "cell_type": "code",
      "metadata": {
        "id": "o-FFFtlaQVXG",
        "colab_type": "code",
        "colab": {}
      },
      "source": [
        "data = np.transpose(data)[0]"
      ],
      "execution_count": null,
      "outputs": []
    },
    {
      "cell_type": "markdown",
      "metadata": {
        "id": "nTA78r23SPSc",
        "colab_type": "text"
      },
      "source": [
        "**Chia dữ liệu train và test**"
      ]
    },
    {
      "cell_type": "code",
      "metadata": {
        "id": "RJnbbqpXzyRA",
        "colab_type": "code",
        "colab": {}
      },
      "source": [
        "from sklearn.model_selection import train_test_split\n",
        "\n",
        "trainX, testX, trainY, testY = train_test_split(data, labels,\n",
        "\ttest_size=0.20, random_state=42)"
      ],
      "execution_count": null,
      "outputs": []
    },
    {
      "cell_type": "markdown",
      "metadata": {
        "id": "jkaCSacKSV62",
        "colab_type": "text"
      },
      "source": [
        "# Train model"
      ]
    },
    {
      "cell_type": "markdown",
      "metadata": {
        "id": "2BQ2dYezSewH",
        "colab_type": "text"
      },
      "source": [
        "**Model svm**"
      ]
    },
    {
      "cell_type": "code",
      "metadata": {
        "id": "5RDjrCQqz6MT",
        "colab_type": "code",
        "colab": {
          "base_uri": "https://localhost:8080/",
          "height": 50
        },
        "outputId": "a2f22b81-03e9-4d1d-c35c-50c2b339349d"
      },
      "source": [
        "from sklearn import svm\n",
        "\n",
        "lsvc = svm.SVC()\n",
        "lsvc.fit(trainX, trainY)\n",
        "\n",
        "print(lsvc.score(trainX, trainY))\n",
        "print(lsvc.score(testX, testY))\n",
        "  "
      ],
      "execution_count": null,
      "outputs": [
        {
          "output_type": "stream",
          "text": [
            "0.9558823529411765\n",
            "0.6379310344827587\n"
          ],
          "name": "stdout"
        }
      ]
    },
    {
      "cell_type": "markdown",
      "metadata": {
        "id": "SrncdWxPSk0w",
        "colab_type": "text"
      },
      "source": [
        "**Model RandomForestClassifier**"
      ]
    },
    {
      "cell_type": "code",
      "metadata": {
        "id": "j5sBocmieq9B",
        "colab_type": "code",
        "colab": {}
      },
      "source": [
        "from sklearn.ensemble import RandomForestClassifier\n",
        "\n",
        "rfc = RandomForestClassifier(n_estimators= 10, random_state= 0)\n",
        "\n",
        "rfc.fit(trainX, trainY)\n",
        "\n",
        "print(rfc.score(trainX, trainY))\n",
        "print(rfc.score(testX, testY))"
      ],
      "execution_count": null,
      "outputs": []
    },
    {
      "cell_type": "markdown",
      "metadata": {
        "id": "bKLVhgJ7Srce",
        "colab_type": "text"
      },
      "source": [
        "**Model GaussianNB**"
      ]
    },
    {
      "cell_type": "code",
      "metadata": {
        "id": "QhGGI1yOfJlp",
        "colab_type": "code",
        "colab": {}
      },
      "source": [
        "from sklearn.naive_bayes import GaussianNB\n",
        "\n",
        "gnb = GaussianNB()\n",
        "\n",
        "\n",
        "gnb.fit(trainX, trainY)\n",
        "\n",
        "print(gnb.score(trainX, trainY))\n",
        "print(gnbfc.score(testX, testY))\n"
      ],
      "execution_count": null,
      "outputs": []
    },
    {
      "cell_type": "markdown",
      "metadata": {
        "id": "6FKSU3vLSvt2",
        "colab_type": "text"
      },
      "source": [
        "**Model LogisticRegression**"
      ]
    },
    {
      "cell_type": "code",
      "metadata": {
        "id": "Fl_PwaacfZqB",
        "colab_type": "code",
        "colab": {}
      },
      "source": [
        "\n",
        "from sklearn.linear_model import LogisticRegression\n",
        "lr = LogisticRegression()\n",
        "\n",
        "lr.fit(trainX, trainY)\n",
        "\n",
        "print(lr.score(trainX, trainY))\n",
        "print(lr.score(testX, testY))\n"
      ],
      "execution_count": null,
      "outputs": []
    }
  ]
}