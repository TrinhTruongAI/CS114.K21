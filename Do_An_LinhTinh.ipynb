{
  "nbformat": 4,
  "nbformat_minor": 0,
  "metadata": {
    "colab": {
      "name": "Do_An_LinhTinh.ipynb",
      "provenance": [],
      "collapsed_sections": []
    },
    "kernelspec": {
      "name": "python3",
      "display_name": "Python 3"
    }
  },
  "cells": [
    {
      "cell_type": "code",
      "metadata": {
        "id": "EEruWsU7sChA",
        "colab_type": "code",
        "colab": {}
      },
      "source": [
        "import cv2\n",
        "import numpy as np\n",
        "from os import listdir\n",
        "from os.path import isfile, join"
      ],
      "execution_count": 2,
      "outputs": []
    },
    {
      "cell_type": "code",
      "metadata": {
        "id": "XJ6AQ0X_sIjT",
        "colab_type": "code",
        "colab": {}
      },
      "source": [
        "def extract_features(path, label, data, labels):\n",
        "  videoPaths = [join(path, f) for f in listdir(path) if isfile(join(path, f))]\n",
        "  for videoPath in videoPaths:\n",
        "    cap = cv2.VideoCapture(videoPath)\n",
        "\n",
        "    ret, frame = cap.read()\n",
        "\n",
        "    frame = cv2.resize(frame, (160, 120))\n",
        "\n",
        "\n",
        "    prev_gray = cv2.cvtColor(frame, cv2.COLOR_BGR2GRAY)\n",
        "\n",
        "    optical_flow = cv2.optflow.DualTVL1OpticalFlow_create()\n",
        "\n",
        "    mask = np.zeros_like(frame)\n",
        "    # Sets image saturation to maximum\n",
        "    mask[..., 1] = 255\n",
        "\n",
        "    times = 0\n",
        "\n",
        "    while(cap.isOpened()):\n",
        "\n",
        "\n",
        "\n",
        "        ret, curr_frame = cap.read()\n",
        "\n",
        "\n",
        "\n",
        "        times += 1\n",
        "        if times != 28:\n",
        "          continue  \n",
        "\n",
        "        times = 0\n",
        "        if not ret:\n",
        "          break\n",
        "\n",
        "        curr_frame = cv2.resize(curr_frame, (160, 120)) \n",
        "\n",
        "\n",
        "        gray = cv2.cvtColor(curr_frame, cv2.COLOR_BGR2GRAY)\n",
        "\n",
        "        flow = optical_flow.calc(prev_gray, gray, None)\n",
        "\n",
        "\n",
        "        magnitude, angle = cv2.cartToPolar(flow[..., 0], flow[..., 1])\n",
        "        # Sets image hue according to the optical flow direction\n",
        "        mask[..., 0] = angle * 180 / np.pi / 2\n",
        "        # Sets image value according to the optical flow magnitude (normalized)\n",
        "        mask[..., 2] = cv2.normalize(magnitude, None, 0, 255, cv2.NORM_MINMAX)\n",
        "\n",
        "        h, s, image = cv2.split(mask)\n",
        "\n",
        "        \n",
        "        kernel = np.array([[-1,-1,-1], \n",
        "                          [-1, 9,-1],\n",
        "                          [-1,-1,-1]])\n",
        "        image = cv2.filter2D(image, -1, kernel)\n",
        "\n",
        "        image = cv2.Canny(image,100,200)\n",
        "\n",
        "\n",
        "        kernel = np.ones((5,5),np.uint8)\n",
        "        image = cv2.morphologyEx(image, cv2.MORPH_CLOSE, kernel)\n",
        "\n",
        "\n",
        "        image = cv2.morphologyEx(image,cv2.MORPH_OPEN,kernel)\n",
        "\n",
        "        \n",
        "        hog = cv2.HOGDescriptor()\n",
        "        image = hog.compute(image)\n",
        "\n",
        "        # Updates previous frame\n",
        "        prev_gray = gray\n",
        "\n",
        "        data.append(image)\n",
        "        labels.append(label)\n",
        "    print(videoPath + \"---done--\")\n",
        "\n"
      ],
      "execution_count": 22,
      "outputs": []
    },
    {
      "cell_type": "code",
      "metadata": {
        "id": "PyIjOgZcycGC",
        "colab_type": "code",
        "colab": {}
      },
      "source": [
        "labels = []\n",
        "data = []"
      ],
      "execution_count": 23,
      "outputs": []
    },
    {
      "cell_type": "code",
      "metadata": {
        "id": "KvLngB5ayhlG",
        "colab_type": "code",
        "colab": {
          "base_uri": "https://localhost:8080/",
          "height": 34
        },
        "outputId": "fd73416d-f25a-4fc3-e5d3-2a17cff8398f"
      },
      "source": [
        "path = \"/content/drive/My Drive/Data/cobaoluc\"\n",
        "extract_features(path, 0, data, labels)\n",
        "path = \"/content/drive/My Drive/Data/khongbaoluc\"\n",
        "extract_features(path, 1, data, labels)\n",
        "\n"
      ],
      "execution_count": null,
      "outputs": [
        {
          "output_type": "stream",
          "text": [
            "/content/drive/My Drive/Data/cobaoluc/0.mp4---done--\n"
          ],
          "name": "stdout"
        }
      ]
    },
    {
      "cell_type": "code",
      "metadata": {
        "id": "61-BSBJcy-1A",
        "colab_type": "code",
        "colab": {
          "base_uri": "https://localhost:8080/",
          "height": 178
        },
        "outputId": "1de65320-f14f-4fb6-9084-0f2d80a149f6"
      },
      "source": [
        "print(len(data))\n",
        "print(len(labels))"
      ],
      "execution_count": 1,
      "outputs": [
        {
          "output_type": "error",
          "ename": "NameError",
          "evalue": "ignored",
          "traceback": [
            "\u001b[0;31m---------------------------------------------------------------------------\u001b[0m",
            "\u001b[0;31mNameError\u001b[0m                                 Traceback (most recent call last)",
            "\u001b[0;32m<ipython-input-1-43f115a777c3>\u001b[0m in \u001b[0;36m<module>\u001b[0;34m()\u001b[0m\n\u001b[0;32m----> 1\u001b[0;31m \u001b[0mprint\u001b[0m\u001b[0;34m(\u001b[0m\u001b[0mlen\u001b[0m\u001b[0;34m(\u001b[0m\u001b[0mdata\u001b[0m\u001b[0;34m)\u001b[0m\u001b[0;34m)\u001b[0m\u001b[0;34m\u001b[0m\u001b[0;34m\u001b[0m\u001b[0m\n\u001b[0m\u001b[1;32m      2\u001b[0m \u001b[0mprint\u001b[0m\u001b[0;34m(\u001b[0m\u001b[0mlen\u001b[0m\u001b[0;34m(\u001b[0m\u001b[0mlabels\u001b[0m\u001b[0;34m)\u001b[0m\u001b[0;34m)\u001b[0m\u001b[0;34m\u001b[0m\u001b[0;34m\u001b[0m\u001b[0m\n",
            "\u001b[0;31mNameError\u001b[0m: name 'data' is not defined"
          ]
        }
      ]
    },
    {
      "cell_type": "code",
      "metadata": {
        "id": "RJnbbqpXzyRA",
        "colab_type": "code",
        "colab": {}
      },
      "source": [
        "trainX, testX, trainY, testY = train_test_split(data, labels,\n",
        "\ttest_size=0.20, random_state=42)"
      ],
      "execution_count": null,
      "outputs": []
    },
    {
      "cell_type": "code",
      "metadata": {
        "id": "5RDjrCQqz6MT",
        "colab_type": "code",
        "colab": {}
      },
      "source": [
        "from sklearn import svm\n",
        "\n",
        "lsvc = svm.SVC()\n",
        "lsvc.fit(trainX, trainY)\n",
        "\n",
        "print(lsvc.score(features_train, labels_train))\n",
        "print(lsvc.score(features_test, labels_test))\n"
      ],
      "execution_count": null,
      "outputs": []
    }
  ]
}