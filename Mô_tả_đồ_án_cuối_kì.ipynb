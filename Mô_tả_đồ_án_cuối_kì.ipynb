{
  "nbformat": 4,
  "nbformat_minor": 0,
  "metadata": {
    "colab": {
      "name": "Mô tả đồ án cuối kì",
      "provenance": [],
      "collapsed_sections": [],
      "authorship_tag": "ABX9TyO19K5YZyTlCLryv1ylo8Gf",
      "include_colab_link": true
    },
    "kernelspec": {
      "name": "python3",
      "display_name": "Python 3"
    }
  },
  "cells": [
    {
      "cell_type": "markdown",
      "metadata": {
        "id": "view-in-github",
        "colab_type": "text"
      },
      "source": [
        "<a href=\"https://colab.research.google.com/github/UITTrinhQuangTruong/CS114.K21/blob/master/M%C3%B4_t%E1%BA%A3_%C4%91%E1%BB%93_%C3%A1n_cu%E1%BB%91i_k%C3%AC.ipynb\" target=\"_parent\"><img src=\"https://colab.research.google.com/assets/colab-badge.svg\" alt=\"Open In Colab\"/></a>"
      ]
    },
    {
      "cell_type": "markdown",
      "metadata": {
        "id": "GbtnebdGtHPJ",
        "colab_type": "text"
      },
      "source": [
        "###Giảng viên hướng dẫn:\n",
        "PGS.TS Lê Đình Duy\n",
        "\n",
        "ThS.Phạm Nguyễn Trường An"
      ]
    },
    {
      "cell_type": "markdown",
      "metadata": {
        "id": "zApW2lsGtxHs",
        "colab_type": "text"
      },
      "source": [
        "###Thành viên:\n",
        "18520393 - Trịnh Quang Trường\n",
        "\n",
        "18520536 - Tăng Năng Chung\n",
        "\n",
        "18521247 - Phan Lê Phú\n",
        "\n"
      ]
    },
    {
      "cell_type": "markdown",
      "metadata": {
        "id": "S8T12fOVuKEJ",
        "colab_type": "text"
      },
      "source": [
        "# Giới thiệu đồ án\n",
        "\n",
        "### Tên đồ án: Phát hiện đánh nhau trong video.\n",
        "\n",
        "## Mục tiêu\n",
        "Hiện nay xã hội ngày càng phát triển, đi kèm với đó là sự gia tăng về số lượng phạm tội, đặc biệt là các đối tượng về bạo lực, đánh chém nhau... Mục tiêu của đồ án là phát hiện ra các cảnh đánh nhau trong video do camera quan sát ghi lại, từ đó áp dụng vào thực tế để cảnh báo khi một nơi nào đó xảy ra ẩu đả.\n",
        "##Dữ liệu\n",
        "\n",
        "###Cách xây dựng:\n",
        "  Tự thu thập video đánh nhau được camera quan sát ghi lại từ các trang mạng xã hội khác nhau như facebook, youtube... \n",
        "\n",
        "###Số lượng:\n",
        "  Gần 200 video, gồm nhiều cảnh đánh nhau trên đường phố, quán nhậu,...\n",
        "  Tiến hành cắt bằng ffmpeg thành các đoạn video nhỏ có thời lượng bằng nhau là 3s, với 30 fps.\n",
        "\n",
        "###Thao tác tiền xử lý:\n",
        "  Loại bỏ những video bị: thừa, trùng lặp, gồm cả cảnh đánh nhau và không đánh nhau,...\n",
        "\n",
        "###Phân chia (split) \n",
        "  (train|dev|test)\n",
        "\n",
        "## Mô tả đặc trưng:\n",
        "###\n"
      ]
    }
  ]
}