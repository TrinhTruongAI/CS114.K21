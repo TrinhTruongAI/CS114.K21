{
  "nbformat": 4,
  "nbformat_minor": 0,
  "metadata": {
    "colab": {
      "name": "DetectingSarcasm_Embeddings ",
      "provenance": [],
      "collapsed_sections": [],
      "toc_visible": true,
      "mount_file_id": "https://github.com/UITTrinhQuangTruong/CS114.K21/blob/master/DetectingSarcasm_Embeddings.ipynb",
      "authorship_tag": "ABX9TyMRpXS23BNUTvH4q614UkIY",
      "include_colab_link": true
    },
    "kernelspec": {
      "name": "python3",
      "display_name": "Python 3"
    }
  },
  "cells": [
    {
      "cell_type": "markdown",
      "metadata": {
        "id": "view-in-github",
        "colab_type": "text"
      },
      "source": [
        "<a href=\"https://colab.research.google.com/github/UITTrinhQuangTruong/CS114.K21/blob/master/DetectingSarcasm_Embeddings.ipynb\" target=\"_parent\"><img src=\"https://colab.research.google.com/assets/colab-badge.svg\" alt=\"Open In Colab\"/></a>"
      ]
    },
    {
      "cell_type": "markdown",
      "metadata": {
        "id": "Z-qeKKSmsBur",
        "colab_type": "text"
      },
      "source": [
        "#Chuẩn bị thư viện và dữ liệu"
      ]
    },
    {
      "cell_type": "markdown",
      "metadata": {
        "id": "x8Xc3YiwsKB5",
        "colab_type": "text"
      },
      "source": [
        "Khai báo thư viện"
      ]
    },
    {
      "cell_type": "code",
      "metadata": {
        "id": "8hWikRs4RU48",
        "colab_type": "code",
        "colab": {
          "base_uri": "https://localhost:8080/",
          "height": 88
        },
        "outputId": "ed2b2f57-af74-40c2-d7e9-13302e56ae7c"
      },
      "source": [
        "import numpy as np\n",
        "import seaborn as sns\n",
        "import matplotlib.pyplot as plt\n",
        "import nltk\n",
        "from sklearn.preprocessing import LabelBinarizer\n",
        "from nltk.corpus import stopwords\n",
        "from nltk.stem.porter import PorterStemmer\n",
        "from wordcloud import WordCloud,STOPWORDS\n",
        "from nltk.stem import WordNetLemmatizer\n",
        "from nltk.tokenize import word_tokenize,sent_tokenize\n",
        "from bs4 import BeautifulSoup\n",
        "import re,string,unicodedata\n",
        "from keras.preprocessing import text, sequence\n",
        "from nltk.tokenize.toktok import ToktokTokenizer\n",
        "from sklearn.metrics import classification_report,confusion_matrix,accuracy_score\n",
        "from sklearn.model_selection import train_test_split\n",
        "from string import punctuation\n",
        "from nltk import pos_tag\n",
        "from nltk.corpus import wordnet\n",
        "import keras\n",
        "from keras.models import Sequential\n",
        "from keras.layers import Dense,Embedding,LSTM,Dropout,Bidirectional\n",
        "import tensorflow as tf"
      ],
      "execution_count": null,
      "outputs": [
        {
          "output_type": "stream",
          "text": [
            "/usr/local/lib/python3.6/dist-packages/statsmodels/tools/_testing.py:19: FutureWarning: pandas.util.testing is deprecated. Use the functions in the public API at pandas.testing instead.\n",
            "  import pandas.util.testing as tm\n",
            "Using TensorFlow backend.\n"
          ],
          "name": "stderr"
        }
      ]
    },
    {
      "cell_type": "markdown",
      "metadata": {
        "id": "12QZI_9OsNWX",
        "colab_type": "text"
      },
      "source": [
        "Đọc dữ liệu từ file tải về lưu trong GG Drive bằng thư viện pandas"
      ]
    },
    {
      "cell_type": "code",
      "metadata": {
        "id": "qB39gWMVMpCV",
        "colab_type": "code",
        "colab": {
          "base_uri": "https://localhost:8080/",
          "height": 204
        },
        "outputId": "bfca1e6f-7686-4234-d3ae-f92b1aea2879"
      },
      "source": [
        "import pandas as pd\n",
        "# Dung pandas de doc file json\n",
        "\n",
        "data = pd.read_json(\"/content/drive/My Drive/kaggle/CS114.K21/input/news-headlines-dataset-for-sarcasm-detection/Sarcasm_Headlines_Dataset.json\", lines=True)\n",
        "data.head()\n",
        "\n"
      ],
      "execution_count": null,
      "outputs": [
        {
          "output_type": "execute_result",
          "data": {
            "text/html": [
              "<div>\n",
              "<style scoped>\n",
              "    .dataframe tbody tr th:only-of-type {\n",
              "        vertical-align: middle;\n",
              "    }\n",
              "\n",
              "    .dataframe tbody tr th {\n",
              "        vertical-align: top;\n",
              "    }\n",
              "\n",
              "    .dataframe thead th {\n",
              "        text-align: right;\n",
              "    }\n",
              "</style>\n",
              "<table border=\"1\" class=\"dataframe\">\n",
              "  <thead>\n",
              "    <tr style=\"text-align: right;\">\n",
              "      <th></th>\n",
              "      <th>article_link</th>\n",
              "      <th>headline</th>\n",
              "      <th>is_sarcastic</th>\n",
              "    </tr>\n",
              "  </thead>\n",
              "  <tbody>\n",
              "    <tr>\n",
              "      <th>0</th>\n",
              "      <td>https://www.huffingtonpost.com/entry/versace-b...</td>\n",
              "      <td>former versace store clerk sues over secret 'b...</td>\n",
              "      <td>0</td>\n",
              "    </tr>\n",
              "    <tr>\n",
              "      <th>1</th>\n",
              "      <td>https://www.huffingtonpost.com/entry/roseanne-...</td>\n",
              "      <td>the 'roseanne' revival catches up to our thorn...</td>\n",
              "      <td>0</td>\n",
              "    </tr>\n",
              "    <tr>\n",
              "      <th>2</th>\n",
              "      <td>https://local.theonion.com/mom-starting-to-fea...</td>\n",
              "      <td>mom starting to fear son's web series closest ...</td>\n",
              "      <td>1</td>\n",
              "    </tr>\n",
              "    <tr>\n",
              "      <th>3</th>\n",
              "      <td>https://politics.theonion.com/boehner-just-wan...</td>\n",
              "      <td>boehner just wants wife to listen, not come up...</td>\n",
              "      <td>1</td>\n",
              "    </tr>\n",
              "    <tr>\n",
              "      <th>4</th>\n",
              "      <td>https://www.huffingtonpost.com/entry/jk-rowlin...</td>\n",
              "      <td>j.k. rowling wishes snape happy birthday in th...</td>\n",
              "      <td>0</td>\n",
              "    </tr>\n",
              "  </tbody>\n",
              "</table>\n",
              "</div>"
            ],
            "text/plain": [
              "                                        article_link  ... is_sarcastic\n",
              "0  https://www.huffingtonpost.com/entry/versace-b...  ...            0\n",
              "1  https://www.huffingtonpost.com/entry/roseanne-...  ...            0\n",
              "2  https://local.theonion.com/mom-starting-to-fea...  ...            1\n",
              "3  https://politics.theonion.com/boehner-just-wan...  ...            1\n",
              "4  https://www.huffingtonpost.com/entry/jk-rowlin...  ...            0\n",
              "\n",
              "[5 rows x 3 columns]"
            ]
          },
          "metadata": {
            "tags": []
          },
          "execution_count": 6
        }
      ]
    },
    {
      "cell_type": "markdown",
      "metadata": {
        "id": "R4sqZ_alscSb",
        "colab_type": "text"
      },
      "source": [
        "Xóa cột đường dẫn đến bài báo vì không cần thiết."
      ]
    },
    {
      "cell_type": "code",
      "metadata": {
        "id": "osQ_RhYgQ-rI",
        "colab_type": "code",
        "colab": {}
      },
      "source": [
        "del data['article_link']"
      ],
      "execution_count": null,
      "outputs": []
    },
    {
      "cell_type": "markdown",
      "metadata": {
        "id": "rTg7X9HGskoQ",
        "colab_type": "text"
      },
      "source": [
        "Kiểm tra lại data\n"
      ]
    },
    {
      "cell_type": "code",
      "metadata": {
        "id": "EJqhyQYpRpBo",
        "colab_type": "code",
        "colab": {
          "base_uri": "https://localhost:8080/",
          "height": 359
        },
        "outputId": "23abd267-2100-4ec6-cbf5-f8a700c2e08a"
      },
      "source": [
        "data.head(10)"
      ],
      "execution_count": null,
      "outputs": [
        {
          "output_type": "execute_result",
          "data": {
            "text/html": [
              "<div>\n",
              "<style scoped>\n",
              "    .dataframe tbody tr th:only-of-type {\n",
              "        vertical-align: middle;\n",
              "    }\n",
              "\n",
              "    .dataframe tbody tr th {\n",
              "        vertical-align: top;\n",
              "    }\n",
              "\n",
              "    .dataframe thead th {\n",
              "        text-align: right;\n",
              "    }\n",
              "</style>\n",
              "<table border=\"1\" class=\"dataframe\">\n",
              "  <thead>\n",
              "    <tr style=\"text-align: right;\">\n",
              "      <th></th>\n",
              "      <th>headline</th>\n",
              "      <th>is_sarcastic</th>\n",
              "    </tr>\n",
              "  </thead>\n",
              "  <tbody>\n",
              "    <tr>\n",
              "      <th>0</th>\n",
              "      <td>former versace store clerk sues over secret 'b...</td>\n",
              "      <td>0</td>\n",
              "    </tr>\n",
              "    <tr>\n",
              "      <th>1</th>\n",
              "      <td>the 'roseanne' revival catches up to our thorn...</td>\n",
              "      <td>0</td>\n",
              "    </tr>\n",
              "    <tr>\n",
              "      <th>2</th>\n",
              "      <td>mom starting to fear son's web series closest ...</td>\n",
              "      <td>1</td>\n",
              "    </tr>\n",
              "    <tr>\n",
              "      <th>3</th>\n",
              "      <td>boehner just wants wife to listen, not come up...</td>\n",
              "      <td>1</td>\n",
              "    </tr>\n",
              "    <tr>\n",
              "      <th>4</th>\n",
              "      <td>j.k. rowling wishes snape happy birthday in th...</td>\n",
              "      <td>0</td>\n",
              "    </tr>\n",
              "    <tr>\n",
              "      <th>5</th>\n",
              "      <td>advancing the world's women</td>\n",
              "      <td>0</td>\n",
              "    </tr>\n",
              "    <tr>\n",
              "      <th>6</th>\n",
              "      <td>the fascinating case for eating lab-grown meat</td>\n",
              "      <td>0</td>\n",
              "    </tr>\n",
              "    <tr>\n",
              "      <th>7</th>\n",
              "      <td>this ceo will send your kids to school, if you...</td>\n",
              "      <td>0</td>\n",
              "    </tr>\n",
              "    <tr>\n",
              "      <th>8</th>\n",
              "      <td>top snake handler leaves sinking huckabee camp...</td>\n",
              "      <td>1</td>\n",
              "    </tr>\n",
              "    <tr>\n",
              "      <th>9</th>\n",
              "      <td>friday's morning email: inside trump's presser...</td>\n",
              "      <td>0</td>\n",
              "    </tr>\n",
              "  </tbody>\n",
              "</table>\n",
              "</div>"
            ],
            "text/plain": [
              "                                            headline  is_sarcastic\n",
              "0  former versace store clerk sues over secret 'b...             0\n",
              "1  the 'roseanne' revival catches up to our thorn...             0\n",
              "2  mom starting to fear son's web series closest ...             1\n",
              "3  boehner just wants wife to listen, not come up...             1\n",
              "4  j.k. rowling wishes snape happy birthday in th...             0\n",
              "5                        advancing the world's women             0\n",
              "6     the fascinating case for eating lab-grown meat             0\n",
              "7  this ceo will send your kids to school, if you...             0\n",
              "8  top snake handler leaves sinking huckabee camp...             1\n",
              "9  friday's morning email: inside trump's presser...             0"
            ]
          },
          "metadata": {
            "tags": []
          },
          "execution_count": 9
        }
      ]
    },
    {
      "cell_type": "markdown",
      "metadata": {
        "id": "BA9NFwyMsoOJ",
        "colab_type": "text"
      },
      "source": [
        "Biểu đồ thống kê số text là châm biếm và ngược lại"
      ]
    },
    {
      "cell_type": "code",
      "metadata": {
        "id": "Hp0WGX3OSFzo",
        "colab_type": "code",
        "colab": {
          "base_uri": "https://localhost:8080/",
          "height": 297
        },
        "outputId": "77269994-9534-4978-de34-5cb69ef5a73b"
      },
      "source": [
        "sns.set_style(\"dark\")\n",
        "sns.countplot(data.is_sarcastic)"
      ],
      "execution_count": null,
      "outputs": [
        {
          "output_type": "execute_result",
          "data": {
            "text/plain": [
              "<matplotlib.axes._subplots.AxesSubplot at 0x7fe7f262b2e8>"
            ]
          },
          "metadata": {
            "tags": []
          },
          "execution_count": 14
        },
        {
          "output_type": "display_data",
          "data": {
            "image/png": "[encoded data removed]",
            "text/plain": [
              "<Figure size 432x288 with 1 Axes>"
            ]
          },
          "metadata": {
            "tags": []
          }
        }
      ]
    },
    {
      "cell_type": "markdown",
      "metadata": {
        "id": "n-CSuqL1Ry3M",
        "colab_type": "text"
      },
      "source": [
        "# Tiền xử lý"
      ]
    },
    {
      "cell_type": "markdown",
      "metadata": {
        "id": "XP4d0QXkSVyo",
        "colab_type": "text"
      },
      "source": [
        "## StopWord là gì ?\n",
        "Stopword là những từ trong câu khi mất đi không gây ảnh hưởng đến nghĩa của câu.\n",
        "Ví dụ: the man is strong. -> Man is strong.\n",
        "Những stopword này đã được thống kê trong corpus của thư viện nltk.\n"
      ]
    },
    {
      "cell_type": "code",
      "metadata": {
        "id": "bvPUEobZRxRx",
        "colab_type": "code",
        "colab": {
          "base_uri": "https://localhost:8080/",
          "height": 51
        },
        "outputId": "e209bc80-8faf-4c85-c712-d32bd05d031b"
      },
      "source": [
        "nltk.download('stopwords')\n",
        "stop = set(stopwords.words('english'))\n",
        "punctuation = list(string.punctuation)\n",
        "stop.update(punctuation)"
      ],
      "execution_count": null,
      "outputs": [
        {
          "output_type": "stream",
          "text": [
            "[nltk_data] Downloading package stopwords to /root/nltk_data...\n",
            "[nltk_data]   Package stopwords is already up-to-date!\n"
          ],
          "name": "stdout"
        }
      ]
    },
    {
      "cell_type": "markdown",
      "metadata": {
        "id": "pjQhHFz2ZUa6",
        "colab_type": "text"
      },
      "source": [
        "Xóa các stopword ra khỏi data:\n"
      ]
    },
    {
      "cell_type": "code",
      "metadata": {
        "id": "0QQ4YdPuZJt9",
        "colab_type": "code",
        "colab": {}
      },
      "source": [
        "def remove_stopwords(text):\n",
        "    final_text = []\n",
        "    for i in text.split():\n",
        "        if i.strip().lower() not in stop:\n",
        "            final_text.append(i.strip())\n",
        "    return \" \".join(final_text)"
      ],
      "execution_count": null,
      "outputs": []
    },
    {
      "cell_type": "markdown",
      "metadata": {
        "id": "MqbFN6wSaXBT",
        "colab_type": "text"
      },
      "source": [
        "## Xóa tags html (nếu còn) trong headlines\n",
        "Vd: h1, title"
      ]
    },
    {
      "cell_type": "code",
      "metadata": {
        "id": "jE4d7HpIbKct",
        "colab_type": "code",
        "colab": {}
      },
      "source": [
        "def strip_html(text):\n",
        "    soup = BeautifulSoup(text, \"html.parser\")\n",
        "    return soup.get_text()"
      ],
      "execution_count": null,
      "outputs": []
    },
    {
      "cell_type": "code",
      "metadata": {
        "id": "e4zhnQl_UAlB",
        "colab_type": "code",
        "colab": {
          "base_uri": "https://localhost:8080/",
          "height": 34
        },
        "outputId": "35c523fd-76e8-4349-a72c-c8b99e6262cb"
      },
      "source": [
        "'''soup = BeautifulSoup('<title>abc<h1>sd</title>', \"html.parser\")\n",
        "soup.text'''"
      ],
      "execution_count": null,
      "outputs": [
        {
          "output_type": "execute_result",
          "data": {
            "text/plain": [
              "'abcsd'"
            ]
          },
          "metadata": {
            "tags": []
          },
          "execution_count": 34
        }
      ]
    },
    {
      "cell_type": "markdown",
      "metadata": {
        "id": "vbS6U-npbWZn",
        "colab_type": "text"
      },
      "source": [
        "##Xóa những phần thừa trong data"
      ]
    },
    {
      "cell_type": "markdown",
      "metadata": {
        "id": "qrifAk95cg22",
        "colab_type": "text"
      },
      "source": [
        "Xóa nội dung trong ngoặc vuông.\n",
        "\\\\ trong thư viện re cho phép sử dụng kí tự sau nó không mang ý nghĩa đặc biệt. Ví dụ: \\\\[ ~ [. Vì trong re nếu dùng kí tự '[', ']' dùng để chỉ 1 tập các kí tự. "
      ]
    },
    {
      "cell_type": "code",
      "metadata": {
        "id": "TgbaVLoXbR3g",
        "colab_type": "code",
        "colab": {
          "base_uri": "https://localhost:8080/",
          "height": 51
        },
        "outputId": "2104786c-a986-4e80-ca0e-8a994105106f"
      },
      "source": [
        "def remove_between_square_brackets(text):\n",
        "    return re.sub('\\[[^]]*\\]', '', text)\n",
        "\n",
        "'''a = 'Dectect sarcasm [part 1]'\n",
        "print(a)\n",
        "a = remove_between_square_brackets(a)\n",
        "a'''"
      ],
      "execution_count": null,
      "outputs": [
        {
          "output_type": "stream",
          "text": [
            "Dectect sarcasm [part 1]\n"
          ],
          "name": "stdout"
        },
        {
          "output_type": "execute_result",
          "data": {
            "text/plain": [
              "'Dectect sarcasm '"
            ]
          },
          "metadata": {
            "tags": []
          },
          "execution_count": 111
        }
      ]
    },
    {
      "cell_type": "markdown",
      "metadata": {
        "id": "8VFwRVLlcYmE",
        "colab_type": "text"
      },
      "source": [
        "Xóa URL (nếu còn)"
      ]
    },
    {
      "cell_type": "code",
      "metadata": {
        "id": "cxltt2e1cV5P",
        "colab_type": "code",
        "colab": {
          "base_uri": "https://localhost:8080/",
          "height": 34
        },
        "outputId": "fe5c1aac-e35e-4da2-f446-2ef41f9dcc56"
      },
      "source": [
        "def remove_between_square_brackets(text):\n",
        "    return re.sub(r'http\\S+', '', text)\n",
        "\n",
        "'''a = 'http\\\\aab v'\n",
        "remove_between_square_brackets(a)'''"
      ],
      "execution_count": null,
      "outputs": [
        {
          "output_type": "execute_result",
          "data": {
            "text/plain": [
              "' v'"
            ]
          },
          "metadata": {
            "tags": []
          },
          "execution_count": 42
        }
      ]
    },
    {
      "cell_type": "markdown",
      "metadata": {
        "id": "og9PZkEao6ff",
        "colab_type": "text"
      },
      "source": [
        "Tổng hợp lại các hàm xử lý"
      ]
    },
    {
      "cell_type": "code",
      "metadata": {
        "id": "kK4F3gUeoqqA",
        "colab_type": "code",
        "colab": {}
      },
      "source": [
        "def denoise_text(text):\n",
        "    text = strip_html(text)\n",
        "    text = remove_between_square_brackets(text)\n",
        "    text = remove_stopwords(text)\n",
        "    return text"
      ],
      "execution_count": null,
      "outputs": []
    },
    {
      "cell_type": "markdown",
      "metadata": {
        "id": "O6JMnWHUo_vZ",
        "colab_type": "text"
      },
      "source": [
        "Áp dụng hàm denoise_text cho toàn bộ cột headlines"
      ]
    },
    {
      "cell_type": "code",
      "metadata": {
        "id": "e0eArR8ro5WU",
        "colab_type": "code",
        "colab": {}
      },
      "source": [
        "data['headline']=data['headline'].apply(denoise_text)"
      ],
      "execution_count": null,
      "outputs": []
    },
    {
      "cell_type": "markdown",
      "metadata": {
        "id": "wfg81ur-qPeG",
        "colab_type": "text"
      },
      "source": [
        "#Tìm hiểu và biểu diễn dữ liệu"
      ]
    },
    {
      "cell_type": "markdown",
      "metadata": {
        "id": "l925WFpSqZH2",
        "colab_type": "text"
      },
      "source": [
        "Biểu đồ phân bố số kí tự có trong một text\n",
        "\n",
        "\n"
      ]
    },
    {
      "cell_type": "code",
      "metadata": {
        "id": "vUVki4ixquHT",
        "colab_type": "code",
        "colab": {
          "base_uri": "https://localhost:8080/",
          "height": 356
        },
        "outputId": "6f2f15d2-c79f-488f-8e12-cc7a8a8ea4a1"
      },
      "source": [
        "fig,(ax1,ax2)=plt.subplots(1,2,figsize=(10,5))\n",
        "text_len=data[data['is_sarcastic']==1]['headline'].str.len()\n",
        "ax1.hist(text_len,color='red')\n",
        "ax1.set_title('Sarcastic text')\n",
        "text_len=data[data['is_sarcastic']==0]['headline'].str.len()\n",
        "ax2.hist(text_len,color='green')\n",
        "ax2.set_title('Not Sarcastic text')\n",
        "fig.suptitle('Characters in texts')\n",
        "plt.show()"
      ],
      "execution_count": 116,
      "outputs": [
        {
          "output_type": "display_data",
          "data": {
            "image/png": "[encoded data removed]",
            "text/plain": [
              "<Figure size 720x360 with 2 Axes>"
            ]
          },
          "metadata": {
            "tags": []
          }
        }
      ]
    },
    {
      "cell_type": "markdown",
      "metadata": {
        "id": "KH67utsSr4Pr",
        "colab_type": "text"
      },
      "source": [
        "Biểu đồ phân bố số từ có trong một text"
      ]
    },
    {
      "cell_type": "code",
      "metadata": {
        "id": "mvdZmfuNtq3W",
        "colab_type": "code",
        "colab": {
          "base_uri": "https://localhost:8080/",
          "height": 356
        },
        "outputId": "4ae04898-af1f-4504-c379-f5dac8b26489"
      },
      "source": [
        "fig,(ax1,ax2)=plt.subplots(1,2,figsize=(10,5))\n",
        "text_len=data[data['is_sarcastic']==1]['headline'].str.split().map(lambda x: len(x))\n",
        "ax1.hist(text_len,color='red')\n",
        "ax1.set_title('Sarcastic text')\n",
        "text_len=data[data['is_sarcastic']==0]['headline'].str.split().map(lambda x: len(x))\n",
        "ax2.hist(text_len,color='green')\n",
        "ax2.set_title('Not Sarcastic text')\n",
        "fig.suptitle('Words in texts')\n",
        "plt.show()"
      ],
      "execution_count": 117,
      "outputs": [
        {
          "output_type": "display_data",
          "data": {
            "image/png": "[encoded data removed]",
            "text/plain": [
              "<Figure size 720x360 with 2 Axes>"
            ]
          },
          "metadata": {
            "tags": []
          }
        }
      ]
    },
    {
      "cell_type": "markdown",
      "metadata": {
        "id": "2ff7hyvwt-Lw",
        "colab_type": "text"
      },
      "source": [
        "Độ dài trung bình của từ trong một text"
      ]
    },
    {
      "cell_type": "code",
      "metadata": {
        "id": "TlVwjBVLuKkk",
        "colab_type": "code",
        "colab": {
          "base_uri": "https://localhost:8080/",
          "height": 574
        },
        "outputId": "943e6e0d-5e74-463b-8847-c797354c670f"
      },
      "source": [
        "fig,(ax1,ax2)=plt.subplots(1,2,figsize=(20,10))\n",
        "word=data[data['is_sarcastic']==1]['headline'].str.split().apply(lambda x : [len(i) for i in x])\n",
        "sns.distplot(word.map(lambda x: np.mean(x)),ax=ax1,color='red')\n",
        "ax1.set_title('Sarcastic text')\n",
        "word=data[data['is_sarcastic']==0]['headline'].str.split().apply(lambda x : [len(i) for i in x])\n",
        "sns.distplot(word.map(lambda x: np.mean(x)),ax=ax2,color='green')\n",
        "ax2.set_title('Not Sarcastic text')\n",
        "fig.suptitle('Average word length in each text')"
      ],
      "execution_count": 118,
      "outputs": [
        {
          "output_type": "execute_result",
          "data": {
            "text/plain": [
              "Text(0.5, 0.98, 'Average word length in each text')"
            ]
          },
          "metadata": {
            "tags": []
          },
          "execution_count": 118
        },
        {
          "output_type": "display_data",
          "data": {
            "image/png": "[encoded data removed]",
            "text/plain": [
              "<Figure size 1440x720 with 2 Axes>"
            ]
          },
          "metadata": {
            "tags": []
          }
        }
      ]
    },
    {
      "cell_type": "markdown",
      "metadata": {
        "id": "cDD5zB_ruVjK",
        "colab_type": "text"
      },
      "source": [
        "Nhận xét :\n",
        "- Các bài báo châm biếm thường có tiêu đề dài hơn so với các bài báo thường.\n",
        "- Data train khá đồng đều giữa 2 trạng thái. "
      ]
    },
    {
      "cell_type": "markdown",
      "metadata": {
        "id": "jTHSXAYOvJph",
        "colab_type": "text"
      },
      "source": [
        "#Giới thiệu Word2Vec"
      ]
    },
    {
      "cell_type": "markdown",
      "metadata": {
        "id": "IUcCnr3d7Mdg",
        "colab_type": "text"
      },
      "source": [
        "Là một model unsupervised learning được training từ large corpus. Gồm 2 model là skip-gram và Cbow. Cbow có thời gian train nhanh nhưng độ chính xác không cao bằng skip-gram và ngược lại."
      ]
    },
    {
      "cell_type": "markdown",
      "metadata": {
        "id": "Gw791k0WCL7b",
        "colab_type": "text"
      },
      "source": [
        "##Chuẩn bị trước khi training Word2Vec model \n",
        "\n",
        "Chuyển đổi định dạng của text qua định dạng mà gensim có thể hiểu được"
      ]
    },
    {
      "cell_type": "code",
      "metadata": {
        "id": "xp6_9kCECLMc",
        "colab_type": "code",
        "colab": {
          "base_uri": "https://localhost:8080/",
          "height": 34
        },
        "outputId": "5a79b91f-e007-47c4-9a02-8f4afaf11033"
      },
      "source": [
        "words = []\n",
        "for i in data.headline.values:\n",
        "    l = []\n",
        "    for j in i.split():\n",
        "        l.extend(i.split())\n",
        "        break\n",
        "    words.append(l)\n"
      ],
      "execution_count": 127,
      "outputs": [
        {
          "output_type": "execute_result",
          "data": {
            "text/plain": [
              "'former'"
            ]
          },
          "metadata": {
            "tags": []
          },
          "execution_count": 127
        }
      ]
    }
  ]
}