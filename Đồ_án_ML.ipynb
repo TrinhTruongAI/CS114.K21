{
  "nbformat": 4,
  "nbformat_minor": 0,
  "metadata": {
    "colab": {
      "name": "Đồ_án_ML.ipynb",
      "provenance": [],
      "collapsed_sections": [],
      "toc_visible": true,
      "include_colab_link": true
    },
    "kernelspec": {
      "name": "python3",
      "display_name": "Python 3"
    },
    "accelerator": "GPU"
  },
  "cells": [
    {
      "cell_type": "markdown",
      "metadata": {
        "id": "view-in-github",
        "colab_type": "text"
      },
      "source": [
        "<a href=\"https://colab.research.google.com/github/UITTrinhQuangTruong/CS114.K21/blob/master/%C4%90%E1%BB%93_%C3%A1n_ML.ipynb\" target=\"_parent\"><img src=\"https://colab.research.google.com/assets/colab-badge.svg\" alt=\"Open In Colab\"/></a>"
      ]
    },
    {
      "cell_type": "markdown",
      "metadata": {
        "id": "-f08DFG320HM",
        "colab_type": "text"
      },
      "source": [
        "###Đổi tên hàng loạt"
      ]
    },
    {
      "cell_type": "code",
      "metadata": {
        "id": "Dbeos9dVvEsk",
        "colab_type": "code",
        "colab": {}
      },
      "source": [
        "#405 Cobaoluc\n",
        "#412 Khongbaoluc"
      ],
      "execution_count": 6,
      "outputs": []
    },
    {
      "cell_type": "markdown",
      "metadata": {
        "id": "2S7VR2kxBgZ3",
        "colab_type": "text"
      },
      "source": [
        "#Tiền xử lý Dữ liệu"
      ]
    },
    {
      "cell_type": "markdown",
      "metadata": {
        "id": "zlSprLNcBjrs",
        "colab_type": "text"
      },
      "source": [
        "## Import các thư viện cần thiết"
      ]
    },
    {
      "cell_type": "code",
      "metadata": {
        "id": "iczFFAI2_dJk",
        "colab_type": "code",
        "colab": {}
      },
      "source": [
        "import numpy as np\n",
        "import cv2\n",
        "from google.colab.patches import cv2_imshow\n",
        "from matplotlib import pyplot as plt\n",
        "from skimage.feature import hog\n",
        "from sklearn.cluster import KMeans\n",
        "from os import listdir\n",
        "from os.path import isfile, join"
      ],
      "execution_count": 7,
      "outputs": []
    },
    {
      "cell_type": "markdown",
      "metadata": {
        "id": "SkMi69E2Bzou",
        "colab_type": "text"
      },
      "source": [
        "##Trích xuất Optical flow bằng thuật toán TVL1 có trong OpenCV\n",
        " "
      ]
    },
    {
      "cell_type": "markdown",
      "metadata": {
        "id": "nNo6ptiKCVR-",
        "colab_type": "text"
      },
      "source": [
        "### Định nghĩa về Optical flow\n",
        "Optical Flow là khái niệm chỉ sự chuyển động tương đối của các điểm trên bề mặt một đối tượng, vật thể nào đó gây ra, dưới góc quan sát của một điểm mốc (mắt, camera…).\n",
        "\n",
        "Dễ hiểu là điểm khác biệt giữa 2 khung hình do vật thể di chuyển gây ra.\n",
        "\n",
        "![Hình ảnh mô tả Optical flow của các xe](https://opencv-python-tutroals.readthedocs.io/en/latest/_images/opticalflow_lk.jpg)"
      ]
    },
    {
      "cell_type": "markdown",
      "metadata": {
        "id": "XluYq0cBE_vM",
        "colab_type": "text"
      },
      "source": [
        "###Các bước thực hiện\n",
        "B1: Định nghĩa đối tượng bằng hàm DualTVL1OpticalFlow_create()\n",
        "\n",
        "B2: Tính flowx, flowy của 2 frame gần nhau bằng hàm calc. Với flowx là Optical Flow theo hướng x và tương tự với y\n",
        "\n",
        "B3: Tính mag = sqrt(flowx + flowy)\n",
        "\n",
        "B4: Normalize mag về ảnh hsv\n",
        "\n",
        "B5: Chuyển ảnh về định dạng Grayscale"
      ]
    },
    {
      "cell_type": "code",
      "metadata": {
        "id": "HiUb_HgBAxrr",
        "colab_type": "code",
        "colab": {}
      },
      "source": [
        "optical_flow = cv2.optflow_DualTVL1OpticalFlow.create()\n",
        "def OpticalFlow(prvs, next, hsv):\n",
        "    \n",
        "    flow = optical_flow.calc(prvs, next, None)\n",
        "    mag, ang = cv2.cartToPolar(flow[...,0], flow[...,1])\n",
        "    hsv[...,0] = ang*180/np.pi/2\n",
        "    nom = np.zeros((160,120))\n",
        "    hsv[...,2] = cv2.normalize(mag,None,0,255,cv2.NORM_MINMAX)\n",
        "\n",
        "    bgr = cv2.cvtColor(hsv,cv2.COLOR_HSV2BGR)\n",
        "    gray = cv2.cvtColor(bgr, cv2.COLOR_BGR2GRAY)\n",
        "    return gray"
      ],
      "execution_count": 8,
      "outputs": []
    },
    {
      "cell_type": "markdown",
      "metadata": {
        "id": "lA71J_NpHJHF",
        "colab_type": "text"
      },
      "source": [
        "##Trích xuất vùng chuyển động\n",
        "Từ ảnh Optimal Flow vừa tìm được ta trích xuất ra vùng có sự chuyển động\n"
      ]
    },
    {
      "cell_type": "markdown",
      "metadata": {
        "id": "wIj-XpZnH5Vl",
        "colab_type": "text"
      },
      "source": [
        "###Phát hiện cạnh với thuật toán Canny\n",
        "![Cận trên và dứoi](https://docs.opencv.org/trunk/hysteresis.jpg)\n",
        "\n",
        "Thuật toán Canny tham khảo thêm [tại đây](https://docs.opencv.org/trunk/da/d22/tutorial_py_canny.html)\n",
        "\n",
        "Hàm tìm maxVal và minVal tham khảo thêm [tại đây](https://www.pyimagesearch.com/2015/04/06/zero-parameter-automatic-canny-edge-detection-with-python-and-opencv/)"
      ]
    },
    {
      "cell_type": "code",
      "metadata": {
        "id": "TudPxCiaRvn1",
        "colab_type": "code",
        "colab": {}
      },
      "source": [
        "def CvCanny(matrix):\n",
        "  v = np.median(matrix)\n",
        "  sigma = 0.33\n",
        "  lower = int(max(0, (1.0 - sigma) * v))\n",
        "  upper = int(min(255, (1.0 + sigma) * v))\n",
        "  canny = cv2.Canny(matrix, lower, upper)\n",
        "  return canny"
      ],
      "execution_count": 9,
      "outputs": []
    },
    {
      "cell_type": "markdown",
      "metadata": {
        "id": "B229UyChJCFh",
        "colab_type": "text"
      },
      "source": [
        "###Trích xuất vùng chuyển động"
      ]
    },
    {
      "cell_type": "code",
      "metadata": {
        "id": "h_-ry_V5JeQv",
        "colab_type": "code",
        "colab": {}
      },
      "source": [
        "def MRM(prvs, next, hsv):\n",
        "    #Trích xuất dòng quang từ 2 frame gần nhau\n",
        "    gray = OpticalFlow(prvs, next, hsv)\n",
        "    '''if s == 3:\n",
        "    flowx = cv2.normalize(flow[...,0],None,0,255,cv2.NORM_MINMAX)\n",
        "    cv2_imshow(flowx)\n",
        "    flowy = cv2.normalize(flow[...,1],None,0,255,cv2.NORM_MINMAX)\n",
        "    cv2_imshow(flowy)'''\n",
        "    '''Tăng độ nét cho ảnh dòng quang\n",
        "    kernel = np.array([[-1, -1, -1], [-1, 9, -1], [-1, -1, -1]])\n",
        "    sharpen = cv2.filter2D(hsv, -1, kernel)\n",
        "    canny1 = CvCanny(sharpen)'''\n",
        "    #Phát hiện cạnh\n",
        "    canny = CvCanny(gray)\n",
        "    #gray = cv2.cvtColor(bgr, cv2.COLOR_BGR2GRAY)\n",
        "    #cv2_imshow(gray)    \n",
        "    '''gray1 = cv2.filter2D(gray, -1, kernel)[...,::-1]\n",
        "    gray = cv2.ximgproc.guidedFilter(gray, gray1, radius=2, eps=0.004, dDepth=-1)[...,::-1]\n",
        "    canny3 = CvCanny(gray)\n",
        "    cv2_imshow(gray)'''\n",
        "    #Đóng các nét hở và lấp đầy\n",
        "    kernel = np.ones((5,5),np.uint8)\n",
        "    closing = cv2.morphologyEx(canny, cv2.MORPH_CLOSE, kernel)\n",
        "    '''h, w = closing.shape[:2]\n",
        "    mask = np.zeros((h+2, w+2), np.uint8)\n",
        "    im_floodfill = closing.copy()\n",
        "    cv2.floodFill(im_floodfill, mask, (0,0), 255);\n",
        "    im_floodfill_inv = cv2.bitwise_not(im_floodfill)\n",
        "    floodfill = closing | im_floodfill'''\n",
        "\n",
        "    #Lấp đầy những lỗ hổng trong vùng chuyển động\n",
        "    contour,hier = cv2.findContours(closing,cv2.RETR_CCOMP,cv2.CHAIN_APPROX_SIMPLE)\n",
        "    for cnt in contour:\n",
        "        cv2.drawContours(closing,[cnt],0,255,-1)\n",
        "    \n",
        "    #Xóa bỏ những nét thừa\n",
        "    opening = cv2.morphologyEx(closing, cv2.MORPH_OPEN, kernel)\n",
        "    \n",
        "    return opening"
      ],
      "execution_count": 16,
      "outputs": []
    },
    {
      "cell_type": "markdown",
      "metadata": {
        "id": "nUUzqEw5ZU53",
        "colab_type": "text"
      },
      "source": [
        "#Trích xuất đặc trưng\n"
      ]
    },
    {
      "cell_type": "markdown",
      "metadata": {
        "id": "2uK31gy7ZlKu",
        "colab_type": "text"
      },
      "source": [
        "##Vùng quan tâm\n",
        "\n",
        "Xem vùng chuyển động như là một vùng quan tâm (ROI), áp dụng ROI vào ảnh xám"
      ]
    },
    {
      "cell_type": "code",
      "metadata": {
        "id": "5bvJsHZiUBCU",
        "colab_type": "code",
        "colab": {}
      },
      "source": [
        "def apply_roi(img, roi):\n",
        "  #thresh, roi = cv2.threshold(roi, thresh=128, maxval=1, type=cv2.THRESH_BINARY)\n",
        "  new_img = img * roi\n",
        "  return new_img"
      ],
      "execution_count": 11,
      "outputs": []
    },
    {
      "cell_type": "markdown",
      "metadata": {
        "id": "SIVRF_Wdaeir",
        "colab_type": "text"
      },
      "source": [
        "##Trích xuất đặc trưng"
      ]
    },
    {
      "cell_type": "code",
      "metadata": {
        "id": "8XGNx6GVsfYg",
        "colab_type": "code",
        "colab": {}
      },
      "source": [
        "def extract_features(path, label, descriptor_list, labels):\n",
        "    #Lấy danh sách các clip trong path \n",
        "    videoPaths = [join(path, f) for f in listdir(path) if isfile(join(path, f))]\n",
        "    for videoPath in videoPaths:\n",
        "\n",
        "        #Đọc video\n",
        "        cap = cv2.VideoCapture(videoPath)\n",
        "        videoPaths = [join(path, f) for f in listdir(path) if isfile(join(path, f))]\n",
        "\n",
        "        ret, frame1 = cap.read()\n",
        "        if not ret:\n",
        "          break;\n",
        "        #Thay đổi kích thước frame\n",
        "        frame1 = cv2.resize(frame1, (160, 120))\n",
        "        prvs = cv2.cvtColor(frame1,cv2.COLOR_BGR2GRAY)\n",
        "        hsv = np.zeros_like(frame1)\n",
        "        hsv[...,1] = 255\n",
        "        s = 1\n",
        "        while(cap.isOpened()):\n",
        "            ret, frame2 = cap.read()\n",
        "\n",
        "            if not ret:\n",
        "                break;\n",
        "\n",
        "            if s % 6 == 0:\n",
        "                frame2 = cv2.resize(frame2, (160, 120))\n",
        "                next = cv2.cvtColor(frame2,cv2.COLOR_BGR2GRAY)\n",
        "                mrm = MRM(prvs, next, hsv)\n",
        "\n",
        "                after_roi = apply_roi(next, mrm)\n",
        "                descriptor = hog(after_roi, orientations=12, pixels_per_cell=(4, 4), cells_per_block=(2,2), block_norm='L2-Hys', visualize=False)\n",
        "                descriptor_list.append(descriptor)\n",
        "                labels.append(label)\n",
        "                prvs = next\n",
        "            s += 1\n",
        "\n",
        "        print(videoPath + \"---done--\")\n"
      ],
      "execution_count": 12,
      "outputs": []
    },
    {
      "cell_type": "code",
      "metadata": {
        "id": "q0RQnGm3C5E5",
        "colab_type": "code",
        "colab": {}
      },
      "source": [
        "labels = []\n",
        "descriptor_list = []"
      ],
      "execution_count": 13,
      "outputs": []
    },
    {
      "cell_type": "code",
      "metadata": {
        "id": "X4HK8LXbCnHA",
        "colab_type": "code",
        "colab": {
          "base_uri": "https://localhost:8080/",
          "height": 1000
        },
        "outputId": "f83f5d95-d9b1-4b8f-8b87-df01a0ab06e2"
      },
      "source": [
        "path = \"/content/drive/My Drive/Machine Lol/Data/Phu/Cobaoluc\"\n",
        "extract_features(path, 0, descriptor_list, labels)\n",
        "path = \"/content/drive/My Drive/Machine Lol/Data/Phu/Khongbaoluc\"\n",
        "extract_features(path, 1, descriptor_list, labels)"
      ],
      "execution_count": 17,
      "outputs": [
        {
          "output_type": "stream",
          "text": [
            "/content/drive/My Drive/Machine Lol/Data/Phu/Cobaoluc/272.mp4---done--\n",
            "/content/drive/My Drive/Machine Lol/Data/Phu/Cobaoluc/273.mp4---done--\n",
            "/content/drive/My Drive/Machine Lol/Data/Phu/Cobaoluc/274.mp4---done--\n",
            "/content/drive/My Drive/Machine Lol/Data/Phu/Cobaoluc/275.mp4---done--\n",
            "/content/drive/My Drive/Machine Lol/Data/Phu/Cobaoluc/276.mp4---done--\n",
            "/content/drive/My Drive/Machine Lol/Data/Phu/Cobaoluc/277.mp4---done--\n",
            "/content/drive/My Drive/Machine Lol/Data/Phu/Cobaoluc/278.mp4---done--\n",
            "/content/drive/My Drive/Machine Lol/Data/Phu/Cobaoluc/279.mp4---done--\n",
            "/content/drive/My Drive/Machine Lol/Data/Phu/Cobaoluc/280.mp4---done--\n",
            "/content/drive/My Drive/Machine Lol/Data/Phu/Cobaoluc/281.mp4---done--\n",
            "/content/drive/My Drive/Machine Lol/Data/Phu/Cobaoluc/282.mp4---done--\n",
            "/content/drive/My Drive/Machine Lol/Data/Phu/Cobaoluc/283.mp4---done--\n",
            "/content/drive/My Drive/Machine Lol/Data/Phu/Cobaoluc/284.mp4---done--\n",
            "/content/drive/My Drive/Machine Lol/Data/Phu/Cobaoluc/285.mp4---done--\n",
            "/content/drive/My Drive/Machine Lol/Data/Phu/Cobaoluc/286.mp4---done--\n",
            "/content/drive/My Drive/Machine Lol/Data/Phu/Cobaoluc/287.mp4---done--\n",
            "/content/drive/My Drive/Machine Lol/Data/Phu/Cobaoluc/288.mp4---done--\n",
            "/content/drive/My Drive/Machine Lol/Data/Phu/Cobaoluc/289.mp4---done--\n",
            "/content/drive/My Drive/Machine Lol/Data/Phu/Cobaoluc/290.mp4---done--\n",
            "/content/drive/My Drive/Machine Lol/Data/Phu/Cobaoluc/291.mp4---done--\n",
            "/content/drive/My Drive/Machine Lol/Data/Phu/Cobaoluc/292.mp4---done--\n",
            "/content/drive/My Drive/Machine Lol/Data/Phu/Cobaoluc/293.mp4---done--\n",
            "/content/drive/My Drive/Machine Lol/Data/Phu/Cobaoluc/294.mp4---done--\n",
            "/content/drive/My Drive/Machine Lol/Data/Phu/Cobaoluc/295.mp4---done--\n",
            "/content/drive/My Drive/Machine Lol/Data/Phu/Cobaoluc/296.mp4---done--\n",
            "/content/drive/My Drive/Machine Lol/Data/Phu/Cobaoluc/297.mp4---done--\n",
            "/content/drive/My Drive/Machine Lol/Data/Phu/Cobaoluc/298.mp4---done--\n",
            "/content/drive/My Drive/Machine Lol/Data/Phu/Cobaoluc/299.mp4---done--\n",
            "/content/drive/My Drive/Machine Lol/Data/Phu/Cobaoluc/300.mp4---done--\n",
            "/content/drive/My Drive/Machine Lol/Data/Phu/Cobaoluc/301.mp4---done--\n",
            "/content/drive/My Drive/Machine Lol/Data/Phu/Cobaoluc/302.mp4---done--\n",
            "/content/drive/My Drive/Machine Lol/Data/Phu/Cobaoluc/303.mp4---done--\n",
            "/content/drive/My Drive/Machine Lol/Data/Phu/Cobaoluc/304.mp4---done--\n",
            "/content/drive/My Drive/Machine Lol/Data/Phu/Cobaoluc/305.mp4---done--\n",
            "/content/drive/My Drive/Machine Lol/Data/Phu/Cobaoluc/306.mp4---done--\n",
            "/content/drive/My Drive/Machine Lol/Data/Phu/Cobaoluc/307.mp4---done--\n",
            "/content/drive/My Drive/Machine Lol/Data/Phu/Cobaoluc/308.mp4---done--\n",
            "/content/drive/My Drive/Machine Lol/Data/Phu/Cobaoluc/309.mp4---done--\n",
            "/content/drive/My Drive/Machine Lol/Data/Phu/Cobaoluc/310.mp4---done--\n",
            "/content/drive/My Drive/Machine Lol/Data/Phu/Cobaoluc/311.mp4---done--\n",
            "/content/drive/My Drive/Machine Lol/Data/Phu/Cobaoluc/312.mp4---done--\n",
            "/content/drive/My Drive/Machine Lol/Data/Phu/Cobaoluc/313.mp4---done--\n",
            "/content/drive/My Drive/Machine Lol/Data/Phu/Cobaoluc/314.mp4---done--\n",
            "/content/drive/My Drive/Machine Lol/Data/Phu/Cobaoluc/315.mp4---done--\n",
            "/content/drive/My Drive/Machine Lol/Data/Phu/Cobaoluc/316.mp4---done--\n",
            "/content/drive/My Drive/Machine Lol/Data/Phu/Cobaoluc/317.mp4---done--\n",
            "/content/drive/My Drive/Machine Lol/Data/Phu/Cobaoluc/318.mp4---done--\n",
            "/content/drive/My Drive/Machine Lol/Data/Phu/Cobaoluc/319.mp4---done--\n",
            "/content/drive/My Drive/Machine Lol/Data/Phu/Cobaoluc/320.mp4---done--\n",
            "/content/drive/My Drive/Machine Lol/Data/Phu/Cobaoluc/321.mp4---done--\n",
            "/content/drive/My Drive/Machine Lol/Data/Phu/Cobaoluc/322.mp4---done--\n",
            "/content/drive/My Drive/Machine Lol/Data/Phu/Cobaoluc/323.mp4---done--\n",
            "/content/drive/My Drive/Machine Lol/Data/Phu/Cobaoluc/324.mp4---done--\n",
            "/content/drive/My Drive/Machine Lol/Data/Phu/Cobaoluc/325.mp4---done--\n",
            "/content/drive/My Drive/Machine Lol/Data/Phu/Cobaoluc/326.mp4---done--\n",
            "/content/drive/My Drive/Machine Lol/Data/Phu/Cobaoluc/327.mp4---done--\n",
            "/content/drive/My Drive/Machine Lol/Data/Phu/Cobaoluc/328.mp4---done--\n",
            "/content/drive/My Drive/Machine Lol/Data/Phu/Cobaoluc/329.mp4---done--\n",
            "/content/drive/My Drive/Machine Lol/Data/Phu/Cobaoluc/330.mp4---done--\n",
            "/content/drive/My Drive/Machine Lol/Data/Phu/Cobaoluc/331.mp4---done--\n",
            "/content/drive/My Drive/Machine Lol/Data/Phu/Cobaoluc/332.mp4---done--\n",
            "/content/drive/My Drive/Machine Lol/Data/Phu/Cobaoluc/333.mp4---done--\n",
            "/content/drive/My Drive/Machine Lol/Data/Phu/Cobaoluc/334.mp4---done--\n",
            "/content/drive/My Drive/Machine Lol/Data/Phu/Cobaoluc/335.mp4---done--\n",
            "/content/drive/My Drive/Machine Lol/Data/Phu/Cobaoluc/336.mp4---done--\n",
            "/content/drive/My Drive/Machine Lol/Data/Phu/Cobaoluc/337.mp4---done--\n",
            "/content/drive/My Drive/Machine Lol/Data/Phu/Cobaoluc/338.mp4---done--\n",
            "/content/drive/My Drive/Machine Lol/Data/Phu/Cobaoluc/339.mp4---done--\n",
            "/content/drive/My Drive/Machine Lol/Data/Phu/Cobaoluc/340.mp4---done--\n",
            "/content/drive/My Drive/Machine Lol/Data/Phu/Cobaoluc/341.mp4---done--\n",
            "/content/drive/My Drive/Machine Lol/Data/Phu/Cobaoluc/342.mp4---done--\n",
            "/content/drive/My Drive/Machine Lol/Data/Phu/Cobaoluc/343.mp4---done--\n",
            "/content/drive/My Drive/Machine Lol/Data/Phu/Cobaoluc/344.mp4---done--\n",
            "/content/drive/My Drive/Machine Lol/Data/Phu/Cobaoluc/345.mp4---done--\n",
            "/content/drive/My Drive/Machine Lol/Data/Phu/Cobaoluc/346.mp4---done--\n",
            "/content/drive/My Drive/Machine Lol/Data/Phu/Cobaoluc/347.mp4---done--\n",
            "/content/drive/My Drive/Machine Lol/Data/Phu/Cobaoluc/348.mp4---done--\n",
            "/content/drive/My Drive/Machine Lol/Data/Phu/Cobaoluc/349.mp4---done--\n",
            "/content/drive/My Drive/Machine Lol/Data/Phu/Cobaoluc/350.mp4---done--\n",
            "/content/drive/My Drive/Machine Lol/Data/Phu/Cobaoluc/351.mp4---done--\n",
            "/content/drive/My Drive/Machine Lol/Data/Phu/Cobaoluc/352.mp4---done--\n",
            "/content/drive/My Drive/Machine Lol/Data/Phu/Cobaoluc/353.mp4---done--\n",
            "/content/drive/My Drive/Machine Lol/Data/Phu/Cobaoluc/354.mp4---done--\n",
            "/content/drive/My Drive/Machine Lol/Data/Phu/Cobaoluc/355.mp4---done--\n",
            "/content/drive/My Drive/Machine Lol/Data/Phu/Cobaoluc/356.mp4---done--\n",
            "/content/drive/My Drive/Machine Lol/Data/Phu/Cobaoluc/357.mp4---done--\n",
            "/content/drive/My Drive/Machine Lol/Data/Phu/Cobaoluc/358.mp4---done--\n",
            "/content/drive/My Drive/Machine Lol/Data/Phu/Cobaoluc/359.mp4---done--\n",
            "/content/drive/My Drive/Machine Lol/Data/Phu/Cobaoluc/360.mp4---done--\n",
            "/content/drive/My Drive/Machine Lol/Data/Phu/Cobaoluc/361.mp4---done--\n",
            "/content/drive/My Drive/Machine Lol/Data/Phu/Cobaoluc/362.mp4---done--\n",
            "/content/drive/My Drive/Machine Lol/Data/Phu/Cobaoluc/363.mp4---done--\n",
            "/content/drive/My Drive/Machine Lol/Data/Phu/Cobaoluc/364.mp4---done--\n",
            "/content/drive/My Drive/Machine Lol/Data/Phu/Cobaoluc/365.mp4---done--\n",
            "/content/drive/My Drive/Machine Lol/Data/Phu/Cobaoluc/366.mp4---done--\n",
            "/content/drive/My Drive/Machine Lol/Data/Phu/Cobaoluc/367.mp4---done--\n",
            "/content/drive/My Drive/Machine Lol/Data/Phu/Cobaoluc/368.mp4---done--\n",
            "/content/drive/My Drive/Machine Lol/Data/Phu/Cobaoluc/369.mp4---done--\n",
            "/content/drive/My Drive/Machine Lol/Data/Phu/Cobaoluc/370.mp4---done--\n",
            "/content/drive/My Drive/Machine Lol/Data/Phu/Cobaoluc/371.mp4---done--\n",
            "/content/drive/My Drive/Machine Lol/Data/Phu/Cobaoluc/372.mp4---done--\n",
            "/content/drive/My Drive/Machine Lol/Data/Phu/Cobaoluc/373.mp4---done--\n",
            "/content/drive/My Drive/Machine Lol/Data/Phu/Cobaoluc/374.mp4---done--\n",
            "/content/drive/My Drive/Machine Lol/Data/Phu/Cobaoluc/375.mp4---done--\n",
            "/content/drive/My Drive/Machine Lol/Data/Phu/Cobaoluc/376.mp4---done--\n",
            "/content/drive/My Drive/Machine Lol/Data/Phu/Cobaoluc/377.mp4---done--\n",
            "/content/drive/My Drive/Machine Lol/Data/Phu/Cobaoluc/378.mp4---done--\n",
            "/content/drive/My Drive/Machine Lol/Data/Phu/Cobaoluc/379.mp4---done--\n",
            "/content/drive/My Drive/Machine Lol/Data/Phu/Cobaoluc/380.mp4---done--\n",
            "/content/drive/My Drive/Machine Lol/Data/Phu/Cobaoluc/381.mp4---done--\n",
            "/content/drive/My Drive/Machine Lol/Data/Phu/Cobaoluc/382.mp4---done--\n",
            "/content/drive/My Drive/Machine Lol/Data/Phu/Cobaoluc/383.mp4---done--\n",
            "/content/drive/My Drive/Machine Lol/Data/Phu/Cobaoluc/384.mp4---done--\n",
            "/content/drive/My Drive/Machine Lol/Data/Phu/Cobaoluc/385.mp4---done--\n",
            "/content/drive/My Drive/Machine Lol/Data/Phu/Cobaoluc/386.mp4---done--\n",
            "/content/drive/My Drive/Machine Lol/Data/Phu/Cobaoluc/387.mp4---done--\n",
            "/content/drive/My Drive/Machine Lol/Data/Phu/Cobaoluc/388.mp4---done--\n",
            "/content/drive/My Drive/Machine Lol/Data/Phu/Cobaoluc/389.mp4---done--\n",
            "/content/drive/My Drive/Machine Lol/Data/Phu/Cobaoluc/390.mp4---done--\n",
            "/content/drive/My Drive/Machine Lol/Data/Phu/Cobaoluc/391.mp4---done--\n",
            "/content/drive/My Drive/Machine Lol/Data/Phu/Cobaoluc/392.mp4---done--\n",
            "/content/drive/My Drive/Machine Lol/Data/Phu/Cobaoluc/393.mp4---done--\n",
            "/content/drive/My Drive/Machine Lol/Data/Phu/Cobaoluc/394.mp4---done--\n",
            "/content/drive/My Drive/Machine Lol/Data/Phu/Cobaoluc/395.mp4---done--\n",
            "/content/drive/My Drive/Machine Lol/Data/Phu/Cobaoluc/396.mp4---done--\n",
            "/content/drive/My Drive/Machine Lol/Data/Phu/Cobaoluc/397.mp4---done--\n",
            "/content/drive/My Drive/Machine Lol/Data/Phu/Cobaoluc/398.mp4---done--\n",
            "/content/drive/My Drive/Machine Lol/Data/Phu/Cobaoluc/399.mp4---done--\n",
            "/content/drive/My Drive/Machine Lol/Data/Phu/Cobaoluc/400.mp4---done--\n",
            "/content/drive/My Drive/Machine Lol/Data/Phu/Cobaoluc/401.mp4---done--\n",
            "/content/drive/My Drive/Machine Lol/Data/Phu/Cobaoluc/402.mp4---done--\n",
            "/content/drive/My Drive/Machine Lol/Data/Phu/Cobaoluc/403.mp4---done--\n",
            "/content/drive/My Drive/Machine Lol/Data/Phu/Cobaoluc/404.mp4---done--\n",
            "/content/drive/My Drive/Machine Lol/Data/Phu/Khongbaoluc/272.mp4---done--\n",
            "/content/drive/My Drive/Machine Lol/Data/Phu/Khongbaoluc/273.mp4---done--\n",
            "/content/drive/My Drive/Machine Lol/Data/Phu/Khongbaoluc/274.mp4---done--\n",
            "/content/drive/My Drive/Machine Lol/Data/Phu/Khongbaoluc/275.mp4---done--\n",
            "/content/drive/My Drive/Machine Lol/Data/Phu/Khongbaoluc/276.mp4---done--\n",
            "/content/drive/My Drive/Machine Lol/Data/Phu/Khongbaoluc/277.mp4---done--\n",
            "/content/drive/My Drive/Machine Lol/Data/Phu/Khongbaoluc/278.mp4---done--\n",
            "/content/drive/My Drive/Machine Lol/Data/Phu/Khongbaoluc/279.mp4---done--\n",
            "/content/drive/My Drive/Machine Lol/Data/Phu/Khongbaoluc/280.mp4---done--\n",
            "/content/drive/My Drive/Machine Lol/Data/Phu/Khongbaoluc/281.mp4---done--\n",
            "/content/drive/My Drive/Machine Lol/Data/Phu/Khongbaoluc/282.mp4---done--\n",
            "/content/drive/My Drive/Machine Lol/Data/Phu/Khongbaoluc/283.mp4---done--\n",
            "/content/drive/My Drive/Machine Lol/Data/Phu/Khongbaoluc/284.mp4---done--\n",
            "/content/drive/My Drive/Machine Lol/Data/Phu/Khongbaoluc/285.mp4---done--\n",
            "/content/drive/My Drive/Machine Lol/Data/Phu/Khongbaoluc/286.mp4---done--\n",
            "/content/drive/My Drive/Machine Lol/Data/Phu/Khongbaoluc/287.mp4---done--\n",
            "/content/drive/My Drive/Machine Lol/Data/Phu/Khongbaoluc/288.mp4---done--\n",
            "/content/drive/My Drive/Machine Lol/Data/Phu/Khongbaoluc/289.mp4---done--\n",
            "/content/drive/My Drive/Machine Lol/Data/Phu/Khongbaoluc/290.mp4---done--\n"
          ],
          "name": "stdout"
        }
      ]
    },
    {
      "cell_type": "code",
      "metadata": {
        "id": "whE-AXUYCoPQ",
        "colab_type": "code",
        "colab": {
          "base_uri": "https://localhost:8080/",
          "height": 51
        },
        "outputId": "90cda823-63c6-41b9-97c0-238798461999"
      },
      "source": [
        "print(len(descriptor_list))\n",
        "print(len(labels))"
      ],
      "execution_count": 19,
      "outputs": [
        {
          "output_type": "stream",
          "text": [
            "2131\n",
            "2131\n"
          ],
          "name": "stdout"
        }
      ]
    },
    {
      "cell_type": "markdown",
      "metadata": {
        "id": "fmbZvh2EHorY",
        "colab_type": "text"
      },
      "source": [
        "###Lưu lại đặc trưng cho lần train tiếp theo"
      ]
    },
    {
      "cell_type": "code",
      "metadata": {
        "id": "rYZvYo6GFNzK",
        "colab_type": "code",
        "colab": {}
      },
      "source": [
        "import hickle as hck\n",
        "\n",
        "hck.dump(descriptor_list, '/content/drive/My Drive/Machine Lol/backup/data1.hkl', mode='w')\n",
        "\n",
        "hck.dump(labels, '/content/drive/My Drive/Machine Lol/backup/labels1.hkl', mode='w')"
      ],
      "execution_count": 27,
      "outputs": []
    },
    {
      "cell_type": "markdown",
      "metadata": {
        "id": "PlqWRw6FE1P8",
        "colab_type": "text"
      },
      "source": [
        "#Training model"
      ]
    },
    {
      "cell_type": "markdown",
      "metadata": {
        "id": "2RLBEMcKHSBu",
        "colab_type": "text"
      },
      "source": [
        "###Load Data Backup(Nếu có)"
      ]
    },
    {
      "cell_type": "code",
      "metadata": {
        "id": "RDZCtIA8FtvW",
        "colab_type": "code",
        "colab": {
          "base_uri": "https://localhost:8080/",
          "height": 34
        },
        "outputId": "9c42c873-d503-42d7-e55c-c02bce72a902"
      },
      "source": [
        "descriptor_list = hck.load('/content/drive/My Drive/Machine Lol/backup/data1.hkl')\n",
        "labels = hck.load('/content/drive/My Drive/Machine Lol/backup/labels1.hkl')\n",
        "\n",
        "print(len(descriptor_list))\n",
        "print(len(labels))"
      ],
      "execution_count": 28,
      "outputs": [
        {
          "output_type": "stream",
          "text": [
            "2131\n"
          ],
          "name": "stdout"
        }
      ]
    },
    {
      "cell_type": "markdown",
      "metadata": {
        "id": "VXMAvPfR-snT",
        "colab_type": "text"
      },
      "source": [
        "##Chia tỉ lệ Train|Test\n",
        "Tỉ lệ giữa data train và data test là 0.8|0.2"
      ]
    },
    {
      "cell_type": "code",
      "metadata": {
        "id": "r1aPF4rZ-r4C",
        "colab_type": "code",
        "colab": {}
      },
      "source": [
        "from sklearn.model_selection import train_test_split\n",
        "\n",
        "trainX, testX, trainY, testY = train_test_split(descriptor_list, labels,test_size =0.2, random_state=42)"
      ],
      "execution_count": 22,
      "outputs": []
    },
    {
      "cell_type": "markdown",
      "metadata": {
        "id": "xHLsEs5KE3mH",
        "colab_type": "text"
      },
      "source": [
        "##Model LogisticRegression"
      ]
    },
    {
      "cell_type": "code",
      "metadata": {
        "id": "FYIiIpPnE-ht",
        "colab_type": "code",
        "colab": {
          "base_uri": "https://localhost:8080/",
          "height": 68
        },
        "outputId": "90b840f4-fd00-4233-e8ce-43b02e290665"
      },
      "source": [
        "\n",
        "from sklearn.linear_model import LogisticRegression\n",
        "from sklearn.metrics import precision_recall_fscore_support\n",
        "\n",
        "lr = LogisticRegression()\n",
        "\n",
        "lr.fit(trainX, trainY)\n",
        "\n",
        "\n",
        "print(lr.score(trainX, trainY))\n",
        "print(lr.score(testX, testY))\n",
        "\n",
        "predY = lr.predict(testX)\n",
        "\n",
        "print(precision_recall_fscore_support(testY, predY, average='macro'))"
      ],
      "execution_count": 29,
      "outputs": [
        {
          "output_type": "stream",
          "text": [
            "1.0\n",
            "0.9578454332552693\n",
            "(0.9772151898734177, 0.8200000000000001, 0.8785858713509415, None)\n"
          ],
          "name": "stdout"
        }
      ]
    },
    {
      "cell_type": "markdown",
      "metadata": {
        "id": "5KZZLCt4FCa-",
        "colab_type": "text"
      },
      "source": [
        "##Model GaussianNB"
      ]
    },
    {
      "cell_type": "code",
      "metadata": {
        "id": "KAfGi8xXFFRn",
        "colab_type": "code",
        "colab": {
          "base_uri": "https://localhost:8080/",
          "height": 68
        },
        "outputId": "52de4749-5f3a-4cd9-b49e-93cb88d3e8d1"
      },
      "source": [
        "from sklearn.naive_bayes import GaussianNB\n",
        "\n",
        "gnb = GaussianNB()\n",
        "\n",
        "\n",
        "gnb.fit(trainX, trainY)\n",
        "\n",
        "print(gnb.score(trainX, trainY))\n",
        "print(gnb.score(testX, testY))\n",
        "\n",
        "predY = gnb.predict(testX)\n",
        "\n",
        "print(precision_recall_fscore_support(testY, predY, average='macro'))"
      ],
      "execution_count": 31,
      "outputs": [
        {
          "output_type": "stream",
          "text": [
            "0.9536384976525821\n",
            "0.9250585480093677\n",
            "(0.8353682170542636, 0.7754111405835544, 0.8012798138452589, None)\n"
          ],
          "name": "stdout"
        }
      ]
    },
    {
      "cell_type": "markdown",
      "metadata": {
        "id": "3ocz2dXmFITg",
        "colab_type": "text"
      },
      "source": [
        "##Model RandomForestClassifier"
      ]
    },
    {
      "cell_type": "code",
      "metadata": {
        "id": "gNKcT4nOFLM-",
        "colab_type": "code",
        "colab": {
          "base_uri": "https://localhost:8080/",
          "height": 68
        },
        "outputId": "143d34d9-8e74-47a4-f339-dd3fdb04b655"
      },
      "source": [
        "from sklearn.ensemble import RandomForestClassifier\n",
        "\n",
        "rfc = RandomForestClassifier(n_estimators= 10, random_state= 0)\n",
        "\n",
        "rfc.fit(trainX, trainY)\n",
        "\n",
        "print(rfc.score(trainX, trainY))\n",
        "print(rfc.score(testX, testY))\n",
        "\n",
        "predY = rfc.predict(testX)\n",
        "\n",
        "print(precision_recall_fscore_support(testY, predY, average='macro'))"
      ],
      "execution_count": 32,
      "outputs": [
        {
          "output_type": "stream",
          "text": [
            "0.9865023474178404\n",
            "0.9086651053864169\n",
            "(0.953125, 0.61, 0.6557377049180327, None)\n"
          ],
          "name": "stdout"
        }
      ]
    },
    {
      "cell_type": "markdown",
      "metadata": {
        "id": "LU_6yjq9FObW",
        "colab_type": "text"
      },
      "source": [
        "##Model SVM"
      ]
    },
    {
      "cell_type": "code",
      "metadata": {
        "id": "HrxVSotiFRlU",
        "colab_type": "code",
        "colab": {
          "base_uri": "https://localhost:8080/",
          "height": 68
        },
        "outputId": "a7ab4927-6f4e-4387-dd6f-83084068fc62"
      },
      "source": [
        "from sklearn import svm\n",
        "\n",
        "lsvc = svm.SVC()\n",
        "lsvc.fit(trainX, trainY)\n",
        "\n",
        "print(lsvc.score(trainX, trainY))\n",
        "print(lsvc.score(testX, testY))\n",
        "\n",
        "predY = lsvc.predict(testX)\n",
        "\n",
        "print(precision_recall_fscore_support(testY, predY, average='macro'))"
      ],
      "execution_count": 33,
      "outputs": [
        {
          "output_type": "stream",
          "text": [
            "0.9917840375586855\n",
            "0.9250585480093677\n",
            "(0.960880195599022, 0.6799999999999999, 0.744349648256249, None)\n"
          ],
          "name": "stdout"
        }
      ]
    },
    {
      "cell_type": "markdown",
      "metadata": {
        "id": "jcW-6P0HG9Y5",
        "colab_type": "text"
      },
      "source": [
        "#Ứng dụng"
      ]
    },
    {
      "cell_type": "code",
      "metadata": {
        "id": "PMBc36W5H5Tf",
        "colab_type": "code",
        "colab": {}
      },
      "source": [
        ""
      ],
      "execution_count": null,
      "outputs": []
    }
  ]
}