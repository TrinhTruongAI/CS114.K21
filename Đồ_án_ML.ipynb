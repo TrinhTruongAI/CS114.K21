{
  "nbformat": 4,
  "nbformat_minor": 0,
  "metadata": {
    "colab": {
      "name": "Bản sao của Đồ_án_ML.ipynb",
      "provenance": [],
      "collapsed_sections": [],
      "toc_visible": true,
      "include_colab_link": true
    },
    "kernelspec": {
      "name": "python3",
      "display_name": "Python 3"
    },
    "accelerator": "GPU"
  },
  "cells": [
    {
      "cell_type": "markdown",
      "metadata": {
        "id": "view-in-github",
        "colab_type": "text"
      },
      "source": [
        "<a href=\"https://colab.research.google.com/github/UITTrinhQuangTruong/CS114.K21/blob/master/%C4%90%E1%BB%93_%C3%A1n_ML.ipynb\" target=\"_parent\"><img src=\"https://colab.research.google.com/assets/colab-badge.svg\" alt=\"Open In Colab\"/></a>"
      ]
    },
    {
      "cell_type": "markdown",
      "metadata": {
        "id": "8XYHZRU2ahCS",
        "colab_type": "text"
      },
      "source": [
        "#Tóm tắt bài toán"
      ]
    },
    {
      "cell_type": "markdown",
      "metadata": {
        "id": "u-zF1-NmanN2",
        "colab_type": "text"
      },
      "source": [
        "Input: một video bất kì\n",
        "\n",
        "Output: phát hiện những cảnh đánh nhau (nếu có) trong video\n"
      ]
    },
    {
      "cell_type": "markdown",
      "metadata": {
        "id": "IgtkOfK5adDR",
        "colab_type": "text"
      },
      "source": [
        "#Thu thập dữ liệu"
      ]
    },
    {
      "cell_type": "markdown",
      "metadata": {
        "id": "stv-zWepavP2",
        "colab_type": "text"
      },
      "source": [
        "Dữ liệu nhóm tự thu thập bằng việc download các video có cảnh đánh nhau được camera quan sát ghi lại trên mạng xã hội như facebook, youtube…. Với tổng số khoảng gần 200 video.\n",
        "\n",
        "Tiến hành chia video thành các đoạn clip nhỏ với 90 khung hình trên thời lượng 3s.\n",
        "\n",
        "Sàng lọc, lựa ra những clip chỉ chứa cảnh đánh nhau và clip không chứa cảnh đánh nhau.\n",
        "\n",
        "Tổng số clip sau khi sàng lọc từ việc cắt video là 817 clip trong đó:\n",
        "\n",
        "+ 405 clip chỉ chứa cảnh đánh nhau.\n",
        "\n",
        "+ 412 clip không chứa cảnh đánh nhau."
      ]
    },
    {
      "cell_type": "markdown",
      "metadata": {
        "id": "2S7VR2kxBgZ3",
        "colab_type": "text"
      },
      "source": [
        "#Tiền xử lý Dữ liệu"
      ]
    },
    {
      "cell_type": "markdown",
      "metadata": {
        "id": "zlSprLNcBjrs",
        "colab_type": "text"
      },
      "source": [
        "## Import các thư viện cần thiết"
      ]
    },
    {
      "cell_type": "code",
      "metadata": {
        "id": "iczFFAI2_dJk",
        "colab_type": "code",
        "colab": {}
      },
      "source": [
        "import numpy as np\n",
        "import cv2\n",
        "from google.colab.patches import cv2_imshow\n",
        "from skimage.feature import hog\n",
        "from sklearn.cluster import KMeans\n",
        "from os import listdir\n",
        "from os.path import isfile, join\n",
        "\n",
        "from sklearn.metrics import precision_recall_fscore_support"
      ],
      "execution_count": null,
      "outputs": []
    },
    {
      "cell_type": "markdown",
      "metadata": {
        "id": "SkMi69E2Bzou",
        "colab_type": "text"
      },
      "source": [
        "##Trích xuất Optical flow bằng thuật toán TVL1 có trong OpenCV\n",
        " "
      ]
    },
    {
      "cell_type": "markdown",
      "metadata": {
        "id": "nNo6ptiKCVR-",
        "colab_type": "text"
      },
      "source": [
        "### Định nghĩa về Optical flow\n",
        "Optical Flow là khái niệm chỉ sự chuyển động tương đối của các điểm trên bề mặt một đối tượng, vật thể nào đó gây ra, dưới góc quan sát của một điểm mốc (mắt, camera…).\n",
        "\n",
        "Dễ hiểu là biểu diễn điểm khác biệt giữa 2 khung hình do vật thể di chuyển gây ra.\n",
        "\n",
        "![Hình ảnh mô tả Optical flow của các xe](https://opencv-python-tutroals.readthedocs.io/en/latest/_images/opticalflow_lk.jpg)"
      ]
    },
    {
      "cell_type": "markdown",
      "metadata": {
        "id": "XluYq0cBE_vM",
        "colab_type": "text"
      },
      "source": [
        "###Các bước thực hiện\n",
        "B1: Định nghĩa đối tượng bằng hàm DualTVL1OpticalFlow_create()\n",
        "\n",
        "B2: Tính flowx, flowy của 2 frame gần nhau bằng hàm calc. Với flowx là Optical Flow theo hướng x và tương tự với y\n",
        "\n",
        "B3: Tính mag = sqrt(flowx + flowy)\n",
        "\n",
        "B4: Normalize mag về ảnh hsv\n",
        "\n",
        "B5: Chuyển ảnh về định dạng Grayscale"
      ]
    },
    {
      "cell_type": "code",
      "metadata": {
        "id": "HiUb_HgBAxrr",
        "colab_type": "code",
        "colab": {}
      },
      "source": [
        "optical_flow = cv2.optflow_DualTVL1OpticalFlow.create()\n",
        "def OpticalFlow(prvs, next, hsv):\n",
        "    \n",
        "    flow = optical_flow.calc(prvs, next, None)\n",
        "    mag, ang = cv2.cartToPolar(flow[...,0], flow[...,1])\n",
        "    hsv[...,0] = ang*180/np.pi/2\n",
        "    nom = np.zeros((160,120))\n",
        "    hsv[...,2] = cv2.normalize(mag,None,0,255,cv2.NORM_MINMAX)\n",
        "\n",
        "    bgr = cv2.cvtColor(hsv,cv2.COLOR_HSV2BGR)\n",
        "    gray = cv2.cvtColor(bgr, cv2.COLOR_BGR2GRAY)\n",
        "    return gray"
      ],
      "execution_count": null,
      "outputs": []
    },
    {
      "cell_type": "markdown",
      "metadata": {
        "id": "lA71J_NpHJHF",
        "colab_type": "text"
      },
      "source": [
        "##Trích xuất vùng chuyển động\n",
        "Từ ảnh Optimal Flow vừa tìm được ta trích xuất ra vùng có sự chuyển động\n"
      ]
    },
    {
      "cell_type": "markdown",
      "metadata": {
        "id": "wIj-XpZnH5Vl",
        "colab_type": "text"
      },
      "source": [
        "###Phát hiện cạnh với thuật toán Canny\n",
        "![Cận trên và dứoi](https://docs.opencv.org/trunk/hysteresis.jpg)\n",
        "\n",
        "Thuật toán Canny tham khảo thêm [tại đây](https://docs.opencv.org/trunk/da/d22/tutorial_py_canny.html)\n",
        "\n",
        "Hàm tìm maxVal và minVal tham khảo thêm [tại đây](https://www.pyimagesearch.com/2015/04/06/zero-parameter-automatic-canny-edge-detection-with-python-and-opencv/)"
      ]
    },
    {
      "cell_type": "code",
      "metadata": {
        "id": "TudPxCiaRvn1",
        "colab_type": "code",
        "colab": {}
      },
      "source": [
        "def CvCanny(matrix):\n",
        "  v = np.median(matrix)\n",
        "  sigma = 0.33\n",
        "  lower = int(max(0, (1.0 - sigma) * v))\n",
        "  upper = int(min(255, (1.0 + sigma) * v))\n",
        "  canny = cv2.Canny(matrix, lower, upper)\n",
        "  return canny"
      ],
      "execution_count": null,
      "outputs": []
    },
    {
      "cell_type": "markdown",
      "metadata": {
        "id": "B229UyChJCFh",
        "colab_type": "text"
      },
      "source": [
        "###Trích xuất vùng chuyển động"
      ]
    },
    {
      "cell_type": "code",
      "metadata": {
        "id": "h_-ry_V5JeQv",
        "colab_type": "code",
        "colab": {}
      },
      "source": [
        "def MRM(prvs, next, hsv):\n",
        "    #Trích xuất dòng quang từ 2 frame gần nhau\n",
        "    gray = OpticalFlow(prvs, next, hsv)\n",
        "\n",
        "    #Phát hiện cạnh\n",
        "    canny = CvCanny(gray)\n",
        "\n",
        "    #Đóng các nét hở và lấp đầy\n",
        "    kernel = np.ones((5,5),np.uint8)\n",
        "    closing = cv2.morphologyEx(canny, cv2.MORPH_CLOSE, kernel)\n",
        "\n",
        "    #Lấp đầy những lỗ hổng trong vùng chuyển động\n",
        "    contour,hier = cv2.findContours(closing,cv2.RETR_CCOMP,cv2.CHAIN_APPROX_SIMPLE)\n",
        "    for cnt in contour:\n",
        "        cv2.drawContours(closing,[cnt],0,255,-1)\n",
        "    \n",
        "    #Xóa bỏ những nét thừa\n",
        "    opening = cv2.morphologyEx(closing, cv2.MORPH_OPEN, kernel)\n",
        "    \n",
        "    return opening"
      ],
      "execution_count": null,
      "outputs": []
    },
    {
      "cell_type": "markdown",
      "metadata": {
        "id": "nUUzqEw5ZU53",
        "colab_type": "text"
      },
      "source": [
        "#Trích xuất đặc trưng\n"
      ]
    },
    {
      "cell_type": "markdown",
      "metadata": {
        "id": "2uK31gy7ZlKu",
        "colab_type": "text"
      },
      "source": [
        "##Vùng quan tâm\n",
        "\n",
        "Xem vùng chuyển động như là một vùng quan tâm (ROI), áp dụng ROI vào ảnh xám"
      ]
    },
    {
      "cell_type": "code",
      "metadata": {
        "id": "5bvJsHZiUBCU",
        "colab_type": "code",
        "colab": {}
      },
      "source": [
        "def apply_roi(img, roi):\n",
        "  #thresh, roi = cv2.threshold(roi, thresh=128, maxval=1, type=cv2.THRESH_BINARY)\n",
        "  new_img = img * roi\n",
        "  return new_img"
      ],
      "execution_count": null,
      "outputs": []
    },
    {
      "cell_type": "markdown",
      "metadata": {
        "id": "SIVRF_Wdaeir",
        "colab_type": "text"
      },
      "source": [
        "##Trích xuất đặc trưng"
      ]
    },
    {
      "cell_type": "markdown",
      "metadata": {
        "id": "SlaWFrnz5jni",
        "colab_type": "text"
      },
      "source": [
        "Đọc các clip dài 3s một vào.\n",
        "\n",
        "Cứ 6 frame lấy 1 frame, trích xuất dòng quang giữa 2 frame kề nhau\n",
        "\n",
        "Sử dụng HOG để trích xuất đặc trưng từ ảnh xám đã được gắn ROI"
      ]
    },
    {
      "cell_type": "code",
      "metadata": {
        "id": "8XGNx6GVsfYg",
        "colab_type": "code",
        "colab": {}
      },
      "source": [
        "def extract_features(path, label, descriptor_list, labels):\n",
        "    #Lấy danh sách các clip trong path \n",
        "    videoPaths = [join(path, f) for f in listdir(path) if isfile(join(path, f))]\n",
        "    for videoPath in videoPaths:\n",
        "\n",
        "        #Đọc video\n",
        "        cap = cv2.VideoCapture(videoPath)\n",
        "        videoPaths = [join(path, f) for f in listdir(path) if isfile(join(path, f))]\n",
        "\n",
        "        ret, frame1 = cap.read()\n",
        "        if not ret:\n",
        "          break;\n",
        "        #Thay đổi kích thước frame\n",
        "        frame1 = cv2.resize(frame1, (160, 120))\n",
        "        prvs = cv2.cvtColor(frame1,cv2.COLOR_BGR2GRAY)\n",
        "        hsv = np.zeros_like(frame1)\n",
        "        hsv[...,1] = 255\n",
        "        s = 1\n",
        "        while(cap.isOpened()):\n",
        "            ret, frame2 = cap.read()\n",
        "\n",
        "            if not ret:\n",
        "                break;\n",
        "\n",
        "            if s % 6 == 0:\n",
        "                frame2 = cv2.resize(frame2, (160, 120))\n",
        "                next = cv2.cvtColor(frame2,cv2.COLOR_BGR2GRAY)\n",
        "                \n",
        "                #trích xuất vùng chuyển động giữa hai frame\n",
        "                mrm = MRM(prvs, next, hsv)\n",
        "\n",
        "                #Áp dụng ROI vào ảnh xám\n",
        "                after_roi = apply_roi(next, mrm)\n",
        "\n",
        "                #Trích xuất đặc trưng bằng HOG\n",
        "                descriptor = hog(after_roi, orientations=12, pixels_per_cell=(4, 4), cells_per_block=(2,2), block_norm='L2-Hys', visualize=False)\n",
        "                descriptor_list.append(descriptor)\n",
        "                \n",
        "                #Gắn nhãn\n",
        "                labels.append(label)\n",
        "                \n",
        "                #Lưu frame hiện tại\n",
        "                prvs = next\n",
        "            s += 1\n",
        "\n",
        "        print(videoPath + \"---done--\")\n"
      ],
      "execution_count": null,
      "outputs": []
    },
    {
      "cell_type": "code",
      "metadata": {
        "id": "q0RQnGm3C5E5",
        "colab_type": "code",
        "colab": {}
      },
      "source": [
        "labels = []\n",
        "descriptor_list = []"
      ],
      "execution_count": null,
      "outputs": []
    },
    {
      "cell_type": "markdown",
      "metadata": {
        "id": "XcGbHB7DcAOV",
        "colab_type": "text"
      },
      "source": [
        "Lấy đặc trưng và gắn nhãn cho từng clip"
      ]
    },
    {
      "cell_type": "code",
      "metadata": {
        "id": "X4HK8LXbCnHA",
        "colab_type": "code",
        "colab": {
          "base_uri": "https://localhost:8080/",
          "height": 1000
        },
        "outputId": "21f89f93-97dc-4d30-c699-5dedfcab97a5"
      },
      "source": [
        "path = \"/content/drive/My Drive/Machine Lol/Data/Của Trường/Cobaoluc\"\n",
        "extract_features(path, 0, descriptor_list, labels)\n",
        "path = \"/content/drive/My Drive/Machine Lol/Data/Của Trường/khongbaoluc\"\n",
        "extract_features(path, 1, descriptor_list, labels)"
      ],
      "execution_count": null,
      "outputs": [
        {
          "output_type": "stream",
          "text": [
            "/content/drive/My Drive/Machine Lol/Data/Của Trường/Cobaoluc/136.mp4---done--\n",
            "/content/drive/My Drive/Machine Lol/Data/Của Trường/Cobaoluc/137.mp4---done--\n",
            "/content/drive/My Drive/Machine Lol/Data/Của Trường/Cobaoluc/138.mp4---done--\n",
            "/content/drive/My Drive/Machine Lol/Data/Của Trường/Cobaoluc/139.mp4---done--\n",
            "/content/drive/My Drive/Machine Lol/Data/Của Trường/Cobaoluc/140.mp4---done--\n",
            "/content/drive/My Drive/Machine Lol/Data/Của Trường/Cobaoluc/141.mp4---done--\n",
            "/content/drive/My Drive/Machine Lol/Data/Của Trường/Cobaoluc/142.mp4---done--\n",
            "/content/drive/My Drive/Machine Lol/Data/Của Trường/Cobaoluc/143.mp4---done--\n",
            "/content/drive/My Drive/Machine Lol/Data/Của Trường/Cobaoluc/144.mp4---done--\n",
            "/content/drive/My Drive/Machine Lol/Data/Của Trường/Cobaoluc/145.mp4---done--\n",
            "/content/drive/My Drive/Machine Lol/Data/Của Trường/Cobaoluc/146.mp4---done--\n",
            "/content/drive/My Drive/Machine Lol/Data/Của Trường/Cobaoluc/147.mp4---done--\n",
            "/content/drive/My Drive/Machine Lol/Data/Của Trường/Cobaoluc/148.mp4---done--\n",
            "/content/drive/My Drive/Machine Lol/Data/Của Trường/Cobaoluc/149.mp4---done--\n",
            "/content/drive/My Drive/Machine Lol/Data/Của Trường/Cobaoluc/150.mp4---done--\n",
            "/content/drive/My Drive/Machine Lol/Data/Của Trường/Cobaoluc/151.mp4---done--\n",
            "/content/drive/My Drive/Machine Lol/Data/Của Trường/Cobaoluc/152.mp4---done--\n",
            "/content/drive/My Drive/Machine Lol/Data/Của Trường/Cobaoluc/153.mp4---done--\n",
            "/content/drive/My Drive/Machine Lol/Data/Của Trường/Cobaoluc/154.mp4---done--\n",
            "/content/drive/My Drive/Machine Lol/Data/Của Trường/Cobaoluc/155.mp4---done--\n",
            "/content/drive/My Drive/Machine Lol/Data/Của Trường/Cobaoluc/156.mp4---done--\n",
            "/content/drive/My Drive/Machine Lol/Data/Của Trường/Cobaoluc/157.mp4---done--\n",
            "/content/drive/My Drive/Machine Lol/Data/Của Trường/Cobaoluc/158.mp4---done--\n",
            "/content/drive/My Drive/Machine Lol/Data/Của Trường/Cobaoluc/159.mp4---done--\n",
            "/content/drive/My Drive/Machine Lol/Data/Của Trường/Cobaoluc/160.mp4---done--\n",
            "/content/drive/My Drive/Machine Lol/Data/Của Trường/Cobaoluc/161.mp4---done--\n",
            "/content/drive/My Drive/Machine Lol/Data/Của Trường/Cobaoluc/162.mp4---done--\n",
            "/content/drive/My Drive/Machine Lol/Data/Của Trường/Cobaoluc/163.mp4---done--\n",
            "/content/drive/My Drive/Machine Lol/Data/Của Trường/Cobaoluc/164.mp4---done--\n",
            "/content/drive/My Drive/Machine Lol/Data/Của Trường/Cobaoluc/165.mp4---done--\n",
            "/content/drive/My Drive/Machine Lol/Data/Của Trường/Cobaoluc/166.mp4---done--\n",
            "/content/drive/My Drive/Machine Lol/Data/Của Trường/Cobaoluc/167.mp4---done--\n",
            "/content/drive/My Drive/Machine Lol/Data/Của Trường/Cobaoluc/168.mp4---done--\n",
            "/content/drive/My Drive/Machine Lol/Data/Của Trường/Cobaoluc/169.mp4---done--\n",
            "/content/drive/My Drive/Machine Lol/Data/Của Trường/Cobaoluc/170.mp4---done--\n",
            "/content/drive/My Drive/Machine Lol/Data/Của Trường/Cobaoluc/171.mp4---done--\n",
            "/content/drive/My Drive/Machine Lol/Data/Của Trường/Cobaoluc/172.mp4---done--\n",
            "/content/drive/My Drive/Machine Lol/Data/Của Trường/Cobaoluc/173.mp4---done--\n",
            "/content/drive/My Drive/Machine Lol/Data/Của Trường/Cobaoluc/174.mp4---done--\n",
            "/content/drive/My Drive/Machine Lol/Data/Của Trường/Cobaoluc/175.mp4---done--\n",
            "/content/drive/My Drive/Machine Lol/Data/Của Trường/Cobaoluc/176.mp4---done--\n",
            "/content/drive/My Drive/Machine Lol/Data/Của Trường/Cobaoluc/177.mp4---done--\n",
            "/content/drive/My Drive/Machine Lol/Data/Của Trường/Cobaoluc/178.mp4---done--\n",
            "/content/drive/My Drive/Machine Lol/Data/Của Trường/Cobaoluc/179.mp4---done--\n",
            "/content/drive/My Drive/Machine Lol/Data/Của Trường/Cobaoluc/180.mp4---done--\n",
            "/content/drive/My Drive/Machine Lol/Data/Của Trường/Cobaoluc/181.mp4---done--\n",
            "/content/drive/My Drive/Machine Lol/Data/Của Trường/Cobaoluc/182.mp4---done--\n",
            "/content/drive/My Drive/Machine Lol/Data/Của Trường/Cobaoluc/183.mp4---done--\n",
            "/content/drive/My Drive/Machine Lol/Data/Của Trường/Cobaoluc/184.mp4---done--\n",
            "/content/drive/My Drive/Machine Lol/Data/Của Trường/Cobaoluc/185.mp4---done--\n",
            "/content/drive/My Drive/Machine Lol/Data/Của Trường/Cobaoluc/186.mp4---done--\n",
            "/content/drive/My Drive/Machine Lol/Data/Của Trường/Cobaoluc/187.mp4---done--\n",
            "/content/drive/My Drive/Machine Lol/Data/Của Trường/Cobaoluc/188.mp4---done--\n",
            "/content/drive/My Drive/Machine Lol/Data/Của Trường/Cobaoluc/189.mp4---done--\n",
            "/content/drive/My Drive/Machine Lol/Data/Của Trường/Cobaoluc/190.mp4---done--\n",
            "/content/drive/My Drive/Machine Lol/Data/Của Trường/Cobaoluc/191.mp4---done--\n",
            "/content/drive/My Drive/Machine Lol/Data/Của Trường/Cobaoluc/192.mp4---done--\n",
            "/content/drive/My Drive/Machine Lol/Data/Của Trường/Cobaoluc/193.mp4---done--\n",
            "/content/drive/My Drive/Machine Lol/Data/Của Trường/Cobaoluc/194.mp4---done--\n",
            "/content/drive/My Drive/Machine Lol/Data/Của Trường/Cobaoluc/195.mp4---done--\n",
            "/content/drive/My Drive/Machine Lol/Data/Của Trường/Cobaoluc/196.mp4---done--\n",
            "/content/drive/My Drive/Machine Lol/Data/Của Trường/Cobaoluc/197.mp4---done--\n",
            "/content/drive/My Drive/Machine Lol/Data/Của Trường/Cobaoluc/198.mp4---done--\n",
            "/content/drive/My Drive/Machine Lol/Data/Của Trường/Cobaoluc/199.mp4---done--\n",
            "/content/drive/My Drive/Machine Lol/Data/Của Trường/Cobaoluc/200.mp4---done--\n",
            "/content/drive/My Drive/Machine Lol/Data/Của Trường/Cobaoluc/201.mp4---done--\n",
            "/content/drive/My Drive/Machine Lol/Data/Của Trường/Cobaoluc/202.mp4---done--\n",
            "/content/drive/My Drive/Machine Lol/Data/Của Trường/Cobaoluc/203.mp4---done--\n",
            "/content/drive/My Drive/Machine Lol/Data/Của Trường/Cobaoluc/204.mp4---done--\n",
            "/content/drive/My Drive/Machine Lol/Data/Của Trường/Cobaoluc/205.mp4---done--\n",
            "/content/drive/My Drive/Machine Lol/Data/Của Trường/Cobaoluc/206.mp4---done--\n",
            "/content/drive/My Drive/Machine Lol/Data/Của Trường/Cobaoluc/207.mp4---done--\n",
            "/content/drive/My Drive/Machine Lol/Data/Của Trường/Cobaoluc/208.mp4---done--\n",
            "/content/drive/My Drive/Machine Lol/Data/Của Trường/Cobaoluc/209.mp4---done--\n",
            "/content/drive/My Drive/Machine Lol/Data/Của Trường/Cobaoluc/210.mp4---done--\n",
            "/content/drive/My Drive/Machine Lol/Data/Của Trường/Cobaoluc/211.mp4---done--\n",
            "/content/drive/My Drive/Machine Lol/Data/Của Trường/Cobaoluc/212.mp4---done--\n",
            "/content/drive/My Drive/Machine Lol/Data/Của Trường/Cobaoluc/213.mp4---done--\n",
            "/content/drive/My Drive/Machine Lol/Data/Của Trường/Cobaoluc/214.mp4---done--\n",
            "/content/drive/My Drive/Machine Lol/Data/Của Trường/Cobaoluc/215.mp4---done--\n",
            "/content/drive/My Drive/Machine Lol/Data/Của Trường/Cobaoluc/216.mp4---done--\n",
            "/content/drive/My Drive/Machine Lol/Data/Của Trường/Cobaoluc/217.mp4---done--\n",
            "/content/drive/My Drive/Machine Lol/Data/Của Trường/Cobaoluc/218.mp4---done--\n",
            "/content/drive/My Drive/Machine Lol/Data/Của Trường/Cobaoluc/219.mp4---done--\n",
            "/content/drive/My Drive/Machine Lol/Data/Của Trường/Cobaoluc/220.mp4---done--\n",
            "/content/drive/My Drive/Machine Lol/Data/Của Trường/Cobaoluc/221.mp4---done--\n",
            "/content/drive/My Drive/Machine Lol/Data/Của Trường/Cobaoluc/222.mp4---done--\n",
            "/content/drive/My Drive/Machine Lol/Data/Của Trường/Cobaoluc/223.mp4---done--\n",
            "/content/drive/My Drive/Machine Lol/Data/Của Trường/Cobaoluc/224.mp4---done--\n",
            "/content/drive/My Drive/Machine Lol/Data/Của Trường/Cobaoluc/225.mp4---done--\n",
            "/content/drive/My Drive/Machine Lol/Data/Của Trường/Cobaoluc/226.mp4---done--\n",
            "/content/drive/My Drive/Machine Lol/Data/Của Trường/Cobaoluc/227.mp4---done--\n",
            "/content/drive/My Drive/Machine Lol/Data/Của Trường/Cobaoluc/228.mp4---done--\n",
            "/content/drive/My Drive/Machine Lol/Data/Của Trường/Cobaoluc/229.mp4---done--\n",
            "/content/drive/My Drive/Machine Lol/Data/Của Trường/Cobaoluc/230.mp4---done--\n",
            "/content/drive/My Drive/Machine Lol/Data/Của Trường/Cobaoluc/231.mp4---done--\n",
            "/content/drive/My Drive/Machine Lol/Data/Của Trường/Cobaoluc/232.mp4---done--\n",
            "/content/drive/My Drive/Machine Lol/Data/Của Trường/Cobaoluc/233.mp4---done--\n",
            "/content/drive/My Drive/Machine Lol/Data/Của Trường/Cobaoluc/234.mp4---done--\n",
            "/content/drive/My Drive/Machine Lol/Data/Của Trường/Cobaoluc/235.mp4---done--\n",
            "/content/drive/My Drive/Machine Lol/Data/Của Trường/Cobaoluc/236.mp4---done--\n",
            "/content/drive/My Drive/Machine Lol/Data/Của Trường/Cobaoluc/237.mp4---done--\n",
            "/content/drive/My Drive/Machine Lol/Data/Của Trường/Cobaoluc/238.mp4---done--\n",
            "/content/drive/My Drive/Machine Lol/Data/Của Trường/Cobaoluc/239.mp4---done--\n",
            "/content/drive/My Drive/Machine Lol/Data/Của Trường/Cobaoluc/240.mp4---done--\n",
            "/content/drive/My Drive/Machine Lol/Data/Của Trường/Cobaoluc/241.mp4---done--\n",
            "/content/drive/My Drive/Machine Lol/Data/Của Trường/Cobaoluc/242.mp4---done--\n",
            "/content/drive/My Drive/Machine Lol/Data/Của Trường/Cobaoluc/243.mp4---done--\n",
            "/content/drive/My Drive/Machine Lol/Data/Của Trường/Cobaoluc/244.mp4---done--\n",
            "/content/drive/My Drive/Machine Lol/Data/Của Trường/Cobaoluc/245.mp4---done--\n",
            "/content/drive/My Drive/Machine Lol/Data/Của Trường/Cobaoluc/246.mp4---done--\n",
            "/content/drive/My Drive/Machine Lol/Data/Của Trường/Cobaoluc/247.mp4---done--\n",
            "/content/drive/My Drive/Machine Lol/Data/Của Trường/Cobaoluc/248.mp4---done--\n",
            "/content/drive/My Drive/Machine Lol/Data/Của Trường/Cobaoluc/249.mp4---done--\n",
            "/content/drive/My Drive/Machine Lol/Data/Của Trường/Cobaoluc/250.mp4---done--\n",
            "/content/drive/My Drive/Machine Lol/Data/Của Trường/Cobaoluc/251.mp4---done--\n",
            "/content/drive/My Drive/Machine Lol/Data/Của Trường/Cobaoluc/252.mp4---done--\n",
            "/content/drive/My Drive/Machine Lol/Data/Của Trường/Cobaoluc/253.mp4---done--\n",
            "/content/drive/My Drive/Machine Lol/Data/Của Trường/Cobaoluc/254.mp4---done--\n",
            "/content/drive/My Drive/Machine Lol/Data/Của Trường/Cobaoluc/255.mp4---done--\n",
            "/content/drive/My Drive/Machine Lol/Data/Của Trường/Cobaoluc/256.mp4---done--\n",
            "/content/drive/My Drive/Machine Lol/Data/Của Trường/Cobaoluc/257.mp4---done--\n",
            "/content/drive/My Drive/Machine Lol/Data/Của Trường/Cobaoluc/258.mp4---done--\n",
            "/content/drive/My Drive/Machine Lol/Data/Của Trường/Cobaoluc/259.mp4---done--\n",
            "/content/drive/My Drive/Machine Lol/Data/Của Trường/Cobaoluc/260.mp4---done--\n",
            "/content/drive/My Drive/Machine Lol/Data/Của Trường/Cobaoluc/261.mp4---done--\n",
            "/content/drive/My Drive/Machine Lol/Data/Của Trường/Cobaoluc/262.mp4---done--\n",
            "/content/drive/My Drive/Machine Lol/Data/Của Trường/Cobaoluc/263.mp4---done--\n",
            "/content/drive/My Drive/Machine Lol/Data/Của Trường/Cobaoluc/264.mp4---done--\n",
            "/content/drive/My Drive/Machine Lol/Data/Của Trường/Cobaoluc/265.mp4---done--\n",
            "/content/drive/My Drive/Machine Lol/Data/Của Trường/Cobaoluc/266.mp4---done--\n",
            "/content/drive/My Drive/Machine Lol/Data/Của Trường/Cobaoluc/267.mp4---done--\n",
            "/content/drive/My Drive/Machine Lol/Data/Của Trường/Cobaoluc/268.mp4---done--\n",
            "/content/drive/My Drive/Machine Lol/Data/Của Trường/Cobaoluc/269.mp4---done--\n",
            "/content/drive/My Drive/Machine Lol/Data/Của Trường/Cobaoluc/270.mp4---done--\n",
            "/content/drive/My Drive/Machine Lol/Data/Của Trường/Cobaoluc/271.mp4---done--\n",
            "/content/drive/My Drive/Machine Lol/Data/Của Trường/khongbaoluc/136.mp4---done--\n",
            "/content/drive/My Drive/Machine Lol/Data/Của Trường/khongbaoluc/137.mp4---done--\n",
            "/content/drive/My Drive/Machine Lol/Data/Của Trường/khongbaoluc/138.mp4---done--\n",
            "/content/drive/My Drive/Machine Lol/Data/Của Trường/khongbaoluc/139.mp4---done--\n",
            "/content/drive/My Drive/Machine Lol/Data/Của Trường/khongbaoluc/140.mp4---done--\n",
            "/content/drive/My Drive/Machine Lol/Data/Của Trường/khongbaoluc/141.mp4---done--\n",
            "/content/drive/My Drive/Machine Lol/Data/Của Trường/khongbaoluc/142.mp4---done--\n",
            "/content/drive/My Drive/Machine Lol/Data/Của Trường/khongbaoluc/143.mp4---done--\n",
            "/content/drive/My Drive/Machine Lol/Data/Của Trường/khongbaoluc/144.mp4---done--\n",
            "/content/drive/My Drive/Machine Lol/Data/Của Trường/khongbaoluc/145.mp4---done--\n",
            "/content/drive/My Drive/Machine Lol/Data/Của Trường/khongbaoluc/146.mp4---done--\n",
            "/content/drive/My Drive/Machine Lol/Data/Của Trường/khongbaoluc/147.mp4---done--\n",
            "/content/drive/My Drive/Machine Lol/Data/Của Trường/khongbaoluc/148.mp4---done--\n",
            "/content/drive/My Drive/Machine Lol/Data/Của Trường/khongbaoluc/149.mp4---done--\n",
            "/content/drive/My Drive/Machine Lol/Data/Của Trường/khongbaoluc/150.mp4---done--\n",
            "/content/drive/My Drive/Machine Lol/Data/Của Trường/khongbaoluc/151.mp4---done--\n",
            "/content/drive/My Drive/Machine Lol/Data/Của Trường/khongbaoluc/152.mp4---done--\n",
            "/content/drive/My Drive/Machine Lol/Data/Của Trường/khongbaoluc/153.mp4---done--\n",
            "/content/drive/My Drive/Machine Lol/Data/Của Trường/khongbaoluc/154.mp4---done--\n",
            "/content/drive/My Drive/Machine Lol/Data/Của Trường/khongbaoluc/155.mp4---done--\n",
            "/content/drive/My Drive/Machine Lol/Data/Của Trường/khongbaoluc/156.mp4---done--\n",
            "/content/drive/My Drive/Machine Lol/Data/Của Trường/khongbaoluc/157.mp4---done--\n",
            "/content/drive/My Drive/Machine Lol/Data/Của Trường/khongbaoluc/158.mp4---done--\n",
            "/content/drive/My Drive/Machine Lol/Data/Của Trường/khongbaoluc/159.mp4---done--\n",
            "/content/drive/My Drive/Machine Lol/Data/Của Trường/khongbaoluc/160.mp4---done--\n",
            "/content/drive/My Drive/Machine Lol/Data/Của Trường/khongbaoluc/161.mp4---done--\n",
            "/content/drive/My Drive/Machine Lol/Data/Của Trường/khongbaoluc/162.mp4---done--\n",
            "/content/drive/My Drive/Machine Lol/Data/Của Trường/khongbaoluc/163.mp4---done--\n",
            "/content/drive/My Drive/Machine Lol/Data/Của Trường/khongbaoluc/164.mp4---done--\n",
            "/content/drive/My Drive/Machine Lol/Data/Của Trường/khongbaoluc/165.mp4---done--\n",
            "/content/drive/My Drive/Machine Lol/Data/Của Trường/khongbaoluc/166.mp4---done--\n",
            "/content/drive/My Drive/Machine Lol/Data/Của Trường/khongbaoluc/167.mp4---done--\n",
            "/content/drive/My Drive/Machine Lol/Data/Của Trường/khongbaoluc/168.mp4---done--\n",
            "/content/drive/My Drive/Machine Lol/Data/Của Trường/khongbaoluc/169.mp4---done--\n",
            "/content/drive/My Drive/Machine Lol/Data/Của Trường/khongbaoluc/170.mp4---done--\n",
            "/content/drive/My Drive/Machine Lol/Data/Của Trường/khongbaoluc/171.mp4---done--\n",
            "/content/drive/My Drive/Machine Lol/Data/Của Trường/khongbaoluc/172.mp4---done--\n",
            "/content/drive/My Drive/Machine Lol/Data/Của Trường/khongbaoluc/173.mp4---done--\n",
            "/content/drive/My Drive/Machine Lol/Data/Của Trường/khongbaoluc/174.mp4---done--\n",
            "/content/drive/My Drive/Machine Lol/Data/Của Trường/khongbaoluc/175.mp4---done--\n",
            "/content/drive/My Drive/Machine Lol/Data/Của Trường/khongbaoluc/176.mp4---done--\n",
            "/content/drive/My Drive/Machine Lol/Data/Của Trường/khongbaoluc/177.mp4---done--\n",
            "/content/drive/My Drive/Machine Lol/Data/Của Trường/khongbaoluc/178.mp4---done--\n",
            "/content/drive/My Drive/Machine Lol/Data/Của Trường/khongbaoluc/179.mp4---done--\n",
            "/content/drive/My Drive/Machine Lol/Data/Của Trường/khongbaoluc/180.mp4---done--\n",
            "/content/drive/My Drive/Machine Lol/Data/Của Trường/khongbaoluc/181.mp4---done--\n",
            "/content/drive/My Drive/Machine Lol/Data/Của Trường/khongbaoluc/182.mp4---done--\n",
            "/content/drive/My Drive/Machine Lol/Data/Của Trường/khongbaoluc/183.mp4---done--\n",
            "/content/drive/My Drive/Machine Lol/Data/Của Trường/khongbaoluc/184.mp4---done--\n",
            "/content/drive/My Drive/Machine Lol/Data/Của Trường/khongbaoluc/185.mp4---done--\n",
            "/content/drive/My Drive/Machine Lol/Data/Của Trường/khongbaoluc/186.mp4---done--\n",
            "/content/drive/My Drive/Machine Lol/Data/Của Trường/khongbaoluc/187.mp4---done--\n",
            "/content/drive/My Drive/Machine Lol/Data/Của Trường/khongbaoluc/188.mp4---done--\n",
            "/content/drive/My Drive/Machine Lol/Data/Của Trường/khongbaoluc/189.mp4---done--\n",
            "/content/drive/My Drive/Machine Lol/Data/Của Trường/khongbaoluc/190.mp4---done--\n",
            "/content/drive/My Drive/Machine Lol/Data/Của Trường/khongbaoluc/191.mp4---done--\n",
            "/content/drive/My Drive/Machine Lol/Data/Của Trường/khongbaoluc/192.mp4---done--\n",
            "/content/drive/My Drive/Machine Lol/Data/Của Trường/khongbaoluc/193.mp4---done--\n",
            "/content/drive/My Drive/Machine Lol/Data/Của Trường/khongbaoluc/194.mp4---done--\n",
            "/content/drive/My Drive/Machine Lol/Data/Của Trường/khongbaoluc/195.mp4---done--\n",
            "/content/drive/My Drive/Machine Lol/Data/Của Trường/khongbaoluc/196.mp4---done--\n",
            "/content/drive/My Drive/Machine Lol/Data/Của Trường/khongbaoluc/197.mp4---done--\n",
            "/content/drive/My Drive/Machine Lol/Data/Của Trường/khongbaoluc/198.mp4---done--\n",
            "/content/drive/My Drive/Machine Lol/Data/Của Trường/khongbaoluc/199.mp4---done--\n",
            "/content/drive/My Drive/Machine Lol/Data/Của Trường/khongbaoluc/200.mp4---done--\n",
            "/content/drive/My Drive/Machine Lol/Data/Của Trường/khongbaoluc/201.mp4---done--\n",
            "/content/drive/My Drive/Machine Lol/Data/Của Trường/khongbaoluc/202.mp4---done--\n",
            "/content/drive/My Drive/Machine Lol/Data/Của Trường/khongbaoluc/203.mp4---done--\n",
            "/content/drive/My Drive/Machine Lol/Data/Của Trường/khongbaoluc/204.mp4---done--\n",
            "/content/drive/My Drive/Machine Lol/Data/Của Trường/khongbaoluc/205.mp4---done--\n",
            "/content/drive/My Drive/Machine Lol/Data/Của Trường/khongbaoluc/206.mp4---done--\n",
            "/content/drive/My Drive/Machine Lol/Data/Của Trường/khongbaoluc/207.mp4---done--\n",
            "/content/drive/My Drive/Machine Lol/Data/Của Trường/khongbaoluc/208.mp4---done--\n",
            "/content/drive/My Drive/Machine Lol/Data/Của Trường/khongbaoluc/209.mp4---done--\n",
            "/content/drive/My Drive/Machine Lol/Data/Của Trường/khongbaoluc/210.mp4---done--\n",
            "/content/drive/My Drive/Machine Lol/Data/Của Trường/khongbaoluc/211.mp4---done--\n",
            "/content/drive/My Drive/Machine Lol/Data/Của Trường/khongbaoluc/212.mp4---done--\n",
            "/content/drive/My Drive/Machine Lol/Data/Của Trường/khongbaoluc/213.mp4---done--\n",
            "/content/drive/My Drive/Machine Lol/Data/Của Trường/khongbaoluc/214.mp4---done--\n",
            "/content/drive/My Drive/Machine Lol/Data/Của Trường/khongbaoluc/215.mp4---done--\n",
            "/content/drive/My Drive/Machine Lol/Data/Của Trường/khongbaoluc/216.mp4---done--\n",
            "/content/drive/My Drive/Machine Lol/Data/Của Trường/khongbaoluc/217.mp4---done--\n",
            "/content/drive/My Drive/Machine Lol/Data/Của Trường/khongbaoluc/218.mp4---done--\n",
            "/content/drive/My Drive/Machine Lol/Data/Của Trường/khongbaoluc/219.mp4---done--\n",
            "/content/drive/My Drive/Machine Lol/Data/Của Trường/khongbaoluc/220.mp4---done--\n",
            "/content/drive/My Drive/Machine Lol/Data/Của Trường/khongbaoluc/221.mp4---done--\n",
            "/content/drive/My Drive/Machine Lol/Data/Của Trường/khongbaoluc/222.mp4---done--\n",
            "/content/drive/My Drive/Machine Lol/Data/Của Trường/khongbaoluc/223.mp4---done--\n",
            "/content/drive/My Drive/Machine Lol/Data/Của Trường/khongbaoluc/224.mp4---done--\n",
            "/content/drive/My Drive/Machine Lol/Data/Của Trường/khongbaoluc/225.mp4---done--\n",
            "/content/drive/My Drive/Machine Lol/Data/Của Trường/khongbaoluc/226.mp4---done--\n",
            "/content/drive/My Drive/Machine Lol/Data/Của Trường/khongbaoluc/227.mp4---done--\n",
            "/content/drive/My Drive/Machine Lol/Data/Của Trường/khongbaoluc/228.mp4---done--\n",
            "/content/drive/My Drive/Machine Lol/Data/Của Trường/khongbaoluc/229.mp4---done--\n",
            "/content/drive/My Drive/Machine Lol/Data/Của Trường/khongbaoluc/230.mp4---done--\n",
            "/content/drive/My Drive/Machine Lol/Data/Của Trường/khongbaoluc/231.mp4---done--\n",
            "/content/drive/My Drive/Machine Lol/Data/Của Trường/khongbaoluc/232.mp4---done--\n",
            "/content/drive/My Drive/Machine Lol/Data/Của Trường/khongbaoluc/233.mp4---done--\n",
            "/content/drive/My Drive/Machine Lol/Data/Của Trường/khongbaoluc/234.mp4---done--\n",
            "/content/drive/My Drive/Machine Lol/Data/Của Trường/khongbaoluc/235.mp4---done--\n",
            "/content/drive/My Drive/Machine Lol/Data/Của Trường/khongbaoluc/236.mp4---done--\n",
            "/content/drive/My Drive/Machine Lol/Data/Của Trường/khongbaoluc/237.mp4---done--\n",
            "/content/drive/My Drive/Machine Lol/Data/Của Trường/khongbaoluc/238.mp4---done--\n",
            "/content/drive/My Drive/Machine Lol/Data/Của Trường/khongbaoluc/239.mp4---done--\n",
            "/content/drive/My Drive/Machine Lol/Data/Của Trường/khongbaoluc/240.mp4---done--\n",
            "/content/drive/My Drive/Machine Lol/Data/Của Trường/khongbaoluc/241.mp4---done--\n",
            "/content/drive/My Drive/Machine Lol/Data/Của Trường/khongbaoluc/242.mp4---done--\n",
            "/content/drive/My Drive/Machine Lol/Data/Của Trường/khongbaoluc/243.mp4---done--\n",
            "/content/drive/My Drive/Machine Lol/Data/Của Trường/khongbaoluc/244.mp4---done--\n",
            "/content/drive/My Drive/Machine Lol/Data/Của Trường/khongbaoluc/245.mp4---done--\n",
            "/content/drive/My Drive/Machine Lol/Data/Của Trường/khongbaoluc/246.mp4---done--\n",
            "/content/drive/My Drive/Machine Lol/Data/Của Trường/khongbaoluc/247.mp4---done--\n",
            "/content/drive/My Drive/Machine Lol/Data/Của Trường/khongbaoluc/248.mp4---done--\n",
            "/content/drive/My Drive/Machine Lol/Data/Của Trường/khongbaoluc/249.mp4---done--\n",
            "/content/drive/My Drive/Machine Lol/Data/Của Trường/khongbaoluc/250.mp4---done--\n",
            "/content/drive/My Drive/Machine Lol/Data/Của Trường/khongbaoluc/251.mp4---done--\n",
            "/content/drive/My Drive/Machine Lol/Data/Của Trường/khongbaoluc/252.mp4---done--\n",
            "/content/drive/My Drive/Machine Lol/Data/Của Trường/khongbaoluc/253.mp4---done--\n",
            "/content/drive/My Drive/Machine Lol/Data/Của Trường/khongbaoluc/254.mp4---done--\n",
            "/content/drive/My Drive/Machine Lol/Data/Của Trường/khongbaoluc/255.mp4---done--\n",
            "/content/drive/My Drive/Machine Lol/Data/Của Trường/khongbaoluc/256.mp4---done--\n",
            "/content/drive/My Drive/Machine Lol/Data/Của Trường/khongbaoluc/257.mp4---done--\n",
            "/content/drive/My Drive/Machine Lol/Data/Của Trường/khongbaoluc/258.mp4---done--\n",
            "/content/drive/My Drive/Machine Lol/Data/Của Trường/khongbaoluc/259.mp4---done--\n",
            "/content/drive/My Drive/Machine Lol/Data/Của Trường/khongbaoluc/260.mp4---done--\n",
            "/content/drive/My Drive/Machine Lol/Data/Của Trường/khongbaoluc/261.mp4---done--\n",
            "/content/drive/My Drive/Machine Lol/Data/Của Trường/khongbaoluc/262.mp4---done--\n",
            "/content/drive/My Drive/Machine Lol/Data/Của Trường/khongbaoluc/263.mp4---done--\n",
            "/content/drive/My Drive/Machine Lol/Data/Của Trường/khongbaoluc/264.mp4---done--\n",
            "/content/drive/My Drive/Machine Lol/Data/Của Trường/khongbaoluc/265.mp4---done--\n",
            "/content/drive/My Drive/Machine Lol/Data/Của Trường/khongbaoluc/266.mp4---done--\n",
            "/content/drive/My Drive/Machine Lol/Data/Của Trường/khongbaoluc/267.mp4---done--\n",
            "/content/drive/My Drive/Machine Lol/Data/Của Trường/khongbaoluc/268.mp4---done--\n",
            "/content/drive/My Drive/Machine Lol/Data/Của Trường/khongbaoluc/269.mp4---done--\n",
            "/content/drive/My Drive/Machine Lol/Data/Của Trường/khongbaoluc/270.mp4---done--\n",
            "/content/drive/My Drive/Machine Lol/Data/Của Trường/khongbaoluc/271.mp4---done--\n"
          ],
          "name": "stdout"
        }
      ]
    },
    {
      "cell_type": "markdown",
      "metadata": {
        "id": "rxQmJ2prZOvB",
        "colab_type": "text"
      },
      "source": [
        "##Chuẩn hóa đặc trưng"
      ]
    },
    {
      "cell_type": "markdown",
      "metadata": {
        "id": "aCt6toZ66tKA",
        "colab_type": "text"
      },
      "source": [
        "Chuẩn hóa giá trị của vector đặc trưng theo dạng minmax."
      ]
    },
    {
      "cell_type": "code",
      "metadata": {
        "id": "f75NoPt4ZOM2",
        "colab_type": "code",
        "colab": {}
      },
      "source": [
        "from sklearn.preprocessing import MinMaxScaler\n",
        "\n",
        "trans = MinMaxScaler()\n",
        "\n",
        "data = trans.fit_transform(descriptor_list)"
      ],
      "execution_count": null,
      "outputs": []
    },
    {
      "cell_type": "markdown",
      "metadata": {
        "id": "fmbZvh2EHorY",
        "colab_type": "text"
      },
      "source": [
        "##Lưu lại đặc trưng cho lần train tiếp theo"
      ]
    },
    {
      "cell_type": "code",
      "metadata": {
        "id": "rYZvYo6GFNzK",
        "colab_type": "code",
        "colab": {}
      },
      "source": [
        "import hickle as hkl\n",
        "\n",
        "hkl.dump(descriptor_list, '/content/drive/My Drive/Machine Lol/backup/data3.hkl', mode='w')\n",
        "\n",
        "hkl.dump(labels, '/content/drive/My Drive/Machine Lol/backup/labels3.hkl', mode='w')"
      ],
      "execution_count": null,
      "outputs": []
    },
    {
      "cell_type": "markdown",
      "metadata": {
        "id": "PlqWRw6FE1P8",
        "colab_type": "text"
      },
      "source": [
        "#Training model"
      ]
    },
    {
      "cell_type": "markdown",
      "metadata": {
        "id": "2RLBEMcKHSBu",
        "colab_type": "text"
      },
      "source": [
        "###Load Data Backup(Nếu có)"
      ]
    },
    {
      "cell_type": "code",
      "metadata": {
        "id": "RDZCtIA8FtvW",
        "colab_type": "code",
        "colab": {
          "base_uri": "https://localhost:8080/",
          "height": 50
        },
        "outputId": "356951f2-68b1-411e-ebf7-6c77d2d43a14"
      },
      "source": [
        "import hickle as hkl\n",
        "data = hkl.load('/content/data23.hkl')\n",
        "labels = hkl.load('/content/labels23.hkl')\n",
        "\n",
        "print(len(descriptor_list))\n",
        "print(len(labels))"
      ],
      "execution_count": null,
      "outputs": [
        {
          "output_type": "stream",
          "text": [
            "0\n",
            "7191\n"
          ],
          "name": "stdout"
        }
      ]
    },
    {
      "cell_type": "markdown",
      "metadata": {
        "id": "YWpgJTXVcYm0",
        "colab_type": "text"
      },
      "source": [
        "Thống kê số nhãn thuộc 0 và 1"
      ]
    },
    {
      "cell_type": "code",
      "metadata": {
        "id": "kNc6TXU1_z6o",
        "colab_type": "code",
        "colab": {
          "base_uri": "https://localhost:8080/",
          "height": 50
        },
        "outputId": "e7dbe780-a338-4076-8ba6-fbcb6238589b"
      },
      "source": [
        "print(len(labels) - sum(labels))\n",
        "print(sum(labels))"
      ],
      "execution_count": null,
      "outputs": [
        {
          "output_type": "stream",
          "text": [
            "3586\n",
            "3605\n"
          ],
          "name": "stdout"
        }
      ]
    },
    {
      "cell_type": "markdown",
      "metadata": {
        "id": "0NP6_8xudd21",
        "colab_type": "text"
      },
      "source": [
        "Độ dài của vector đặc trưng của một example sau khỉ xử lý hog."
      ]
    },
    {
      "cell_type": "code",
      "metadata": {
        "id": "KLgKTahhdZfs",
        "colab_type": "code",
        "colab": {
          "base_uri": "https://localhost:8080/",
          "height": 34
        },
        "outputId": "828acc08-927a-4fdd-ad93-143f3a0eafcb"
      },
      "source": [
        "print(len(data[1]))"
      ],
      "execution_count": null,
      "outputs": [
        {
          "output_type": "stream",
          "text": [
            "54288\n"
          ],
          "name": "stdout"
        }
      ]
    },
    {
      "cell_type": "markdown",
      "metadata": {
        "id": "VXMAvPfR-snT",
        "colab_type": "text"
      },
      "source": [
        "##Chia tỉ lệ Train|Test\n",
        "Tỉ lệ giữa data train và data test là 0.8|0.2"
      ]
    },
    {
      "cell_type": "code",
      "metadata": {
        "id": "r1aPF4rZ-r4C",
        "colab_type": "code",
        "colab": {}
      },
      "source": [
        "from sklearn.model_selection import train_test_split\n",
        "\n",
        "trainX, testX, trainY, testY = train_test_split(data, labels,test_size =0.2, random_state=42)"
      ],
      "execution_count": null,
      "outputs": []
    },
    {
      "cell_type": "markdown",
      "metadata": {
        "id": "xHLsEs5KE3mH",
        "colab_type": "text"
      },
      "source": [
        "##Model LogisticRegression"
      ]
    },
    {
      "cell_type": "code",
      "metadata": {
        "id": "FYIiIpPnE-ht",
        "colab_type": "code",
        "colab": {
          "base_uri": "https://localhost:8080/",
          "height": 68
        },
        "outputId": "26e9280b-90bb-41bc-969f-9728f64fa27b"
      },
      "source": [
        "\n",
        "from sklearn.linear_model import LogisticRegression\n",
        "\n",
        "lr = LogisticRegression(class_weight='balanced', max_iter=1000)\n",
        "\n",
        "lr.fit(trainX, trainY)\n",
        "\n",
        "\n",
        "print(lr.score(trainX, trainY))\n",
        "print(lr.score(testX, testY))\n",
        "\n",
        "predY = lr.predict(testX)\n",
        "\n",
        "score_LR = precision_recall_fscore_support(testY, predY, average='macro')\n",
        "\n",
        "print(score_LR)"
      ],
      "execution_count": null,
      "outputs": [
        {
          "output_type": "stream",
          "text": [
            "1.0\n",
            "0.752605976372481\n",
            "(0.754144144493474, 0.7533180667478308, 0.7525054592536766, None)\n"
          ],
          "name": "stdout"
        }
      ]
    },
    {
      "cell_type": "markdown",
      "metadata": {
        "id": "5KZZLCt4FCa-",
        "colab_type": "text"
      },
      "source": [
        "##Model GaussianNB"
      ]
    },
    {
      "cell_type": "code",
      "metadata": {
        "id": "KAfGi8xXFFRn",
        "colab_type": "code",
        "colab": {
          "base_uri": "https://localhost:8080/",
          "height": 68
        },
        "outputId": "999de990-667b-4d9c-81e2-980f304ea19b"
      },
      "source": [
        "from sklearn.naive_bayes import GaussianNB\n",
        "\n",
        "gnb = GaussianNB()\n",
        "\n",
        "\n",
        "gnb.fit(trainX, trainY)\n",
        "\n",
        "print(gnb.score(trainX, trainY))\n",
        "print(gnb.score(testX, testY))\n",
        "\n",
        "predY = gnb.predict(testX)\n",
        "\n",
        "score_GNB = precision_recall_fscore_support(testY, predY, average='macro')\n",
        "print(score_GNB)"
      ],
      "execution_count": null,
      "outputs": [
        {
          "output_type": "stream",
          "text": [
            "0.6623783031988874\n",
            "0.610145934676859\n",
            "(0.6106039201836483, 0.6089367499565193, 0.608098917183074, None)\n"
          ],
          "name": "stdout"
        }
      ]
    },
    {
      "cell_type": "markdown",
      "metadata": {
        "id": "3ocz2dXmFITg",
        "colab_type": "text"
      },
      "source": [
        "##Model RandomForestClassifier"
      ]
    },
    {
      "cell_type": "code",
      "metadata": {
        "id": "gNKcT4nOFLM-",
        "colab_type": "code",
        "colab": {
          "base_uri": "https://localhost:8080/",
          "height": 68
        },
        "outputId": "5c1c2c20-3500-4960-d39f-bd3dea387328"
      },
      "source": [
        "from sklearn.ensemble import RandomForestClassifier\n",
        "\n",
        "rfc = RandomForestClassifier(n_estimators= 10, random_state= 0)\n",
        "\n",
        "rfc.fit(trainX, trainY)\n",
        "\n",
        "print(rfc.score(trainX, trainY))\n",
        "print(rfc.score(testX, testY))\n",
        "\n",
        "predY = rfc.predict(testX)\n",
        "\n",
        "score_RFC = precision_recall_fscore_support(testY, predY, average='macro')\n",
        "print(score_RFC)"
      ],
      "execution_count": null,
      "outputs": [
        {
          "output_type": "stream",
          "text": [
            "0.9895688456189151\n",
            "0.6296038915913829\n",
            "(0.6315593961064759, 0.6279822984907337, 0.626363953009721, None)\n"
          ],
          "name": "stdout"
        }
      ]
    },
    {
      "cell_type": "markdown",
      "metadata": {
        "id": "LU_6yjq9FObW",
        "colab_type": "text"
      },
      "source": [
        "##Model SVM"
      ]
    },
    {
      "cell_type": "code",
      "metadata": {
        "id": "HrxVSotiFRlU",
        "colab_type": "code",
        "colab": {
          "base_uri": "https://localhost:8080/",
          "height": 68
        },
        "outputId": "6e05fd03-4044-43bd-b417-251438b526e3"
      },
      "source": [
        "from sklearn import svm\n",
        "\n",
        "lsvc = svm.SVC()\n",
        "lsvc.fit(trainX, trainY)\n",
        "\n",
        "print(lsvc.score(trainX, trainY))\n",
        "print(lsvc.score(testX, testY))\n",
        "\n",
        "predY = lsvc.predict(testX)\n",
        "\n",
        "score_LSVC = precision_recall_fscore_support(testY, predY, average='macro')\n",
        "print(score_LSVC)"
      ],
      "execution_count": null,
      "outputs": [
        {
          "output_type": "stream",
          "text": [
            "0.9813977746870653\n",
            "0.7866574009728978\n",
            "(0.786569223455936, 0.7865847295495392, 0.7865765962925442, None)\n"
          ],
          "name": "stdout"
        }
      ]
    },
    {
      "cell_type": "code",
      "metadata": {
        "id": "IPjXpGO6Atyf",
        "colab_type": "code",
        "colab": {
          "base_uri": "https://localhost:8080/",
          "height": 102
        },
        "outputId": "bde79400-ef08-43bf-f304-3a4d4c505ca2"
      },
      "source": [
        "import pandas as pd\n",
        "import numpy as np\n",
        "\n",
        "scores_table = pd.DataFrame([np.array(score_LR), np.array(score_GNB), np.array(score_RFC), np.array(score_LSVC)])\n",
        "\n",
        "scores_table.index = [\"LogisticRegression\", \"GaussianNB\", \"RandomForestClassifier\", \"SVM\"]\n",
        "scores_table.columns = [\"precision\", \"recall\", \"fscore\", \"support\"]\n",
        "print(scores_table)\n",
        "\n"
      ],
      "execution_count": null,
      "outputs": [
        {
          "output_type": "stream",
          "text": [
            "                        precision    recall    fscore support\n",
            "LogisticRegression       0.754144  0.753318  0.752505    None\n",
            "GaussianNB               0.610604  0.608937  0.608099    None\n",
            "RandomForestClassifier   0.631559  0.627982  0.626364    None\n",
            "SVM                      0.786569  0.786585  0.786577    None\n"
          ],
          "name": "stdout"
        }
      ]
    },
    {
      "cell_type": "markdown",
      "metadata": {
        "id": "hY2jg58ZOLd7",
        "colab_type": "text"
      },
      "source": [
        "##Lưu Model"
      ]
    },
    {
      "cell_type": "code",
      "metadata": {
        "id": "bWZMUG1gOBvH",
        "colab_type": "code",
        "colab": {}
      },
      "source": [
        "import pickle\n",
        "\n",
        "pickle.dump(lr, open('/content/drive/My Drive/ML/backup/logic.sav', 'wb'))\n",
        "pickle.dump(gnb, open('/content/drive/My Drive/ML/backup/gauss.sav', 'wb'))\n",
        "pickle.dump(rfc, open('/content/drive/My Drive/ML/backup/randforest.sav', 'wb'))\n",
        "pickle.dump(lsvc, open('/content/drive/My Drive/ML/backup/svm.sav', 'wb'))"
      ],
      "execution_count": null,
      "outputs": []
    },
    {
      "cell_type": "markdown",
      "metadata": {
        "id": "jcW-6P0HG9Y5",
        "colab_type": "text"
      },
      "source": [
        "#Ứng dụng"
      ]
    },
    {
      "cell_type": "markdown",
      "metadata": {
        "id": "iOwfUaRFR08P",
        "colab_type": "text"
      },
      "source": [
        "###Download Model từ Google Drive"
      ]
    },
    {
      "cell_type": "code",
      "metadata": {
        "id": "aJ0poVecR0Sz",
        "colab_type": "code",
        "colab": {}
      },
      "source": [
        "#Train trên tập data1\n",
        "\n",
        "#LogisticRegression\n",
        "!wget --load-cookies /tmp/cookies.txt \"https://docs.google.com/uc?export=download&confirm=$(wget --quiet --save-cookies /tmp/cookies.txt --keep-session-cookies --no-check-certificate 'https://docs.google.com/uc?export=download&id=1FwI7W1NRhXw7-vlgHgGifmB0pRKlmZVx' -O- | sed -rn 's/.*confirm=([0-9A-Za-z_]+).*/\\1\\n/p')&id=1FwI7W1NRhXw7-vlgHgGifmB0pRKlmZVx\" -O logic.sav && rm -rf /tmp/cookies.txt\n",
        "\n",
        "#GaussianNB\n",
        "!wget --load-cookies /tmp/cookies.txt \"https://docs.google.com/uc?export=download&confirm=$(wget --quiet --save-cookies /tmp/cookies.txt --keep-session-cookies --no-check-certificate 'https://docs.google.com/uc?export=download&id=1vdY64uXmi7HXwaazPb5oX86bj94l-MPg' -O- | sed -rn 's/.*confirm=([0-9A-Za-z_]+).*/\\1\\n/p')&id=1vdY64uXmi7HXwaazPb5oX86bj94l-MPg\" -O gauss.sav && rm -rf /tmp/cookies.txt\n",
        "\n",
        "#RandomForestClassifier\n",
        "!wget --load-cookies /tmp/cookies.txt \"https://docs.google.com/uc?export=download&confirm=$(wget --quiet --save-cookies /tmp/cookies.txt --keep-session-cookies --no-check-certificate 'https://docs.google.com/uc?export=download&id=1I84RrL1X9g33jlPeSGDTcPQTwUo7nFeU' -O- | sed -rn 's/.*confirm=([0-9A-Za-z_]+).*/\\1\\n/p')&id=1I84RrL1X9g33jlPeSGDTcPQTwUo7nFeU\" -O randforest.sav && rm -rf /tmp/cookies.txt\n",
        "\n",
        "#SVM\n",
        "!wget --load-cookies /tmp/cookies.txt \"https://docs.google.com/uc?export=download&confirm=$(wget --quiet --save-cookies /tmp/cookies.txt --keep-session-cookies --no-check-certificate 'https://docs.google.com/uc?export=download&id=1-3CPW1QfR4uVYOW8DQ9vmIRK20Lui7gC' -O- | sed -rn 's/.*confirm=([0-9A-Za-z_]+).*/\\1\\n/p')&id=1-3CPW1QfR4uVYOW8DQ9vmIRK20Lui7gC\" -O svm.sav && rm -rf /tmp/cookies.txt\n"
      ],
      "execution_count": null,
      "outputs": []
    },
    {
      "cell_type": "code",
      "metadata": {
        "id": "MjB3NXDlb4Iu",
        "colab_type": "code",
        "colab": {}
      },
      "source": [
        "#Train trên tập data2\n",
        "\n",
        "#LogisticRegression\n",
        "!wget --load-cookies /tmp/cookies.txt \"https://docs.google.com/uc?export=download&confirm=$(wget --quiet --save-cookies /tmp/cookies.txt --keep-session-cookies --no-check-certificate 'https://docs.google.com/uc?export=download&id=1-BS6UonLXs33RGfCUxYw_Ip84lRedT20' -O- | sed -rn 's/.*confirm=([0-9A-Za-z_]+).*/\\1\\n/p')&id=1-BS6UonLXs33RGfCUxYw_Ip84lRedT20\" -O logic.sav && rm -rf /tmp/cookies.txt\n",
        "\n",
        "#GaussianNB\n",
        "!wget --load-cookies /tmp/cookies.txt \"https://docs.google.com/uc?export=download&confirm=$(wget --quiet --save-cookies /tmp/cookies.txt --keep-session-cookies --no-check-certificate 'https://docs.google.com/uc?export=download&id=1-B64yg_JaNF5_Fywc-nLm_rSrPAFBOeu' -O- | sed -rn 's/.*confirm=([0-9A-Za-z_]+).*/\\1\\n/p')&id=1-B64yg_JaNF5_Fywc-nLm_rSrPAFBOeu\" -O gauss.sav && rm -rf /tmp/cookies.txt\n",
        "\n",
        "#RandomForestClassifier\n",
        "!wget --load-cookies /tmp/cookies.txt \"https://docs.google.com/uc?export=download&confirm=$(wget --quiet --save-cookies /tmp/cookies.txt --keep-session-cookies --no-check-certificate 'https://docs.google.com/uc?export=download&id=1-ArwnLnUPjOMU9G4q-IuTTXT-Fn9sj_r' -O- | sed -rn 's/.*confirm=([0-9A-Za-z_]+).*/\\1\\n/p')&id=1-ArwnLnUPjOMU9G4q-IuTTXT-Fn9sj_r\" -O randforest.sav && rm -rf /tmp/cookies.txt\n",
        "\n",
        "#SVM\n",
        "!wget --load-cookies /tmp/cookies.txt \"https://docs.google.com/uc?export=download&confirm=$(wget --quiet --save-cookies /tmp/cookies.txt --keep-session-cookies --no-check-certificate 'https://docs.google.com/uc?export=download&id=1-Gwy2tfeJxtUr6McbWpq--YFLzU4wP8P' -O- | sed -rn 's/.*confirm=([0-9A-Za-z_]+).*/\\1\\n/p')&id=1-Gwy2tfeJxtUr6McbWpq--YFLzU4wP8P\" -O svm.sav && rm -rf /tmp/cookies.txt\n"
      ],
      "execution_count": null,
      "outputs": []
    },
    {
      "cell_type": "code",
      "metadata": {
        "id": "sUIvymwhs-qu",
        "colab_type": "code",
        "colab": {}
      },
      "source": [
        "#Train trên cả 2 tập data\n",
        "\n",
        "#LogisticRegression\n",
        "!wget --load-cookies /tmp/cookies.txt \"https://docs.google.com/uc?export=download&confirm=$(wget --quiet --save-cookies /tmp/cookies.txt --keep-session-cookies --no-check-certificate 'https://docs.google.com/uc?export=download&id=1-BS6UonLXs33RGfCUxYw_Ip84lRedT20' -O- | sed -rn 's/.*confirm=([0-9A-Za-z_]+).*/\\1\\n/p')&id=1-BS6UonLXs33RGfCUxYw_Ip84lRedT20\" -O logic.sav && rm -rf /tmp/cookies.txt\n",
        "\n",
        "#GaussianNB\n",
        "!wget --load-cookies /tmp/cookies.txt \"https://docs.google.com/uc?export=download&confirm=$(wget --quiet --save-cookies /tmp/cookies.txt --keep-session-cookies --no-check-certificate 'https://docs.google.com/uc?export=download&id=1-B64yg_JaNF5_Fywc-nLm_rSrPAFBOeu' -O- | sed -rn 's/.*confirm=([0-9A-Za-z_]+).*/\\1\\n/p')&id=1-B64yg_JaNF5_Fywc-nLm_rSrPAFBOeu\" -O gauss.sav && rm -rf /tmp/cookies.txt\n",
        "\n",
        "#RandomForestClassifier\n",
        "!wget --load-cookies /tmp/cookies.txt \"https://docs.google.com/uc?export=download&confirm=$(wget --quiet --save-cookies /tmp/cookies.txt --keep-session-cookies --no-check-certificate 'https://docs.google.com/uc?export=download&id=1-ArwnLnUPjOMU9G4q-IuTTXT-Fn9sj_r' -O- | sed -rn 's/.*confirm=([0-9A-Za-z_]+).*/\\1\\n/p')&id=1-ArwnLnUPjOMU9G4q-IuTTXT-Fn9sj_r\" -O randforest.sav && rm -rf /tmp/cookies.txt\n",
        "\n",
        "#SVM\n",
        "!wget --load-cookies /tmp/cookies.txt \"https://docs.google.com/uc?export=download&confirm=$(wget --quiet --save-cookies /tmp/cookies.txt --keep-session-cookies --no-check-certificate 'https://docs.google.com/uc?export=download&id=1-Gwy2tfeJxtUr6McbWpq--YFLzU4wP8P' -O- | sed -rn 's/.*confirm=([0-9A-Za-z_]+).*/\\1\\n/p')&id=1-Gwy2tfeJxtUr6McbWpq--YFLzU4wP8P\" -O svm.sav && rm -rf /tmp/cookies.txt\n"
      ],
      "execution_count": null,
      "outputs": []
    },
    {
      "cell_type": "markdown",
      "metadata": {
        "id": "rgHl6XebRwdi",
        "colab_type": "text"
      },
      "source": [
        "###Load Model"
      ]
    },
    {
      "cell_type": "code",
      "metadata": {
        "id": "PMBc36W5H5Tf",
        "colab_type": "code",
        "colab": {}
      },
      "source": [
        "import pickle\n",
        "\n",
        "lr = pickle.load(open('/content/logic.sav', 'rb'))\n",
        "gnb = pickle.load(open('/content/gauss.sav', 'rb'))\n",
        "rfc = pickle.load(open('/content/randforest.sav', 'rb'))\n",
        "lsvc = pickle.load(open('/content/svm.sav', 'rb'))"
      ],
      "execution_count": null,
      "outputs": []
    },
    {
      "cell_type": "markdown",
      "metadata": {
        "id": "zqgfAtKS76Fw",
        "colab_type": "text"
      },
      "source": [
        "\n",
        "\n",
        "---\n",
        "\n"
      ]
    },
    {
      "cell_type": "markdown",
      "metadata": {
        "id": "xmfg0DP1R5Oq",
        "colab_type": "text"
      },
      "source": [
        "###Ứng dụng"
      ]
    },
    {
      "cell_type": "code",
      "metadata": {
        "id": "m8QAjP1odfjp",
        "colab_type": "code",
        "cellView": "form",
        "colab": {
          "base_uri": "https://localhost:8080/",
          "height": 102
        },
        "outputId": "6177340a-d5bd-4e9e-da46-d14732ecd425"
      },
      "source": [
        "#@title Lựa chọn đầu vào\n",
        "#@markdown Lựa chọn upload hay điền link video\n",
        "\n",
        "Choose = \"Link\" #@param [\"Upload\", \"Link\", \"---\"]\n",
        "#@markdown ---\n",
        "\n",
        "try:\n",
        "  lsvc\n",
        "except NameError:\n",
        "  !wget --load-cookies /tmp/cookies.txt \"https://docs.google.com/uc?export=download&confirm=$(wget --quiet --save-cookies /tmp/cookies.txt --keep-session-cookies --no-check-certificate 'https://docs.google.com/uc?export=download&id=1-Gwy2tfeJxtUr6McbWpq--YFLzU4wP8P' -O- | sed -rn 's/.*confirm=([0-9A-Za-z_]+).*/\\1\\n/p')&id=1-Gwy2tfeJxtUr6McbWpq--YFLzU4wP8P\" -O svm.sav && rm -rf /tmp/cookies.txt\n",
        "  import pickle\n",
        "  lsvc = pickle.load(open('/content/svm.sav', 'rb'))\n",
        "Key = True\n",
        "list_fn = []\n",
        "if Choose == \"Upload\":\n",
        "  from google.colab import files\n",
        "\n",
        "  uploaded = files.upload()\n",
        "\n",
        "  for fn in uploaded.keys():\n",
        "    print('Người dùng đã upload file \"{name}\" độ lớn {length} bytes'.format(\n",
        "      name=fn, length=len(uploaded[fn])))\n",
        "    list_fn.append(fn)\n",
        "elif Choose == \"Link\":\n",
        "  print(\"Nhập link\")\n",
        "  link = input()\n",
        "\n",
        "  import requests  \n",
        "    \n",
        "  r = requests.get(link, stream = True)  \n",
        "  \n",
        "  with open(\"/content/input.mp4\", \"wb\") as file:  \n",
        "    for block in r.iter_content(chunk_size = 1024): \n",
        "      if block:  \n",
        "        file.write(block) \n",
        "  print(\"File đã được lưu với tên input.mp4\")\n",
        "  list_fn.append(\"input.mp4\")\n",
        "\n",
        "import numpy as np\n",
        "import cv2\n",
        "from skimage.feature import hog\n",
        "\n",
        "num_vid = 0\n",
        "while list_fn:\n",
        "  i = list_fn.pop(0)\n",
        "  cap = cv2.VideoCapture(i)\n",
        "\n",
        "  ret, frame1 = cap.read()\n",
        "\n",
        "  if ret:\n",
        "    h, w, d = frame1.shape\n",
        "    foname = 'output'+str(num_vid)+'.avi'\n",
        "    out = cv2.VideoWriter(foname,cv2.VideoWriter_fourcc(*'DIVX'), 30, (w, h), True)\n",
        "    flag = False\n",
        "    frame1 = cv2.resize(frame1, (160, 120))\n",
        "    prvs = cv2.cvtColor(frame1,cv2.COLOR_BGR2GRAY)\n",
        "    hsv = np.zeros_like(frame1)\n",
        "    hsv[...,1] = 255\n",
        "    s = 1\n",
        "    while(cap.isOpened()):\n",
        "        ret, frame2 = cap.read()\n",
        "        if not ret:\n",
        "          break;\n",
        "        if s % 6 == 0:\n",
        "          frame = cv2.resize(frame2, (160, 120))\n",
        "          #Trích xuất dòng quang từ 2 frame gần nhau\n",
        "          next = cv2.cvtColor(frame,cv2.COLOR_BGR2GRAY)\n",
        "          optical_flow = cv2.optflow.DualTVL1OpticalFlow_create()\n",
        "          flow = optical_flow.calc(prvs, next, None)\n",
        "          mag, ang = cv2.cartToPolar(flow[...,0], flow[...,1])\n",
        "          hsv[...,0] = ang*180/np.pi/2\n",
        "          nom = np.zeros((160,120))\n",
        "          hsv[...,2] = cv2.normalize(mag,None,0,255,cv2.NORM_MINMAX)\n",
        "          bgr = cv2.cvtColor(hsv,cv2.COLOR_HSV2BGR)\n",
        "          gray = cv2.cvtColor(bgr, cv2.COLOR_BGR2GRAY)\n",
        "          \n",
        "          v = np.median(gray)\n",
        "          sigma = 0.33\n",
        "          lower = int(max(0, (1.0 - sigma) * v))\n",
        "          upper = int(min(255, (1.0 + sigma) * v))\n",
        "          canny = cv2.Canny(gray, lower, upper)\n",
        "          \n",
        "\n",
        "          kernel = np.ones((5,5),np.uint8)\n",
        "          closing = cv2.morphologyEx(canny, cv2.MORPH_CLOSE, kernel)\n",
        "\n",
        "          contour,hier = cv2.findContours(closing,cv2.RETR_CCOMP,cv2.CHAIN_APPROX_SIMPLE)\n",
        "\n",
        "          for cnt in contour:\n",
        "            cv2.drawContours(closing,[cnt],0,255,-1)\n",
        "\n",
        "          opening = cv2.morphologyEx(closing, cv2.MORPH_OPEN, kernel)\n",
        "\n",
        "          after_roi = next * opening\n",
        "\n",
        "          # trích xuất feature bằng HOG\n",
        "          image_hog = hog(after_roi, orientations=12, pixels_per_cell=(4, 4),\n",
        "            cells_per_block=(2, 2), block_norm='L1', visualize=False)\n",
        "          \n",
        "          Y = lsvc.predict([image_hog])\n",
        "          if Y[0] == 0:\n",
        "            flag = True\n",
        "          else:\n",
        "            flag = False\n",
        "        \n",
        "          prvs = next.copy()\n",
        "        if flag:\n",
        "          cv2.rectangle(frame2,(0,0),(w,h),(0,0,255),10)\n",
        "        out.write(frame2)\n",
        "\n",
        "        s += 1\n",
        "    \n",
        "    out.release()\n",
        "    print('Lưu kết quả của '+i+' ở file '+foname)\n",
        "\n",
        "  num_vid += 1\n",
        "if Choose == \"---\":\n",
        "  print(\"Chọn một mục khác và thử lại!!!\")\n",
        "else:\n",
        "  print(\"Hoan thanh!!!\")"
      ],
      "execution_count": null,
      "outputs": [
        {
          "output_type": "stream",
          "text": [
            "Nhập link\n",
            "https://github.com/UITTrinhQuangTruong/CS114.K21/raw/master/test2.mp4\n",
            "File đã được lưu với tên input.mp4\n",
            "Lưu kết quả của input.mp4 ở file output0.avi\n",
            "Hoan thanh!!!\n"
          ],
          "name": "stdout"
        }
      ]
    }
  ]
}