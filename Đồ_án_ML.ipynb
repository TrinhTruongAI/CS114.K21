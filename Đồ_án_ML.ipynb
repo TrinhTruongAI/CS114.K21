{
  "nbformat": 4,
  "nbformat_minor": 0,
  "metadata": {
    "colab": {
      "name": "Đồ_án_ML.ipynb",
      "provenance": [],
      "collapsed_sections": [],
      "include_colab_link": true
    },
    "kernelspec": {
      "name": "python3",
      "display_name": "Python 3"
    },
    "accelerator": "GPU"
  },
  "cells": [
    {
      "cell_type": "markdown",
      "metadata": {
        "id": "view-in-github",
        "colab_type": "text"
      },
      "source": [
        "<a href=\"https://colab.research.google.com/github/UITTrinhQuangTruong/CS114.K21/blob/master/%C4%90%E1%BB%93_%C3%A1n_ML.ipynb\" target=\"_parent\"><img src=\"https://colab.research.google.com/assets/colab-badge.svg\" alt=\"Open In Colab\"/></a>"
      ]
    },
    {
      "cell_type": "markdown",
      "metadata": {
        "id": "-f08DFG320HM",
        "colab_type": "text"
      },
      "source": [
        "###Đổi tên hàng loạt"
      ]
    },
    {
      "cell_type": "code",
      "metadata": {
        "id": "Dbeos9dVvEsk",
        "colab_type": "code",
        "colab": {
          "base_uri": "https://localhost:8080/",
          "height": 102
        },
        "outputId": "b883bbd1-b74c-4914-ece8-480f0fc2a068"
      },
      "source": [
        "#405 Cobaoluc\n",
        "#412 Khongbaoluc\n",
        "!pip install hickle"
      ],
      "execution_count": null,
      "outputs": [
        {
          "output_type": "stream",
          "text": [
            "Requirement already satisfied: hickle in /usr/local/lib/python3.6/dist-packages (4.0.1)\n",
            "Requirement already satisfied: numpy>=1.8 in /usr/local/lib/python3.6/dist-packages (from hickle) (1.18.5)\n",
            "Requirement already satisfied: six>=1.11.0 in /usr/local/lib/python3.6/dist-packages (from hickle) (1.15.0)\n",
            "Requirement already satisfied: dill>=0.3.0 in /usr/local/lib/python3.6/dist-packages (from hickle) (0.3.2)\n",
            "Requirement already satisfied: h5py>=2.8.0 in /usr/local/lib/python3.6/dist-packages (from hickle) (2.10.0)\n"
          ],
          "name": "stdout"
        }
      ]
    },
    {
      "cell_type": "markdown",
      "metadata": {
        "id": "2S7VR2kxBgZ3",
        "colab_type": "text"
      },
      "source": [
        "#Tiền xử lý Dữ liệu"
      ]
    },
    {
      "cell_type": "markdown",
      "metadata": {
        "id": "zlSprLNcBjrs",
        "colab_type": "text"
      },
      "source": [
        "## Import các thư viện cần thiết"
      ]
    },
    {
      "cell_type": "code",
      "metadata": {
        "id": "iczFFAI2_dJk",
        "colab_type": "code",
        "colab": {}
      },
      "source": [
        "import numpy as np\n",
        "import cv2\n",
        "from google.colab.patches import cv2_imshow\n",
        "from skimage.feature import hog\n",
        "from sklearn.cluster import KMeans\n",
        "from os import listdir\n",
        "from os.path import isfile, join"
      ],
      "execution_count": null,
      "outputs": []
    },
    {
      "cell_type": "markdown",
      "metadata": {
        "id": "SkMi69E2Bzou",
        "colab_type": "text"
      },
      "source": [
        "##Trích xuất Optical flow bằng thuật toán TVL1 có trong OpenCV\n",
        " "
      ]
    },
    {
      "cell_type": "markdown",
      "metadata": {
        "id": "nNo6ptiKCVR-",
        "colab_type": "text"
      },
      "source": [
        "### Định nghĩa về Optical flow\n",
        "Optical Flow là khái niệm chỉ sự chuyển động tương đối của các điểm trên bề mặt một đối tượng, vật thể nào đó gây ra, dưới góc quan sát của một điểm mốc (mắt, camera…).\n",
        "\n",
        "Dễ hiểu là biểu diễn điểm khác biệt giữa 2 khung hình do vật thể di chuyển gây ra.\n",
        "\n",
        "![Hình ảnh mô tả Optical flow của các xe](https://opencv-python-tutroals.readthedocs.io/en/latest/_images/opticalflow_lk.jpg)"
      ]
    },
    {
      "cell_type": "markdown",
      "metadata": {
        "id": "XluYq0cBE_vM",
        "colab_type": "text"
      },
      "source": [
        "###Các bước thực hiện\n",
        "B1: Định nghĩa đối tượng bằng hàm DualTVL1OpticalFlow_create()\n",
        "\n",
        "B2: Tính flowx, flowy của 2 frame gần nhau bằng hàm calc. Với flowx là Optical Flow theo hướng x và tương tự với y\n",
        "\n",
        "B3: Tính mag = sqrt(flowx + flowy)\n",
        "\n",
        "B4: Normalize mag về ảnh hsv\n",
        "\n",
        "B5: Chuyển ảnh về định dạng Grayscale"
      ]
    },
    {
      "cell_type": "code",
      "metadata": {
        "id": "HiUb_HgBAxrr",
        "colab_type": "code",
        "colab": {}
      },
      "source": [
        "optical_flow = cv2.optflow_DualTVL1OpticalFlow.create()\n",
        "def OpticalFlow(prvs, next, hsv):\n",
        "    \n",
        "    flow = optical_flow.calc(prvs, next, None)\n",
        "    mag, ang = cv2.cartToPolar(flow[...,0], flow[...,1])\n",
        "    hsv[...,0] = ang*180/np.pi/2\n",
        "    nom = np.zeros((160,120))\n",
        "    hsv[...,2] = cv2.normalize(mag,None,0,255,cv2.NORM_MINMAX)\n",
        "\n",
        "    bgr = cv2.cvtColor(hsv,cv2.COLOR_HSV2BGR)\n",
        "    gray = cv2.cvtColor(bgr, cv2.COLOR_BGR2GRAY)\n",
        "    return gray"
      ],
      "execution_count": null,
      "outputs": []
    },
    {
      "cell_type": "markdown",
      "metadata": {
        "id": "lA71J_NpHJHF",
        "colab_type": "text"
      },
      "source": [
        "##Trích xuất vùng chuyển động\n",
        "Từ ảnh Optimal Flow vừa tìm được ta trích xuất ra vùng có sự chuyển động\n"
      ]
    },
    {
      "cell_type": "markdown",
      "metadata": {
        "id": "wIj-XpZnH5Vl",
        "colab_type": "text"
      },
      "source": [
        "###Phát hiện cạnh với thuật toán Canny\n",
        "![Cận trên và dứoi](https://docs.opencv.org/trunk/hysteresis.jpg)\n",
        "\n",
        "Thuật toán Canny tham khảo thêm [tại đây](https://docs.opencv.org/trunk/da/d22/tutorial_py_canny.html)\n",
        "\n",
        "Hàm tìm maxVal và minVal tham khảo thêm [tại đây](https://www.pyimagesearch.com/2015/04/06/zero-parameter-automatic-canny-edge-detection-with-python-and-opencv/)"
      ]
    },
    {
      "cell_type": "code",
      "metadata": {
        "id": "TudPxCiaRvn1",
        "colab_type": "code",
        "colab": {}
      },
      "source": [
        "def CvCanny(matrix):\n",
        "  v = np.median(matrix)\n",
        "  sigma = 0.33\n",
        "  lower = int(max(0, (1.0 - sigma) * v))\n",
        "  upper = int(min(255, (1.0 + sigma) * v))\n",
        "  canny = cv2.Canny(matrix, lower, upper)\n",
        "  return canny"
      ],
      "execution_count": null,
      "outputs": []
    },
    {
      "cell_type": "markdown",
      "metadata": {
        "id": "B229UyChJCFh",
        "colab_type": "text"
      },
      "source": [
        "###Trích xuất vùng chuyển động"
      ]
    },
    {
      "cell_type": "code",
      "metadata": {
        "id": "h_-ry_V5JeQv",
        "colab_type": "code",
        "colab": {}
      },
      "source": [
        "def MRM(prvs, next, hsv):\n",
        "    #Trích xuất dòng quang từ 2 frame gần nhau\n",
        "    gray = OpticalFlow(prvs, next, hsv)\n",
        "    '''if s == 3:\n",
        "    flowx = cv2.normalize(flow[...,0],None,0,255,cv2.NORM_MINMAX)\n",
        "    cv2_imshow(flowx)\n",
        "    flowy = cv2.normalize(flow[...,1],None,0,255,cv2.NORM_MINMAX)\n",
        "    cv2_imshow(flowy)'''\n",
        "    '''Tăng độ nét cho ảnh dòng quang\n",
        "    kernel = np.array([[-1, -1, -1], [-1, 9, -1], [-1, -1, -1]])\n",
        "    sharpen = cv2.filter2D(hsv, -1, kernel)\n",
        "    canny1 = CvCanny(sharpen)'''\n",
        "    #Phát hiện cạnh\n",
        "    canny = CvCanny(gray)\n",
        "    #gray = cv2.cvtColor(bgr, cv2.COLOR_BGR2GRAY)\n",
        "    #cv2_imshow(gray)    \n",
        "    '''gray1 = cv2.filter2D(gray, -1, kernel)[...,::-1]\n",
        "    gray = cv2.ximgproc.guidedFilter(gray, gray1, radius=2, eps=0.004, dDepth=-1)[...,::-1]\n",
        "    canny3 = CvCanny(gray)\n",
        "    cv2_imshow(gray)'''\n",
        "    #Đóng các nét hở và lấp đầy\n",
        "    kernel = np.ones((5,5),np.uint8)\n",
        "    closing = cv2.morphologyEx(canny, cv2.MORPH_CLOSE, kernel)\n",
        "    '''h, w = closing.shape[:2]\n",
        "    mask = np.zeros((h+2, w+2), np.uint8)\n",
        "    im_floodfill = closing.copy()\n",
        "    cv2.floodFill(im_floodfill, mask, (0,0), 255);\n",
        "    im_floodfill_inv = cv2.bitwise_not(im_floodfill)\n",
        "    floodfill = closing | im_floodfill'''\n",
        "\n",
        "    #Lấp đầy những lỗ hổng trong vùng chuyển động\n",
        "    contour,hier = cv2.findContours(closing,cv2.RETR_CCOMP,cv2.CHAIN_APPROX_SIMPLE)\n",
        "    for cnt in contour:\n",
        "        cv2.drawContours(closing,[cnt],0,255,-1)\n",
        "    \n",
        "    #Xóa bỏ những nét thừa\n",
        "    opening = cv2.morphologyEx(closing, cv2.MORPH_OPEN, kernel)\n",
        "    \n",
        "    return opening"
      ],
      "execution_count": null,
      "outputs": []
    },
    {
      "cell_type": "markdown",
      "metadata": {
        "id": "nUUzqEw5ZU53",
        "colab_type": "text"
      },
      "source": [
        "#Trích xuất đặc trưng\n"
      ]
    },
    {
      "cell_type": "markdown",
      "metadata": {
        "id": "2uK31gy7ZlKu",
        "colab_type": "text"
      },
      "source": [
        "##Vùng quan tâm\n",
        "\n",
        "Xem vùng chuyển động như là một vùng quan tâm (ROI), áp dụng ROI vào ảnh xám"
      ]
    },
    {
      "cell_type": "code",
      "metadata": {
        "id": "5bvJsHZiUBCU",
        "colab_type": "code",
        "colab": {}
      },
      "source": [
        "def apply_roi(img, roi):\n",
        "  #thresh, roi = cv2.threshold(roi, thresh=128, maxval=1, type=cv2.THRESH_BINARY)\n",
        "  new_img = img * roi\n",
        "  return new_img"
      ],
      "execution_count": null,
      "outputs": []
    },
    {
      "cell_type": "markdown",
      "metadata": {
        "id": "SIVRF_Wdaeir",
        "colab_type": "text"
      },
      "source": [
        "##Trích xuất đặc trưng"
      ]
    },
    {
      "cell_type": "code",
      "metadata": {
        "id": "8XGNx6GVsfYg",
        "colab_type": "code",
        "colab": {}
      },
      "source": [
        "def extract_features(path, label, descriptor_list, labels):\n",
        "    #Lấy danh sách các clip trong path \n",
        "    videoPaths = [join(path, f) for f in listdir(path) if isfile(join(path, f))]\n",
        "    for videoPath in videoPaths:\n",
        "\n",
        "        #Đọc video\n",
        "        cap = cv2.VideoCapture(videoPath)\n",
        "        videoPaths = [join(path, f) for f in listdir(path) if isfile(join(path, f))]\n",
        "\n",
        "        ret, frame1 = cap.read()\n",
        "        if not ret:\n",
        "          break;\n",
        "        #Thay đổi kích thước frame\n",
        "        frame1 = cv2.resize(frame1, (160, 120))\n",
        "        prvs = cv2.cvtColor(frame1,cv2.COLOR_BGR2GRAY)\n",
        "        hsv = np.zeros_like(frame1)\n",
        "        hsv[...,1] = 255\n",
        "        s = 1\n",
        "        while(cap.isOpened()):\n",
        "            ret, frame2 = cap.read()\n",
        "\n",
        "            if not ret:\n",
        "                break;\n",
        "\n",
        "            if s % 6 == 0:\n",
        "                frame2 = cv2.resize(frame2, (160, 120))\n",
        "                next = cv2.cvtColor(frame2,cv2.COLOR_BGR2GRAY)\n",
        "                mrm = MRM(prvs, next, hsv)\n",
        "\n",
        "                after_roi = apply_roi(next, mrm)\n",
        "                descriptor = hog(after_roi, orientations=12, pixels_per_cell=(4, 4), cells_per_block=(2,2), block_norm='L2-Hys', visualize=False)\n",
        "                descriptor_list.append(descriptor)\n",
        "                labels.append(label)\n",
        "                prvs = next\n",
        "            s += 1\n",
        "\n",
        "        print(videoPath + \"---done--\")\n"
      ],
      "execution_count": null,
      "outputs": []
    },
    {
      "cell_type": "code",
      "metadata": {
        "id": "q0RQnGm3C5E5",
        "colab_type": "code",
        "colab": {}
      },
      "source": [
        "labels = []\n",
        "descriptor_list = []"
      ],
      "execution_count": null,
      "outputs": []
    },
    {
      "cell_type": "code",
      "metadata": {
        "id": "X4HK8LXbCnHA",
        "colab_type": "code",
        "colab": {
          "base_uri": "https://localhost:8080/",
          "height": 1000
        },
        "outputId": "21f89f93-97dc-4d30-c699-5dedfcab97a5"
      },
      "source": [
        "path = \"/content/drive/My Drive/Machine Lol/Data/Của Trường/Cobaoluc\"\n",
        "extract_features(path, 0, descriptor_list, labels)\n",
        "path = \"/content/drive/My Drive/Machine Lol/Data/Của Trường/khongbaoluc\"\n",
        "extract_features(path, 1, descriptor_list, labels)"
      ],
      "execution_count": null,
      "outputs": [
        {
          "output_type": "stream",
          "text": [
            "/content/drive/My Drive/Machine Lol/Data/Của Trường/Cobaoluc/136.mp4---done--\n",
            "/content/drive/My Drive/Machine Lol/Data/Của Trường/Cobaoluc/137.mp4---done--\n",
            "/content/drive/My Drive/Machine Lol/Data/Của Trường/Cobaoluc/138.mp4---done--\n",
            "/content/drive/My Drive/Machine Lol/Data/Của Trường/Cobaoluc/139.mp4---done--\n",
            "/content/drive/My Drive/Machine Lol/Data/Của Trường/Cobaoluc/140.mp4---done--\n",
            "/content/drive/My Drive/Machine Lol/Data/Của Trường/Cobaoluc/141.mp4---done--\n",
            "/content/drive/My Drive/Machine Lol/Data/Của Trường/Cobaoluc/142.mp4---done--\n",
            "/content/drive/My Drive/Machine Lol/Data/Của Trường/Cobaoluc/143.mp4---done--\n",
            "/content/drive/My Drive/Machine Lol/Data/Của Trường/Cobaoluc/144.mp4---done--\n",
            "/content/drive/My Drive/Machine Lol/Data/Của Trường/Cobaoluc/145.mp4---done--\n",
            "/content/drive/My Drive/Machine Lol/Data/Của Trường/Cobaoluc/146.mp4---done--\n",
            "/content/drive/My Drive/Machine Lol/Data/Của Trường/Cobaoluc/147.mp4---done--\n",
            "/content/drive/My Drive/Machine Lol/Data/Của Trường/Cobaoluc/148.mp4---done--\n",
            "/content/drive/My Drive/Machine Lol/Data/Của Trường/Cobaoluc/149.mp4---done--\n",
            "/content/drive/My Drive/Machine Lol/Data/Của Trường/Cobaoluc/150.mp4---done--\n",
            "/content/drive/My Drive/Machine Lol/Data/Của Trường/Cobaoluc/151.mp4---done--\n",
            "/content/drive/My Drive/Machine Lol/Data/Của Trường/Cobaoluc/152.mp4---done--\n",
            "/content/drive/My Drive/Machine Lol/Data/Của Trường/Cobaoluc/153.mp4---done--\n",
            "/content/drive/My Drive/Machine Lol/Data/Của Trường/Cobaoluc/154.mp4---done--\n",
            "/content/drive/My Drive/Machine Lol/Data/Của Trường/Cobaoluc/155.mp4---done--\n",
            "/content/drive/My Drive/Machine Lol/Data/Của Trường/Cobaoluc/156.mp4---done--\n",
            "/content/drive/My Drive/Machine Lol/Data/Của Trường/Cobaoluc/157.mp4---done--\n",
            "/content/drive/My Drive/Machine Lol/Data/Của Trường/Cobaoluc/158.mp4---done--\n",
            "/content/drive/My Drive/Machine Lol/Data/Của Trường/Cobaoluc/159.mp4---done--\n",
            "/content/drive/My Drive/Machine Lol/Data/Của Trường/Cobaoluc/160.mp4---done--\n",
            "/content/drive/My Drive/Machine Lol/Data/Của Trường/Cobaoluc/161.mp4---done--\n",
            "/content/drive/My Drive/Machine Lol/Data/Của Trường/Cobaoluc/162.mp4---done--\n",
            "/content/drive/My Drive/Machine Lol/Data/Của Trường/Cobaoluc/163.mp4---done--\n",
            "/content/drive/My Drive/Machine Lol/Data/Của Trường/Cobaoluc/164.mp4---done--\n",
            "/content/drive/My Drive/Machine Lol/Data/Của Trường/Cobaoluc/165.mp4---done--\n",
            "/content/drive/My Drive/Machine Lol/Data/Của Trường/Cobaoluc/166.mp4---done--\n",
            "/content/drive/My Drive/Machine Lol/Data/Của Trường/Cobaoluc/167.mp4---done--\n",
            "/content/drive/My Drive/Machine Lol/Data/Của Trường/Cobaoluc/168.mp4---done--\n",
            "/content/drive/My Drive/Machine Lol/Data/Của Trường/Cobaoluc/169.mp4---done--\n",
            "/content/drive/My Drive/Machine Lol/Data/Của Trường/Cobaoluc/170.mp4---done--\n",
            "/content/drive/My Drive/Machine Lol/Data/Của Trường/Cobaoluc/171.mp4---done--\n",
            "/content/drive/My Drive/Machine Lol/Data/Của Trường/Cobaoluc/172.mp4---done--\n",
            "/content/drive/My Drive/Machine Lol/Data/Của Trường/Cobaoluc/173.mp4---done--\n",
            "/content/drive/My Drive/Machine Lol/Data/Của Trường/Cobaoluc/174.mp4---done--\n",
            "/content/drive/My Drive/Machine Lol/Data/Của Trường/Cobaoluc/175.mp4---done--\n",
            "/content/drive/My Drive/Machine Lol/Data/Của Trường/Cobaoluc/176.mp4---done--\n",
            "/content/drive/My Drive/Machine Lol/Data/Của Trường/Cobaoluc/177.mp4---done--\n",
            "/content/drive/My Drive/Machine Lol/Data/Của Trường/Cobaoluc/178.mp4---done--\n",
            "/content/drive/My Drive/Machine Lol/Data/Của Trường/Cobaoluc/179.mp4---done--\n",
            "/content/drive/My Drive/Machine Lol/Data/Của Trường/Cobaoluc/180.mp4---done--\n",
            "/content/drive/My Drive/Machine Lol/Data/Của Trường/Cobaoluc/181.mp4---done--\n",
            "/content/drive/My Drive/Machine Lol/Data/Của Trường/Cobaoluc/182.mp4---done--\n",
            "/content/drive/My Drive/Machine Lol/Data/Của Trường/Cobaoluc/183.mp4---done--\n",
            "/content/drive/My Drive/Machine Lol/Data/Của Trường/Cobaoluc/184.mp4---done--\n",
            "/content/drive/My Drive/Machine Lol/Data/Của Trường/Cobaoluc/185.mp4---done--\n",
            "/content/drive/My Drive/Machine Lol/Data/Của Trường/Cobaoluc/186.mp4---done--\n",
            "/content/drive/My Drive/Machine Lol/Data/Của Trường/Cobaoluc/187.mp4---done--\n",
            "/content/drive/My Drive/Machine Lol/Data/Của Trường/Cobaoluc/188.mp4---done--\n",
            "/content/drive/My Drive/Machine Lol/Data/Của Trường/Cobaoluc/189.mp4---done--\n",
            "/content/drive/My Drive/Machine Lol/Data/Của Trường/Cobaoluc/190.mp4---done--\n",
            "/content/drive/My Drive/Machine Lol/Data/Của Trường/Cobaoluc/191.mp4---done--\n",
            "/content/drive/My Drive/Machine Lol/Data/Của Trường/Cobaoluc/192.mp4---done--\n",
            "/content/drive/My Drive/Machine Lol/Data/Của Trường/Cobaoluc/193.mp4---done--\n",
            "/content/drive/My Drive/Machine Lol/Data/Của Trường/Cobaoluc/194.mp4---done--\n",
            "/content/drive/My Drive/Machine Lol/Data/Của Trường/Cobaoluc/195.mp4---done--\n",
            "/content/drive/My Drive/Machine Lol/Data/Của Trường/Cobaoluc/196.mp4---done--\n",
            "/content/drive/My Drive/Machine Lol/Data/Của Trường/Cobaoluc/197.mp4---done--\n",
            "/content/drive/My Drive/Machine Lol/Data/Của Trường/Cobaoluc/198.mp4---done--\n",
            "/content/drive/My Drive/Machine Lol/Data/Của Trường/Cobaoluc/199.mp4---done--\n",
            "/content/drive/My Drive/Machine Lol/Data/Của Trường/Cobaoluc/200.mp4---done--\n",
            "/content/drive/My Drive/Machine Lol/Data/Của Trường/Cobaoluc/201.mp4---done--\n",
            "/content/drive/My Drive/Machine Lol/Data/Của Trường/Cobaoluc/202.mp4---done--\n",
            "/content/drive/My Drive/Machine Lol/Data/Của Trường/Cobaoluc/203.mp4---done--\n",
            "/content/drive/My Drive/Machine Lol/Data/Của Trường/Cobaoluc/204.mp4---done--\n",
            "/content/drive/My Drive/Machine Lol/Data/Của Trường/Cobaoluc/205.mp4---done--\n",
            "/content/drive/My Drive/Machine Lol/Data/Của Trường/Cobaoluc/206.mp4---done--\n",
            "/content/drive/My Drive/Machine Lol/Data/Của Trường/Cobaoluc/207.mp4---done--\n",
            "/content/drive/My Drive/Machine Lol/Data/Của Trường/Cobaoluc/208.mp4---done--\n",
            "/content/drive/My Drive/Machine Lol/Data/Của Trường/Cobaoluc/209.mp4---done--\n",
            "/content/drive/My Drive/Machine Lol/Data/Của Trường/Cobaoluc/210.mp4---done--\n",
            "/content/drive/My Drive/Machine Lol/Data/Của Trường/Cobaoluc/211.mp4---done--\n",
            "/content/drive/My Drive/Machine Lol/Data/Của Trường/Cobaoluc/212.mp4---done--\n",
            "/content/drive/My Drive/Machine Lol/Data/Của Trường/Cobaoluc/213.mp4---done--\n",
            "/content/drive/My Drive/Machine Lol/Data/Của Trường/Cobaoluc/214.mp4---done--\n",
            "/content/drive/My Drive/Machine Lol/Data/Của Trường/Cobaoluc/215.mp4---done--\n",
            "/content/drive/My Drive/Machine Lol/Data/Của Trường/Cobaoluc/216.mp4---done--\n",
            "/content/drive/My Drive/Machine Lol/Data/Của Trường/Cobaoluc/217.mp4---done--\n",
            "/content/drive/My Drive/Machine Lol/Data/Của Trường/Cobaoluc/218.mp4---done--\n",
            "/content/drive/My Drive/Machine Lol/Data/Của Trường/Cobaoluc/219.mp4---done--\n",
            "/content/drive/My Drive/Machine Lol/Data/Của Trường/Cobaoluc/220.mp4---done--\n",
            "/content/drive/My Drive/Machine Lol/Data/Của Trường/Cobaoluc/221.mp4---done--\n",
            "/content/drive/My Drive/Machine Lol/Data/Của Trường/Cobaoluc/222.mp4---done--\n",
            "/content/drive/My Drive/Machine Lol/Data/Của Trường/Cobaoluc/223.mp4---done--\n",
            "/content/drive/My Drive/Machine Lol/Data/Của Trường/Cobaoluc/224.mp4---done--\n",
            "/content/drive/My Drive/Machine Lol/Data/Của Trường/Cobaoluc/225.mp4---done--\n",
            "/content/drive/My Drive/Machine Lol/Data/Của Trường/Cobaoluc/226.mp4---done--\n",
            "/content/drive/My Drive/Machine Lol/Data/Của Trường/Cobaoluc/227.mp4---done--\n",
            "/content/drive/My Drive/Machine Lol/Data/Của Trường/Cobaoluc/228.mp4---done--\n",
            "/content/drive/My Drive/Machine Lol/Data/Của Trường/Cobaoluc/229.mp4---done--\n",
            "/content/drive/My Drive/Machine Lol/Data/Của Trường/Cobaoluc/230.mp4---done--\n",
            "/content/drive/My Drive/Machine Lol/Data/Của Trường/Cobaoluc/231.mp4---done--\n",
            "/content/drive/My Drive/Machine Lol/Data/Của Trường/Cobaoluc/232.mp4---done--\n",
            "/content/drive/My Drive/Machine Lol/Data/Của Trường/Cobaoluc/233.mp4---done--\n",
            "/content/drive/My Drive/Machine Lol/Data/Của Trường/Cobaoluc/234.mp4---done--\n",
            "/content/drive/My Drive/Machine Lol/Data/Của Trường/Cobaoluc/235.mp4---done--\n",
            "/content/drive/My Drive/Machine Lol/Data/Của Trường/Cobaoluc/236.mp4---done--\n",
            "/content/drive/My Drive/Machine Lol/Data/Của Trường/Cobaoluc/237.mp4---done--\n",
            "/content/drive/My Drive/Machine Lol/Data/Của Trường/Cobaoluc/238.mp4---done--\n",
            "/content/drive/My Drive/Machine Lol/Data/Của Trường/Cobaoluc/239.mp4---done--\n",
            "/content/drive/My Drive/Machine Lol/Data/Của Trường/Cobaoluc/240.mp4---done--\n",
            "/content/drive/My Drive/Machine Lol/Data/Của Trường/Cobaoluc/241.mp4---done--\n",
            "/content/drive/My Drive/Machine Lol/Data/Của Trường/Cobaoluc/242.mp4---done--\n",
            "/content/drive/My Drive/Machine Lol/Data/Của Trường/Cobaoluc/243.mp4---done--\n",
            "/content/drive/My Drive/Machine Lol/Data/Của Trường/Cobaoluc/244.mp4---done--\n",
            "/content/drive/My Drive/Machine Lol/Data/Của Trường/Cobaoluc/245.mp4---done--\n",
            "/content/drive/My Drive/Machine Lol/Data/Của Trường/Cobaoluc/246.mp4---done--\n",
            "/content/drive/My Drive/Machine Lol/Data/Của Trường/Cobaoluc/247.mp4---done--\n",
            "/content/drive/My Drive/Machine Lol/Data/Của Trường/Cobaoluc/248.mp4---done--\n",
            "/content/drive/My Drive/Machine Lol/Data/Của Trường/Cobaoluc/249.mp4---done--\n",
            "/content/drive/My Drive/Machine Lol/Data/Của Trường/Cobaoluc/250.mp4---done--\n",
            "/content/drive/My Drive/Machine Lol/Data/Của Trường/Cobaoluc/251.mp4---done--\n",
            "/content/drive/My Drive/Machine Lol/Data/Của Trường/Cobaoluc/252.mp4---done--\n",
            "/content/drive/My Drive/Machine Lol/Data/Của Trường/Cobaoluc/253.mp4---done--\n",
            "/content/drive/My Drive/Machine Lol/Data/Của Trường/Cobaoluc/254.mp4---done--\n",
            "/content/drive/My Drive/Machine Lol/Data/Của Trường/Cobaoluc/255.mp4---done--\n",
            "/content/drive/My Drive/Machine Lol/Data/Của Trường/Cobaoluc/256.mp4---done--\n",
            "/content/drive/My Drive/Machine Lol/Data/Của Trường/Cobaoluc/257.mp4---done--\n",
            "/content/drive/My Drive/Machine Lol/Data/Của Trường/Cobaoluc/258.mp4---done--\n",
            "/content/drive/My Drive/Machine Lol/Data/Của Trường/Cobaoluc/259.mp4---done--\n",
            "/content/drive/My Drive/Machine Lol/Data/Của Trường/Cobaoluc/260.mp4---done--\n",
            "/content/drive/My Drive/Machine Lol/Data/Của Trường/Cobaoluc/261.mp4---done--\n",
            "/content/drive/My Drive/Machine Lol/Data/Của Trường/Cobaoluc/262.mp4---done--\n",
            "/content/drive/My Drive/Machine Lol/Data/Của Trường/Cobaoluc/263.mp4---done--\n",
            "/content/drive/My Drive/Machine Lol/Data/Của Trường/Cobaoluc/264.mp4---done--\n",
            "/content/drive/My Drive/Machine Lol/Data/Của Trường/Cobaoluc/265.mp4---done--\n",
            "/content/drive/My Drive/Machine Lol/Data/Của Trường/Cobaoluc/266.mp4---done--\n",
            "/content/drive/My Drive/Machine Lol/Data/Của Trường/Cobaoluc/267.mp4---done--\n",
            "/content/drive/My Drive/Machine Lol/Data/Của Trường/Cobaoluc/268.mp4---done--\n",
            "/content/drive/My Drive/Machine Lol/Data/Của Trường/Cobaoluc/269.mp4---done--\n",
            "/content/drive/My Drive/Machine Lol/Data/Của Trường/Cobaoluc/270.mp4---done--\n",
            "/content/drive/My Drive/Machine Lol/Data/Của Trường/Cobaoluc/271.mp4---done--\n",
            "/content/drive/My Drive/Machine Lol/Data/Của Trường/khongbaoluc/136.mp4---done--\n",
            "/content/drive/My Drive/Machine Lol/Data/Của Trường/khongbaoluc/137.mp4---done--\n",
            "/content/drive/My Drive/Machine Lol/Data/Của Trường/khongbaoluc/138.mp4---done--\n",
            "/content/drive/My Drive/Machine Lol/Data/Của Trường/khongbaoluc/139.mp4---done--\n",
            "/content/drive/My Drive/Machine Lol/Data/Của Trường/khongbaoluc/140.mp4---done--\n",
            "/content/drive/My Drive/Machine Lol/Data/Của Trường/khongbaoluc/141.mp4---done--\n",
            "/content/drive/My Drive/Machine Lol/Data/Của Trường/khongbaoluc/142.mp4---done--\n",
            "/content/drive/My Drive/Machine Lol/Data/Của Trường/khongbaoluc/143.mp4---done--\n",
            "/content/drive/My Drive/Machine Lol/Data/Của Trường/khongbaoluc/144.mp4---done--\n",
            "/content/drive/My Drive/Machine Lol/Data/Của Trường/khongbaoluc/145.mp4---done--\n",
            "/content/drive/My Drive/Machine Lol/Data/Của Trường/khongbaoluc/146.mp4---done--\n",
            "/content/drive/My Drive/Machine Lol/Data/Của Trường/khongbaoluc/147.mp4---done--\n",
            "/content/drive/My Drive/Machine Lol/Data/Của Trường/khongbaoluc/148.mp4---done--\n",
            "/content/drive/My Drive/Machine Lol/Data/Của Trường/khongbaoluc/149.mp4---done--\n",
            "/content/drive/My Drive/Machine Lol/Data/Của Trường/khongbaoluc/150.mp4---done--\n",
            "/content/drive/My Drive/Machine Lol/Data/Của Trường/khongbaoluc/151.mp4---done--\n",
            "/content/drive/My Drive/Machine Lol/Data/Của Trường/khongbaoluc/152.mp4---done--\n",
            "/content/drive/My Drive/Machine Lol/Data/Của Trường/khongbaoluc/153.mp4---done--\n",
            "/content/drive/My Drive/Machine Lol/Data/Của Trường/khongbaoluc/154.mp4---done--\n",
            "/content/drive/My Drive/Machine Lol/Data/Của Trường/khongbaoluc/155.mp4---done--\n",
            "/content/drive/My Drive/Machine Lol/Data/Của Trường/khongbaoluc/156.mp4---done--\n",
            "/content/drive/My Drive/Machine Lol/Data/Của Trường/khongbaoluc/157.mp4---done--\n",
            "/content/drive/My Drive/Machine Lol/Data/Của Trường/khongbaoluc/158.mp4---done--\n",
            "/content/drive/My Drive/Machine Lol/Data/Của Trường/khongbaoluc/159.mp4---done--\n",
            "/content/drive/My Drive/Machine Lol/Data/Của Trường/khongbaoluc/160.mp4---done--\n",
            "/content/drive/My Drive/Machine Lol/Data/Của Trường/khongbaoluc/161.mp4---done--\n",
            "/content/drive/My Drive/Machine Lol/Data/Của Trường/khongbaoluc/162.mp4---done--\n",
            "/content/drive/My Drive/Machine Lol/Data/Của Trường/khongbaoluc/163.mp4---done--\n",
            "/content/drive/My Drive/Machine Lol/Data/Của Trường/khongbaoluc/164.mp4---done--\n",
            "/content/drive/My Drive/Machine Lol/Data/Của Trường/khongbaoluc/165.mp4---done--\n",
            "/content/drive/My Drive/Machine Lol/Data/Của Trường/khongbaoluc/166.mp4---done--\n",
            "/content/drive/My Drive/Machine Lol/Data/Của Trường/khongbaoluc/167.mp4---done--\n",
            "/content/drive/My Drive/Machine Lol/Data/Của Trường/khongbaoluc/168.mp4---done--\n",
            "/content/drive/My Drive/Machine Lol/Data/Của Trường/khongbaoluc/169.mp4---done--\n",
            "/content/drive/My Drive/Machine Lol/Data/Của Trường/khongbaoluc/170.mp4---done--\n",
            "/content/drive/My Drive/Machine Lol/Data/Của Trường/khongbaoluc/171.mp4---done--\n",
            "/content/drive/My Drive/Machine Lol/Data/Của Trường/khongbaoluc/172.mp4---done--\n",
            "/content/drive/My Drive/Machine Lol/Data/Của Trường/khongbaoluc/173.mp4---done--\n",
            "/content/drive/My Drive/Machine Lol/Data/Của Trường/khongbaoluc/174.mp4---done--\n",
            "/content/drive/My Drive/Machine Lol/Data/Của Trường/khongbaoluc/175.mp4---done--\n",
            "/content/drive/My Drive/Machine Lol/Data/Của Trường/khongbaoluc/176.mp4---done--\n",
            "/content/drive/My Drive/Machine Lol/Data/Của Trường/khongbaoluc/177.mp4---done--\n",
            "/content/drive/My Drive/Machine Lol/Data/Của Trường/khongbaoluc/178.mp4---done--\n",
            "/content/drive/My Drive/Machine Lol/Data/Của Trường/khongbaoluc/179.mp4---done--\n",
            "/content/drive/My Drive/Machine Lol/Data/Của Trường/khongbaoluc/180.mp4---done--\n",
            "/content/drive/My Drive/Machine Lol/Data/Của Trường/khongbaoluc/181.mp4---done--\n",
            "/content/drive/My Drive/Machine Lol/Data/Của Trường/khongbaoluc/182.mp4---done--\n",
            "/content/drive/My Drive/Machine Lol/Data/Của Trường/khongbaoluc/183.mp4---done--\n",
            "/content/drive/My Drive/Machine Lol/Data/Của Trường/khongbaoluc/184.mp4---done--\n",
            "/content/drive/My Drive/Machine Lol/Data/Của Trường/khongbaoluc/185.mp4---done--\n",
            "/content/drive/My Drive/Machine Lol/Data/Của Trường/khongbaoluc/186.mp4---done--\n",
            "/content/drive/My Drive/Machine Lol/Data/Của Trường/khongbaoluc/187.mp4---done--\n",
            "/content/drive/My Drive/Machine Lol/Data/Của Trường/khongbaoluc/188.mp4---done--\n",
            "/content/drive/My Drive/Machine Lol/Data/Của Trường/khongbaoluc/189.mp4---done--\n",
            "/content/drive/My Drive/Machine Lol/Data/Của Trường/khongbaoluc/190.mp4---done--\n",
            "/content/drive/My Drive/Machine Lol/Data/Của Trường/khongbaoluc/191.mp4---done--\n",
            "/content/drive/My Drive/Machine Lol/Data/Của Trường/khongbaoluc/192.mp4---done--\n",
            "/content/drive/My Drive/Machine Lol/Data/Của Trường/khongbaoluc/193.mp4---done--\n",
            "/content/drive/My Drive/Machine Lol/Data/Của Trường/khongbaoluc/194.mp4---done--\n",
            "/content/drive/My Drive/Machine Lol/Data/Của Trường/khongbaoluc/195.mp4---done--\n",
            "/content/drive/My Drive/Machine Lol/Data/Của Trường/khongbaoluc/196.mp4---done--\n",
            "/content/drive/My Drive/Machine Lol/Data/Của Trường/khongbaoluc/197.mp4---done--\n",
            "/content/drive/My Drive/Machine Lol/Data/Của Trường/khongbaoluc/198.mp4---done--\n",
            "/content/drive/My Drive/Machine Lol/Data/Của Trường/khongbaoluc/199.mp4---done--\n",
            "/content/drive/My Drive/Machine Lol/Data/Của Trường/khongbaoluc/200.mp4---done--\n",
            "/content/drive/My Drive/Machine Lol/Data/Của Trường/khongbaoluc/201.mp4---done--\n",
            "/content/drive/My Drive/Machine Lol/Data/Của Trường/khongbaoluc/202.mp4---done--\n",
            "/content/drive/My Drive/Machine Lol/Data/Của Trường/khongbaoluc/203.mp4---done--\n",
            "/content/drive/My Drive/Machine Lol/Data/Của Trường/khongbaoluc/204.mp4---done--\n",
            "/content/drive/My Drive/Machine Lol/Data/Của Trường/khongbaoluc/205.mp4---done--\n",
            "/content/drive/My Drive/Machine Lol/Data/Của Trường/khongbaoluc/206.mp4---done--\n",
            "/content/drive/My Drive/Machine Lol/Data/Của Trường/khongbaoluc/207.mp4---done--\n",
            "/content/drive/My Drive/Machine Lol/Data/Của Trường/khongbaoluc/208.mp4---done--\n",
            "/content/drive/My Drive/Machine Lol/Data/Của Trường/khongbaoluc/209.mp4---done--\n",
            "/content/drive/My Drive/Machine Lol/Data/Của Trường/khongbaoluc/210.mp4---done--\n",
            "/content/drive/My Drive/Machine Lol/Data/Của Trường/khongbaoluc/211.mp4---done--\n",
            "/content/drive/My Drive/Machine Lol/Data/Của Trường/khongbaoluc/212.mp4---done--\n",
            "/content/drive/My Drive/Machine Lol/Data/Của Trường/khongbaoluc/213.mp4---done--\n",
            "/content/drive/My Drive/Machine Lol/Data/Của Trường/khongbaoluc/214.mp4---done--\n",
            "/content/drive/My Drive/Machine Lol/Data/Của Trường/khongbaoluc/215.mp4---done--\n",
            "/content/drive/My Drive/Machine Lol/Data/Của Trường/khongbaoluc/216.mp4---done--\n",
            "/content/drive/My Drive/Machine Lol/Data/Của Trường/khongbaoluc/217.mp4---done--\n",
            "/content/drive/My Drive/Machine Lol/Data/Của Trường/khongbaoluc/218.mp4---done--\n",
            "/content/drive/My Drive/Machine Lol/Data/Của Trường/khongbaoluc/219.mp4---done--\n",
            "/content/drive/My Drive/Machine Lol/Data/Của Trường/khongbaoluc/220.mp4---done--\n",
            "/content/drive/My Drive/Machine Lol/Data/Của Trường/khongbaoluc/221.mp4---done--\n",
            "/content/drive/My Drive/Machine Lol/Data/Của Trường/khongbaoluc/222.mp4---done--\n",
            "/content/drive/My Drive/Machine Lol/Data/Của Trường/khongbaoluc/223.mp4---done--\n",
            "/content/drive/My Drive/Machine Lol/Data/Của Trường/khongbaoluc/224.mp4---done--\n",
            "/content/drive/My Drive/Machine Lol/Data/Của Trường/khongbaoluc/225.mp4---done--\n",
            "/content/drive/My Drive/Machine Lol/Data/Của Trường/khongbaoluc/226.mp4---done--\n",
            "/content/drive/My Drive/Machine Lol/Data/Của Trường/khongbaoluc/227.mp4---done--\n",
            "/content/drive/My Drive/Machine Lol/Data/Của Trường/khongbaoluc/228.mp4---done--\n",
            "/content/drive/My Drive/Machine Lol/Data/Của Trường/khongbaoluc/229.mp4---done--\n",
            "/content/drive/My Drive/Machine Lol/Data/Của Trường/khongbaoluc/230.mp4---done--\n",
            "/content/drive/My Drive/Machine Lol/Data/Của Trường/khongbaoluc/231.mp4---done--\n",
            "/content/drive/My Drive/Machine Lol/Data/Của Trường/khongbaoluc/232.mp4---done--\n",
            "/content/drive/My Drive/Machine Lol/Data/Của Trường/khongbaoluc/233.mp4---done--\n",
            "/content/drive/My Drive/Machine Lol/Data/Của Trường/khongbaoluc/234.mp4---done--\n",
            "/content/drive/My Drive/Machine Lol/Data/Của Trường/khongbaoluc/235.mp4---done--\n",
            "/content/drive/My Drive/Machine Lol/Data/Của Trường/khongbaoluc/236.mp4---done--\n",
            "/content/drive/My Drive/Machine Lol/Data/Của Trường/khongbaoluc/237.mp4---done--\n",
            "/content/drive/My Drive/Machine Lol/Data/Của Trường/khongbaoluc/238.mp4---done--\n",
            "/content/drive/My Drive/Machine Lol/Data/Của Trường/khongbaoluc/239.mp4---done--\n",
            "/content/drive/My Drive/Machine Lol/Data/Của Trường/khongbaoluc/240.mp4---done--\n",
            "/content/drive/My Drive/Machine Lol/Data/Của Trường/khongbaoluc/241.mp4---done--\n",
            "/content/drive/My Drive/Machine Lol/Data/Của Trường/khongbaoluc/242.mp4---done--\n",
            "/content/drive/My Drive/Machine Lol/Data/Của Trường/khongbaoluc/243.mp4---done--\n",
            "/content/drive/My Drive/Machine Lol/Data/Của Trường/khongbaoluc/244.mp4---done--\n",
            "/content/drive/My Drive/Machine Lol/Data/Của Trường/khongbaoluc/245.mp4---done--\n",
            "/content/drive/My Drive/Machine Lol/Data/Của Trường/khongbaoluc/246.mp4---done--\n",
            "/content/drive/My Drive/Machine Lol/Data/Của Trường/khongbaoluc/247.mp4---done--\n",
            "/content/drive/My Drive/Machine Lol/Data/Của Trường/khongbaoluc/248.mp4---done--\n",
            "/content/drive/My Drive/Machine Lol/Data/Của Trường/khongbaoluc/249.mp4---done--\n",
            "/content/drive/My Drive/Machine Lol/Data/Của Trường/khongbaoluc/250.mp4---done--\n",
            "/content/drive/My Drive/Machine Lol/Data/Của Trường/khongbaoluc/251.mp4---done--\n",
            "/content/drive/My Drive/Machine Lol/Data/Của Trường/khongbaoluc/252.mp4---done--\n",
            "/content/drive/My Drive/Machine Lol/Data/Của Trường/khongbaoluc/253.mp4---done--\n",
            "/content/drive/My Drive/Machine Lol/Data/Của Trường/khongbaoluc/254.mp4---done--\n",
            "/content/drive/My Drive/Machine Lol/Data/Của Trường/khongbaoluc/255.mp4---done--\n",
            "/content/drive/My Drive/Machine Lol/Data/Của Trường/khongbaoluc/256.mp4---done--\n",
            "/content/drive/My Drive/Machine Lol/Data/Của Trường/khongbaoluc/257.mp4---done--\n",
            "/content/drive/My Drive/Machine Lol/Data/Của Trường/khongbaoluc/258.mp4---done--\n",
            "/content/drive/My Drive/Machine Lol/Data/Của Trường/khongbaoluc/259.mp4---done--\n",
            "/content/drive/My Drive/Machine Lol/Data/Của Trường/khongbaoluc/260.mp4---done--\n",
            "/content/drive/My Drive/Machine Lol/Data/Của Trường/khongbaoluc/261.mp4---done--\n",
            "/content/drive/My Drive/Machine Lol/Data/Của Trường/khongbaoluc/262.mp4---done--\n",
            "/content/drive/My Drive/Machine Lol/Data/Của Trường/khongbaoluc/263.mp4---done--\n",
            "/content/drive/My Drive/Machine Lol/Data/Của Trường/khongbaoluc/264.mp4---done--\n",
            "/content/drive/My Drive/Machine Lol/Data/Của Trường/khongbaoluc/265.mp4---done--\n",
            "/content/drive/My Drive/Machine Lol/Data/Của Trường/khongbaoluc/266.mp4---done--\n",
            "/content/drive/My Drive/Machine Lol/Data/Của Trường/khongbaoluc/267.mp4---done--\n",
            "/content/drive/My Drive/Machine Lol/Data/Của Trường/khongbaoluc/268.mp4---done--\n",
            "/content/drive/My Drive/Machine Lol/Data/Của Trường/khongbaoluc/269.mp4---done--\n",
            "/content/drive/My Drive/Machine Lol/Data/Của Trường/khongbaoluc/270.mp4---done--\n",
            "/content/drive/My Drive/Machine Lol/Data/Của Trường/khongbaoluc/271.mp4---done--\n"
          ],
          "name": "stdout"
        }
      ]
    },
    {
      "cell_type": "code",
      "metadata": {
        "id": "whE-AXUYCoPQ",
        "colab_type": "code",
        "colab": {
          "base_uri": "https://localhost:8080/",
          "height": 51
        },
        "outputId": "0b7c48a7-718f-4146-dc21-9c22555f7068"
      },
      "source": [
        "print(len(descriptor_list))\n",
        "print(len(labels))"
      ],
      "execution_count": null,
      "outputs": [
        {
          "output_type": "stream",
          "text": [
            "3584\n",
            "3584\n"
          ],
          "name": "stdout"
        }
      ]
    },
    {
      "cell_type": "markdown",
      "metadata": {
        "id": "rxQmJ2prZOvB",
        "colab_type": "text"
      },
      "source": [
        "##Chuẩn hóa đặc trưng"
      ]
    },
    {
      "cell_type": "code",
      "metadata": {
        "id": "f75NoPt4ZOM2",
        "colab_type": "code",
        "colab": {}
      },
      "source": [
        "from sklearn.preprocessing import MinMaxScaler\n",
        "\n",
        "trans = MinMaxScaler()\n",
        "\n",
        "data = trans.fit_transform(descriptor_list)"
      ],
      "execution_count": null,
      "outputs": []
    },
    {
      "cell_type": "markdown",
      "metadata": {
        "id": "fmbZvh2EHorY",
        "colab_type": "text"
      },
      "source": [
        "##Lưu lại đặc trưng cho lần train tiếp theo"
      ]
    },
    {
      "cell_type": "code",
      "metadata": {
        "id": "rYZvYo6GFNzK",
        "colab_type": "code",
        "colab": {}
      },
      "source": [
        "import hickle as hck\n",
        "\n",
        "hck.dump(descriptor_list, '/content/drive/My Drive/Machine Lol/backup/data3.hkl', mode='w')\n",
        "\n",
        "hck.dump(labels, '/content/drive/My Drive/Machine Lol/backup/labels3.hkl', mode='w')"
      ],
      "execution_count": null,
      "outputs": []
    },
    {
      "cell_type": "markdown",
      "metadata": {
        "id": "PlqWRw6FE1P8",
        "colab_type": "text"
      },
      "source": [
        "#Training model"
      ]
    },
    {
      "cell_type": "markdown",
      "metadata": {
        "id": "2RLBEMcKHSBu",
        "colab_type": "text"
      },
      "source": [
        "###Load Data Backup(Nếu có)"
      ]
    },
    {
      "cell_type": "code",
      "metadata": {
        "id": "RDZCtIA8FtvW",
        "colab_type": "code",
        "colab": {
          "base_uri": "https://localhost:8080/",
          "height": 51
        },
        "outputId": "f2459ca6-fceb-4fa8-d61c-3aedf5f8d18e"
      },
      "source": [
        "import hickle as hck\n",
        "descriptor_list = hck.load('/content/drive/My Drive/Machine Lol/backup/data3.hkl')\n",
        "labels = hck.load('/content/drive/My Drive/Machine Lol/backup/labels3.hkl')\n",
        "\n",
        "print(len(descriptor_list))\n",
        "print(len(labels))"
      ],
      "execution_count": null,
      "outputs": [
        {
          "output_type": "stream",
          "text": [
            "3584\n",
            "3584\n"
          ],
          "name": "stdout"
        }
      ]
    },
    {
      "cell_type": "markdown",
      "metadata": {
        "id": "VXMAvPfR-snT",
        "colab_type": "text"
      },
      "source": [
        "##Chia tỉ lệ Train|Test\n",
        "Tỉ lệ giữa data train và data test là 0.8|0.2"
      ]
    },
    {
      "cell_type": "code",
      "metadata": {
        "id": "r1aPF4rZ-r4C",
        "colab_type": "code",
        "colab": {}
      },
      "source": [
        "from sklearn.model_selection import train_test_split\n",
        "\n",
        "trainX, testX, trainY, testY = train_test_split(data, labels,test_size =0.2, random_state=42)"
      ],
      "execution_count": null,
      "outputs": []
    },
    {
      "cell_type": "markdown",
      "metadata": {
        "id": "xHLsEs5KE3mH",
        "colab_type": "text"
      },
      "source": [
        "##Model LogisticRegression"
      ]
    },
    {
      "cell_type": "code",
      "metadata": {
        "id": "FYIiIpPnE-ht",
        "colab_type": "code",
        "colab": {
          "base_uri": "https://localhost:8080/",
          "height": 375
        },
        "outputId": "785bb0cf-39af-4e94-ac7a-3fa6c37dacd2"
      },
      "source": [
        "\n",
        "from sklearn.linear_model import LogisticRegression\n",
        "from sklearn.metrics import precision_recall_fscore_support\n",
        "\n",
        "lr = LogisticRegression(class_weight='balanced')\n",
        "\n",
        "lr.fit(trainX, trainY)\n",
        "\n",
        "\n",
        "print(lr.score(trainX, trainY))\n",
        "print(lr.score(testX, testY))\n",
        "\n",
        "predY = lr.predict(testX)\n",
        "\n",
        "print(precision_recall_fscore_support(testY, predY, average='macro'))"
      ],
      "execution_count": null,
      "outputs": [
        {
          "output_type": "error",
          "ename": "KeyboardInterrupt",
          "evalue": "ignored",
          "traceback": [
            "\u001b[0;31m---------------------------------------------------------------------------\u001b[0m",
            "\u001b[0;31mKeyboardInterrupt\u001b[0m                         Traceback (most recent call last)",
            "\u001b[0;32m<ipython-input-34-5ef4de98db75>\u001b[0m in \u001b[0;36m<module>\u001b[0;34m()\u001b[0m\n\u001b[1;32m      5\u001b[0m \u001b[0mlr\u001b[0m \u001b[0;34m=\u001b[0m \u001b[0mLogisticRegression\u001b[0m\u001b[0;34m(\u001b[0m\u001b[0;34m)\u001b[0m\u001b[0;34m\u001b[0m\u001b[0;34m\u001b[0m\u001b[0m\n\u001b[1;32m      6\u001b[0m \u001b[0;34m\u001b[0m\u001b[0m\n\u001b[0;32m----> 7\u001b[0;31m \u001b[0mlr\u001b[0m\u001b[0;34m.\u001b[0m\u001b[0mfit\u001b[0m\u001b[0;34m(\u001b[0m\u001b[0mtrainX\u001b[0m\u001b[0;34m,\u001b[0m \u001b[0mtrainY\u001b[0m\u001b[0;34m)\u001b[0m\u001b[0;34m\u001b[0m\u001b[0;34m\u001b[0m\u001b[0m\n\u001b[0m\u001b[1;32m      8\u001b[0m \u001b[0;34m\u001b[0m\u001b[0m\n\u001b[1;32m      9\u001b[0m \u001b[0;34m\u001b[0m\u001b[0m\n",
            "\u001b[0;32m/usr/local/lib/python3.6/dist-packages/sklearn/linear_model/_logistic.py\u001b[0m in \u001b[0;36mfit\u001b[0;34m(self, X, y, sample_weight)\u001b[0m\n\u001b[1;32m   1599\u001b[0m                       \u001b[0mpenalty\u001b[0m\u001b[0;34m=\u001b[0m\u001b[0mpenalty\u001b[0m\u001b[0;34m,\u001b[0m \u001b[0mmax_squared_sum\u001b[0m\u001b[0;34m=\u001b[0m\u001b[0mmax_squared_sum\u001b[0m\u001b[0;34m,\u001b[0m\u001b[0;34m\u001b[0m\u001b[0;34m\u001b[0m\u001b[0m\n\u001b[1;32m   1600\u001b[0m                       sample_weight=sample_weight)\n\u001b[0;32m-> 1601\u001b[0;31m             for class_, warm_start_coef_ in zip(classes_, warm_start_coef))\n\u001b[0m\u001b[1;32m   1602\u001b[0m \u001b[0;34m\u001b[0m\u001b[0m\n\u001b[1;32m   1603\u001b[0m         \u001b[0mfold_coefs_\u001b[0m\u001b[0;34m,\u001b[0m \u001b[0m_\u001b[0m\u001b[0;34m,\u001b[0m \u001b[0mn_iter_\u001b[0m \u001b[0;34m=\u001b[0m \u001b[0mzip\u001b[0m\u001b[0;34m(\u001b[0m\u001b[0;34m*\u001b[0m\u001b[0mfold_coefs_\u001b[0m\u001b[0;34m)\u001b[0m\u001b[0;34m\u001b[0m\u001b[0;34m\u001b[0m\u001b[0m\n",
            "\u001b[0;32m/usr/local/lib/python3.6/dist-packages/joblib/parallel.py\u001b[0m in \u001b[0;36m__call__\u001b[0;34m(self, iterable)\u001b[0m\n\u001b[1;32m   1027\u001b[0m             \u001b[0;31m# remaining jobs.\u001b[0m\u001b[0;34m\u001b[0m\u001b[0;34m\u001b[0m\u001b[0;34m\u001b[0m\u001b[0m\n\u001b[1;32m   1028\u001b[0m             \u001b[0mself\u001b[0m\u001b[0;34m.\u001b[0m\u001b[0m_iterating\u001b[0m \u001b[0;34m=\u001b[0m \u001b[0;32mFalse\u001b[0m\u001b[0;34m\u001b[0m\u001b[0;34m\u001b[0m\u001b[0m\n\u001b[0;32m-> 1029\u001b[0;31m             \u001b[0;32mif\u001b[0m \u001b[0mself\u001b[0m\u001b[0;34m.\u001b[0m\u001b[0mdispatch_one_batch\u001b[0m\u001b[0;34m(\u001b[0m\u001b[0miterator\u001b[0m\u001b[0;34m)\u001b[0m\u001b[0;34m:\u001b[0m\u001b[0;34m\u001b[0m\u001b[0;34m\u001b[0m\u001b[0m\n\u001b[0m\u001b[1;32m   1030\u001b[0m                 \u001b[0mself\u001b[0m\u001b[0;34m.\u001b[0m\u001b[0m_iterating\u001b[0m \u001b[0;34m=\u001b[0m \u001b[0mself\u001b[0m\u001b[0;34m.\u001b[0m\u001b[0m_original_iterator\u001b[0m \u001b[0;32mis\u001b[0m \u001b[0;32mnot\u001b[0m \u001b[0;32mNone\u001b[0m\u001b[0;34m\u001b[0m\u001b[0;34m\u001b[0m\u001b[0m\n\u001b[1;32m   1031\u001b[0m \u001b[0;34m\u001b[0m\u001b[0m\n",
            "\u001b[0;32m/usr/local/lib/python3.6/dist-packages/joblib/parallel.py\u001b[0m in \u001b[0;36mdispatch_one_batch\u001b[0;34m(self, iterator)\u001b[0m\n\u001b[1;32m    845\u001b[0m                 \u001b[0;32mreturn\u001b[0m \u001b[0;32mFalse\u001b[0m\u001b[0;34m\u001b[0m\u001b[0;34m\u001b[0m\u001b[0m\n\u001b[1;32m    846\u001b[0m             \u001b[0;32melse\u001b[0m\u001b[0;34m:\u001b[0m\u001b[0;34m\u001b[0m\u001b[0;34m\u001b[0m\u001b[0m\n\u001b[0;32m--> 847\u001b[0;31m                 \u001b[0mself\u001b[0m\u001b[0;34m.\u001b[0m\u001b[0m_dispatch\u001b[0m\u001b[0;34m(\u001b[0m\u001b[0mtasks\u001b[0m\u001b[0;34m)\u001b[0m\u001b[0;34m\u001b[0m\u001b[0;34m\u001b[0m\u001b[0m\n\u001b[0m\u001b[1;32m    848\u001b[0m                 \u001b[0;32mreturn\u001b[0m \u001b[0;32mTrue\u001b[0m\u001b[0;34m\u001b[0m\u001b[0;34m\u001b[0m\u001b[0m\n\u001b[1;32m    849\u001b[0m \u001b[0;34m\u001b[0m\u001b[0m\n",
            "\u001b[0;32m/usr/local/lib/python3.6/dist-packages/joblib/parallel.py\u001b[0m in \u001b[0;36m_dispatch\u001b[0;34m(self, batch)\u001b[0m\n\u001b[1;32m    763\u001b[0m         \u001b[0;32mwith\u001b[0m \u001b[0mself\u001b[0m\u001b[0;34m.\u001b[0m\u001b[0m_lock\u001b[0m\u001b[0;34m:\u001b[0m\u001b[0;34m\u001b[0m\u001b[0;34m\u001b[0m\u001b[0m\n\u001b[1;32m    764\u001b[0m             \u001b[0mjob_idx\u001b[0m \u001b[0;34m=\u001b[0m \u001b[0mlen\u001b[0m\u001b[0;34m(\u001b[0m\u001b[0mself\u001b[0m\u001b[0;34m.\u001b[0m\u001b[0m_jobs\u001b[0m\u001b[0;34m)\u001b[0m\u001b[0;34m\u001b[0m\u001b[0;34m\u001b[0m\u001b[0m\n\u001b[0;32m--> 765\u001b[0;31m             \u001b[0mjob\u001b[0m \u001b[0;34m=\u001b[0m \u001b[0mself\u001b[0m\u001b[0;34m.\u001b[0m\u001b[0m_backend\u001b[0m\u001b[0;34m.\u001b[0m\u001b[0mapply_async\u001b[0m\u001b[0;34m(\u001b[0m\u001b[0mbatch\u001b[0m\u001b[0;34m,\u001b[0m \u001b[0mcallback\u001b[0m\u001b[0;34m=\u001b[0m\u001b[0mcb\u001b[0m\u001b[0;34m)\u001b[0m\u001b[0;34m\u001b[0m\u001b[0;34m\u001b[0m\u001b[0m\n\u001b[0m\u001b[1;32m    766\u001b[0m             \u001b[0;31m# A job can complete so quickly than its callback is\u001b[0m\u001b[0;34m\u001b[0m\u001b[0;34m\u001b[0m\u001b[0;34m\u001b[0m\u001b[0m\n\u001b[1;32m    767\u001b[0m             \u001b[0;31m# called before we get here, causing self._jobs to\u001b[0m\u001b[0;34m\u001b[0m\u001b[0;34m\u001b[0m\u001b[0;34m\u001b[0m\u001b[0m\n",
            "\u001b[0;32m/usr/local/lib/python3.6/dist-packages/joblib/_parallel_backends.py\u001b[0m in \u001b[0;36mapply_async\u001b[0;34m(self, func, callback)\u001b[0m\n\u001b[1;32m    206\u001b[0m     \u001b[0;32mdef\u001b[0m \u001b[0mapply_async\u001b[0m\u001b[0;34m(\u001b[0m\u001b[0mself\u001b[0m\u001b[0;34m,\u001b[0m \u001b[0mfunc\u001b[0m\u001b[0;34m,\u001b[0m \u001b[0mcallback\u001b[0m\u001b[0;34m=\u001b[0m\u001b[0;32mNone\u001b[0m\u001b[0;34m)\u001b[0m\u001b[0;34m:\u001b[0m\u001b[0;34m\u001b[0m\u001b[0;34m\u001b[0m\u001b[0m\n\u001b[1;32m    207\u001b[0m         \u001b[0;34m\"\"\"Schedule a func to be run\"\"\"\u001b[0m\u001b[0;34m\u001b[0m\u001b[0;34m\u001b[0m\u001b[0m\n\u001b[0;32m--> 208\u001b[0;31m         \u001b[0mresult\u001b[0m \u001b[0;34m=\u001b[0m \u001b[0mImmediateResult\u001b[0m\u001b[0;34m(\u001b[0m\u001b[0mfunc\u001b[0m\u001b[0;34m)\u001b[0m\u001b[0;34m\u001b[0m\u001b[0;34m\u001b[0m\u001b[0m\n\u001b[0m\u001b[1;32m    209\u001b[0m         \u001b[0;32mif\u001b[0m \u001b[0mcallback\u001b[0m\u001b[0;34m:\u001b[0m\u001b[0;34m\u001b[0m\u001b[0;34m\u001b[0m\u001b[0m\n\u001b[1;32m    210\u001b[0m             \u001b[0mcallback\u001b[0m\u001b[0;34m(\u001b[0m\u001b[0mresult\u001b[0m\u001b[0;34m)\u001b[0m\u001b[0;34m\u001b[0m\u001b[0;34m\u001b[0m\u001b[0m\n",
            "\u001b[0;32m/usr/local/lib/python3.6/dist-packages/joblib/_parallel_backends.py\u001b[0m in \u001b[0;36m__init__\u001b[0;34m(self, batch)\u001b[0m\n\u001b[1;32m    570\u001b[0m         \u001b[0;31m# Don't delay the application, to avoid keeping the input\u001b[0m\u001b[0;34m\u001b[0m\u001b[0;34m\u001b[0m\u001b[0;34m\u001b[0m\u001b[0m\n\u001b[1;32m    571\u001b[0m         \u001b[0;31m# arguments in memory\u001b[0m\u001b[0;34m\u001b[0m\u001b[0;34m\u001b[0m\u001b[0;34m\u001b[0m\u001b[0m\n\u001b[0;32m--> 572\u001b[0;31m         \u001b[0mself\u001b[0m\u001b[0;34m.\u001b[0m\u001b[0mresults\u001b[0m \u001b[0;34m=\u001b[0m \u001b[0mbatch\u001b[0m\u001b[0;34m(\u001b[0m\u001b[0;34m)\u001b[0m\u001b[0;34m\u001b[0m\u001b[0;34m\u001b[0m\u001b[0m\n\u001b[0m\u001b[1;32m    573\u001b[0m \u001b[0;34m\u001b[0m\u001b[0m\n\u001b[1;32m    574\u001b[0m     \u001b[0;32mdef\u001b[0m \u001b[0mget\u001b[0m\u001b[0;34m(\u001b[0m\u001b[0mself\u001b[0m\u001b[0;34m)\u001b[0m\u001b[0;34m:\u001b[0m\u001b[0;34m\u001b[0m\u001b[0;34m\u001b[0m\u001b[0m\n",
            "\u001b[0;32m/usr/local/lib/python3.6/dist-packages/joblib/parallel.py\u001b[0m in \u001b[0;36m__call__\u001b[0;34m(self)\u001b[0m\n\u001b[1;32m    251\u001b[0m         \u001b[0;32mwith\u001b[0m \u001b[0mparallel_backend\u001b[0m\u001b[0;34m(\u001b[0m\u001b[0mself\u001b[0m\u001b[0;34m.\u001b[0m\u001b[0m_backend\u001b[0m\u001b[0;34m,\u001b[0m \u001b[0mn_jobs\u001b[0m\u001b[0;34m=\u001b[0m\u001b[0mself\u001b[0m\u001b[0;34m.\u001b[0m\u001b[0m_n_jobs\u001b[0m\u001b[0;34m)\u001b[0m\u001b[0;34m:\u001b[0m\u001b[0;34m\u001b[0m\u001b[0;34m\u001b[0m\u001b[0m\n\u001b[1;32m    252\u001b[0m             return [func(*args, **kwargs)\n\u001b[0;32m--> 253\u001b[0;31m                     for func, args, kwargs in self.items]\n\u001b[0m\u001b[1;32m    254\u001b[0m \u001b[0;34m\u001b[0m\u001b[0m\n\u001b[1;32m    255\u001b[0m     \u001b[0;32mdef\u001b[0m \u001b[0m__reduce__\u001b[0m\u001b[0;34m(\u001b[0m\u001b[0mself\u001b[0m\u001b[0;34m)\u001b[0m\u001b[0;34m:\u001b[0m\u001b[0;34m\u001b[0m\u001b[0;34m\u001b[0m\u001b[0m\n",
            "\u001b[0;32m/usr/local/lib/python3.6/dist-packages/joblib/parallel.py\u001b[0m in \u001b[0;36m<listcomp>\u001b[0;34m(.0)\u001b[0m\n\u001b[1;32m    251\u001b[0m         \u001b[0;32mwith\u001b[0m \u001b[0mparallel_backend\u001b[0m\u001b[0;34m(\u001b[0m\u001b[0mself\u001b[0m\u001b[0;34m.\u001b[0m\u001b[0m_backend\u001b[0m\u001b[0;34m,\u001b[0m \u001b[0mn_jobs\u001b[0m\u001b[0;34m=\u001b[0m\u001b[0mself\u001b[0m\u001b[0;34m.\u001b[0m\u001b[0m_n_jobs\u001b[0m\u001b[0;34m)\u001b[0m\u001b[0;34m:\u001b[0m\u001b[0;34m\u001b[0m\u001b[0;34m\u001b[0m\u001b[0m\n\u001b[1;32m    252\u001b[0m             return [func(*args, **kwargs)\n\u001b[0;32m--> 253\u001b[0;31m                     for func, args, kwargs in self.items]\n\u001b[0m\u001b[1;32m    254\u001b[0m \u001b[0;34m\u001b[0m\u001b[0m\n\u001b[1;32m    255\u001b[0m     \u001b[0;32mdef\u001b[0m \u001b[0m__reduce__\u001b[0m\u001b[0;34m(\u001b[0m\u001b[0mself\u001b[0m\u001b[0;34m)\u001b[0m\u001b[0;34m:\u001b[0m\u001b[0;34m\u001b[0m\u001b[0;34m\u001b[0m\u001b[0m\n",
            "\u001b[0;32m/usr/local/lib/python3.6/dist-packages/sklearn/linear_model/_logistic.py\u001b[0m in \u001b[0;36m_logistic_regression_path\u001b[0;34m(X, y, pos_class, Cs, fit_intercept, max_iter, tol, verbose, solver, coef, class_weight, dual, penalty, intercept_scaling, multi_class, random_state, check_input, max_squared_sum, sample_weight, l1_ratio)\u001b[0m\n\u001b[1;32m    934\u001b[0m                 \u001b[0mfunc\u001b[0m\u001b[0;34m,\u001b[0m \u001b[0mw0\u001b[0m\u001b[0;34m,\u001b[0m \u001b[0mmethod\u001b[0m\u001b[0;34m=\u001b[0m\u001b[0;34m\"L-BFGS-B\"\u001b[0m\u001b[0;34m,\u001b[0m \u001b[0mjac\u001b[0m\u001b[0;34m=\u001b[0m\u001b[0;32mTrue\u001b[0m\u001b[0;34m,\u001b[0m\u001b[0;34m\u001b[0m\u001b[0;34m\u001b[0m\u001b[0m\n\u001b[1;32m    935\u001b[0m                 \u001b[0margs\u001b[0m\u001b[0;34m=\u001b[0m\u001b[0;34m(\u001b[0m\u001b[0mX\u001b[0m\u001b[0;34m,\u001b[0m \u001b[0mtarget\u001b[0m\u001b[0;34m,\u001b[0m \u001b[0;36m1.\u001b[0m \u001b[0;34m/\u001b[0m \u001b[0mC\u001b[0m\u001b[0;34m,\u001b[0m \u001b[0msample_weight\u001b[0m\u001b[0;34m)\u001b[0m\u001b[0;34m,\u001b[0m\u001b[0;34m\u001b[0m\u001b[0;34m\u001b[0m\u001b[0m\n\u001b[0;32m--> 936\u001b[0;31m                 \u001b[0moptions\u001b[0m\u001b[0;34m=\u001b[0m\u001b[0;34m{\u001b[0m\u001b[0;34m\"iprint\"\u001b[0m\u001b[0;34m:\u001b[0m \u001b[0miprint\u001b[0m\u001b[0;34m,\u001b[0m \u001b[0;34m\"gtol\"\u001b[0m\u001b[0;34m:\u001b[0m \u001b[0mtol\u001b[0m\u001b[0;34m,\u001b[0m \u001b[0;34m\"maxiter\"\u001b[0m\u001b[0;34m:\u001b[0m \u001b[0mmax_iter\u001b[0m\u001b[0;34m}\u001b[0m\u001b[0;34m\u001b[0m\u001b[0;34m\u001b[0m\u001b[0m\n\u001b[0m\u001b[1;32m    937\u001b[0m             )\n\u001b[1;32m    938\u001b[0m             n_iter_i = _check_optimize_result(\n",
            "\u001b[0;32m/usr/local/lib/python3.6/dist-packages/scipy/optimize/_minimize.py\u001b[0m in \u001b[0;36mminimize\u001b[0;34m(fun, x0, args, method, jac, hess, hessp, bounds, constraints, tol, callback, options)\u001b[0m\n\u001b[1;32m    608\u001b[0m     \u001b[0;32melif\u001b[0m \u001b[0mmeth\u001b[0m \u001b[0;34m==\u001b[0m \u001b[0;34m'l-bfgs-b'\u001b[0m\u001b[0;34m:\u001b[0m\u001b[0;34m\u001b[0m\u001b[0;34m\u001b[0m\u001b[0m\n\u001b[1;32m    609\u001b[0m         return _minimize_lbfgsb(fun, x0, args, jac, bounds,\n\u001b[0;32m--> 610\u001b[0;31m                                 callback=callback, **options)\n\u001b[0m\u001b[1;32m    611\u001b[0m     \u001b[0;32melif\u001b[0m \u001b[0mmeth\u001b[0m \u001b[0;34m==\u001b[0m \u001b[0;34m'tnc'\u001b[0m\u001b[0;34m:\u001b[0m\u001b[0;34m\u001b[0m\u001b[0;34m\u001b[0m\u001b[0m\n\u001b[1;32m    612\u001b[0m         return _minimize_tnc(fun, x0, args, jac, bounds, callback=callback,\n",
            "\u001b[0;32m/usr/local/lib/python3.6/dist-packages/scipy/optimize/lbfgsb.py\u001b[0m in \u001b[0;36m_minimize_lbfgsb\u001b[0;34m(fun, x0, args, jac, bounds, disp, maxcor, ftol, gtol, eps, maxfun, maxiter, iprint, callback, maxls, **unknown_options)\u001b[0m\n\u001b[1;32m    343\u001b[0m             \u001b[0;31m# until the completion of the current minimization iteration.\u001b[0m\u001b[0;34m\u001b[0m\u001b[0;34m\u001b[0m\u001b[0;34m\u001b[0m\u001b[0m\n\u001b[1;32m    344\u001b[0m             \u001b[0;31m# Overwrite f and g:\u001b[0m\u001b[0;34m\u001b[0m\u001b[0;34m\u001b[0m\u001b[0;34m\u001b[0m\u001b[0m\n\u001b[0;32m--> 345\u001b[0;31m             \u001b[0mf\u001b[0m\u001b[0;34m,\u001b[0m \u001b[0mg\u001b[0m \u001b[0;34m=\u001b[0m \u001b[0mfunc_and_grad\u001b[0m\u001b[0;34m(\u001b[0m\u001b[0mx\u001b[0m\u001b[0;34m)\u001b[0m\u001b[0;34m\u001b[0m\u001b[0;34m\u001b[0m\u001b[0m\n\u001b[0m\u001b[1;32m    346\u001b[0m         \u001b[0;32melif\u001b[0m \u001b[0mtask_str\u001b[0m\u001b[0;34m.\u001b[0m\u001b[0mstartswith\u001b[0m\u001b[0;34m(\u001b[0m\u001b[0;34mb'NEW_X'\u001b[0m\u001b[0;34m)\u001b[0m\u001b[0;34m:\u001b[0m\u001b[0;34m\u001b[0m\u001b[0;34m\u001b[0m\u001b[0m\n\u001b[1;32m    347\u001b[0m             \u001b[0;31m# new iteration\u001b[0m\u001b[0;34m\u001b[0m\u001b[0;34m\u001b[0m\u001b[0;34m\u001b[0m\u001b[0m\n",
            "\u001b[0;32m/usr/local/lib/python3.6/dist-packages/scipy/optimize/lbfgsb.py\u001b[0m in \u001b[0;36mfunc_and_grad\u001b[0;34m(x)\u001b[0m\n\u001b[1;32m    293\u001b[0m     \u001b[0;32melse\u001b[0m\u001b[0;34m:\u001b[0m\u001b[0;34m\u001b[0m\u001b[0;34m\u001b[0m\u001b[0m\n\u001b[1;32m    294\u001b[0m         \u001b[0;32mdef\u001b[0m \u001b[0mfunc_and_grad\u001b[0m\u001b[0;34m(\u001b[0m\u001b[0mx\u001b[0m\u001b[0;34m)\u001b[0m\u001b[0;34m:\u001b[0m\u001b[0;34m\u001b[0m\u001b[0;34m\u001b[0m\u001b[0m\n\u001b[0;32m--> 295\u001b[0;31m             \u001b[0mf\u001b[0m \u001b[0;34m=\u001b[0m \u001b[0mfun\u001b[0m\u001b[0;34m(\u001b[0m\u001b[0mx\u001b[0m\u001b[0;34m,\u001b[0m \u001b[0;34m*\u001b[0m\u001b[0margs\u001b[0m\u001b[0;34m)\u001b[0m\u001b[0;34m\u001b[0m\u001b[0;34m\u001b[0m\u001b[0m\n\u001b[0m\u001b[1;32m    296\u001b[0m             \u001b[0mg\u001b[0m \u001b[0;34m=\u001b[0m \u001b[0mjac\u001b[0m\u001b[0;34m(\u001b[0m\u001b[0mx\u001b[0m\u001b[0;34m,\u001b[0m \u001b[0;34m*\u001b[0m\u001b[0margs\u001b[0m\u001b[0;34m)\u001b[0m\u001b[0;34m\u001b[0m\u001b[0;34m\u001b[0m\u001b[0m\n\u001b[1;32m    297\u001b[0m             \u001b[0;32mreturn\u001b[0m \u001b[0mf\u001b[0m\u001b[0;34m,\u001b[0m \u001b[0mg\u001b[0m\u001b[0;34m\u001b[0m\u001b[0;34m\u001b[0m\u001b[0m\n",
            "\u001b[0;32m/usr/local/lib/python3.6/dist-packages/scipy/optimize/optimize.py\u001b[0m in \u001b[0;36mfunction_wrapper\u001b[0;34m(*wrapper_args)\u001b[0m\n\u001b[1;32m    325\u001b[0m     \u001b[0;32mdef\u001b[0m \u001b[0mfunction_wrapper\u001b[0m\u001b[0;34m(\u001b[0m\u001b[0;34m*\u001b[0m\u001b[0mwrapper_args\u001b[0m\u001b[0;34m)\u001b[0m\u001b[0;34m:\u001b[0m\u001b[0;34m\u001b[0m\u001b[0;34m\u001b[0m\u001b[0m\n\u001b[1;32m    326\u001b[0m         \u001b[0mncalls\u001b[0m\u001b[0;34m[\u001b[0m\u001b[0;36m0\u001b[0m\u001b[0;34m]\u001b[0m \u001b[0;34m+=\u001b[0m \u001b[0;36m1\u001b[0m\u001b[0;34m\u001b[0m\u001b[0;34m\u001b[0m\u001b[0m\n\u001b[0;32m--> 327\u001b[0;31m         \u001b[0;32mreturn\u001b[0m \u001b[0mfunction\u001b[0m\u001b[0;34m(\u001b[0m\u001b[0;34m*\u001b[0m\u001b[0;34m(\u001b[0m\u001b[0mwrapper_args\u001b[0m \u001b[0;34m+\u001b[0m \u001b[0margs\u001b[0m\u001b[0;34m)\u001b[0m\u001b[0;34m)\u001b[0m\u001b[0;34m\u001b[0m\u001b[0;34m\u001b[0m\u001b[0m\n\u001b[0m\u001b[1;32m    328\u001b[0m \u001b[0;34m\u001b[0m\u001b[0m\n\u001b[1;32m    329\u001b[0m     \u001b[0;32mreturn\u001b[0m \u001b[0mncalls\u001b[0m\u001b[0;34m,\u001b[0m \u001b[0mfunction_wrapper\u001b[0m\u001b[0;34m\u001b[0m\u001b[0;34m\u001b[0m\u001b[0m\n",
            "\u001b[0;32m/usr/local/lib/python3.6/dist-packages/scipy/optimize/optimize.py\u001b[0m in \u001b[0;36m__call__\u001b[0;34m(self, x, *args)\u001b[0m\n\u001b[1;32m     63\u001b[0m     \u001b[0;32mdef\u001b[0m \u001b[0m__call__\u001b[0m\u001b[0;34m(\u001b[0m\u001b[0mself\u001b[0m\u001b[0;34m,\u001b[0m \u001b[0mx\u001b[0m\u001b[0;34m,\u001b[0m \u001b[0;34m*\u001b[0m\u001b[0margs\u001b[0m\u001b[0;34m)\u001b[0m\u001b[0;34m:\u001b[0m\u001b[0;34m\u001b[0m\u001b[0;34m\u001b[0m\u001b[0m\n\u001b[1;32m     64\u001b[0m         \u001b[0mself\u001b[0m\u001b[0;34m.\u001b[0m\u001b[0mx\u001b[0m \u001b[0;34m=\u001b[0m \u001b[0mnumpy\u001b[0m\u001b[0;34m.\u001b[0m\u001b[0masarray\u001b[0m\u001b[0;34m(\u001b[0m\u001b[0mx\u001b[0m\u001b[0;34m)\u001b[0m\u001b[0;34m.\u001b[0m\u001b[0mcopy\u001b[0m\u001b[0;34m(\u001b[0m\u001b[0;34m)\u001b[0m\u001b[0;34m\u001b[0m\u001b[0;34m\u001b[0m\u001b[0m\n\u001b[0;32m---> 65\u001b[0;31m         \u001b[0mfg\u001b[0m \u001b[0;34m=\u001b[0m \u001b[0mself\u001b[0m\u001b[0;34m.\u001b[0m\u001b[0mfun\u001b[0m\u001b[0;34m(\u001b[0m\u001b[0mx\u001b[0m\u001b[0;34m,\u001b[0m \u001b[0;34m*\u001b[0m\u001b[0margs\u001b[0m\u001b[0;34m)\u001b[0m\u001b[0;34m\u001b[0m\u001b[0;34m\u001b[0m\u001b[0m\n\u001b[0m\u001b[1;32m     66\u001b[0m         \u001b[0mself\u001b[0m\u001b[0;34m.\u001b[0m\u001b[0mjac\u001b[0m \u001b[0;34m=\u001b[0m \u001b[0mfg\u001b[0m\u001b[0;34m[\u001b[0m\u001b[0;36m1\u001b[0m\u001b[0;34m]\u001b[0m\u001b[0;34m\u001b[0m\u001b[0;34m\u001b[0m\u001b[0m\n\u001b[1;32m     67\u001b[0m         \u001b[0;32mreturn\u001b[0m \u001b[0mfg\u001b[0m\u001b[0;34m[\u001b[0m\u001b[0;36m0\u001b[0m\u001b[0;34m]\u001b[0m\u001b[0;34m\u001b[0m\u001b[0;34m\u001b[0m\u001b[0m\n",
            "\u001b[0;32m/usr/local/lib/python3.6/dist-packages/sklearn/linear_model/_logistic.py\u001b[0m in \u001b[0;36m_logistic_loss_and_grad\u001b[0;34m(w, X, y, alpha, sample_weight)\u001b[0m\n\u001b[1;32m    116\u001b[0m     \u001b[0mgrad\u001b[0m \u001b[0;34m=\u001b[0m \u001b[0mnp\u001b[0m\u001b[0;34m.\u001b[0m\u001b[0mempty_like\u001b[0m\u001b[0;34m(\u001b[0m\u001b[0mw\u001b[0m\u001b[0;34m)\u001b[0m\u001b[0;34m\u001b[0m\u001b[0;34m\u001b[0m\u001b[0m\n\u001b[1;32m    117\u001b[0m \u001b[0;34m\u001b[0m\u001b[0m\n\u001b[0;32m--> 118\u001b[0;31m     \u001b[0mw\u001b[0m\u001b[0;34m,\u001b[0m \u001b[0mc\u001b[0m\u001b[0;34m,\u001b[0m \u001b[0myz\u001b[0m \u001b[0;34m=\u001b[0m \u001b[0m_intercept_dot\u001b[0m\u001b[0;34m(\u001b[0m\u001b[0mw\u001b[0m\u001b[0;34m,\u001b[0m \u001b[0mX\u001b[0m\u001b[0;34m,\u001b[0m \u001b[0my\u001b[0m\u001b[0;34m)\u001b[0m\u001b[0;34m\u001b[0m\u001b[0;34m\u001b[0m\u001b[0m\n\u001b[0m\u001b[1;32m    119\u001b[0m \u001b[0;34m\u001b[0m\u001b[0m\n\u001b[1;32m    120\u001b[0m     \u001b[0;32mif\u001b[0m \u001b[0msample_weight\u001b[0m \u001b[0;32mis\u001b[0m \u001b[0;32mNone\u001b[0m\u001b[0;34m:\u001b[0m\u001b[0;34m\u001b[0m\u001b[0;34m\u001b[0m\u001b[0m\n",
            "\u001b[0;32m/usr/local/lib/python3.6/dist-packages/sklearn/linear_model/_logistic.py\u001b[0m in \u001b[0;36m_intercept_dot\u001b[0;34m(w, X, y)\u001b[0m\n\u001b[1;32m     79\u001b[0m         \u001b[0mw\u001b[0m \u001b[0;34m=\u001b[0m \u001b[0mw\u001b[0m\u001b[0;34m[\u001b[0m\u001b[0;34m:\u001b[0m\u001b[0;34m-\u001b[0m\u001b[0;36m1\u001b[0m\u001b[0;34m]\u001b[0m\u001b[0;34m\u001b[0m\u001b[0;34m\u001b[0m\u001b[0m\n\u001b[1;32m     80\u001b[0m \u001b[0;34m\u001b[0m\u001b[0m\n\u001b[0;32m---> 81\u001b[0;31m     \u001b[0mz\u001b[0m \u001b[0;34m=\u001b[0m \u001b[0msafe_sparse_dot\u001b[0m\u001b[0;34m(\u001b[0m\u001b[0mX\u001b[0m\u001b[0;34m,\u001b[0m \u001b[0mw\u001b[0m\u001b[0;34m)\u001b[0m \u001b[0;34m+\u001b[0m \u001b[0mc\u001b[0m\u001b[0;34m\u001b[0m\u001b[0;34m\u001b[0m\u001b[0m\n\u001b[0m\u001b[1;32m     82\u001b[0m     \u001b[0myz\u001b[0m \u001b[0;34m=\u001b[0m \u001b[0my\u001b[0m \u001b[0;34m*\u001b[0m \u001b[0mz\u001b[0m\u001b[0;34m\u001b[0m\u001b[0;34m\u001b[0m\u001b[0m\n\u001b[1;32m     83\u001b[0m     \u001b[0;32mreturn\u001b[0m \u001b[0mw\u001b[0m\u001b[0;34m,\u001b[0m \u001b[0mc\u001b[0m\u001b[0;34m,\u001b[0m \u001b[0myz\u001b[0m\u001b[0;34m\u001b[0m\u001b[0;34m\u001b[0m\u001b[0m\n",
            "\u001b[0;32m/usr/local/lib/python3.6/dist-packages/sklearn/utils/extmath.py\u001b[0m in \u001b[0;36msafe_sparse_dot\u001b[0;34m(a, b, dense_output)\u001b[0m\n\u001b[1;32m    149\u001b[0m             \u001b[0mret\u001b[0m \u001b[0;34m=\u001b[0m \u001b[0mnp\u001b[0m\u001b[0;34m.\u001b[0m\u001b[0mdot\u001b[0m\u001b[0;34m(\u001b[0m\u001b[0ma\u001b[0m\u001b[0;34m,\u001b[0m \u001b[0mb\u001b[0m\u001b[0;34m)\u001b[0m\u001b[0;34m\u001b[0m\u001b[0;34m\u001b[0m\u001b[0m\n\u001b[1;32m    150\u001b[0m     \u001b[0;32melse\u001b[0m\u001b[0;34m:\u001b[0m\u001b[0;34m\u001b[0m\u001b[0;34m\u001b[0m\u001b[0m\n\u001b[0;32m--> 151\u001b[0;31m         \u001b[0mret\u001b[0m \u001b[0;34m=\u001b[0m \u001b[0ma\u001b[0m \u001b[0;34m@\u001b[0m \u001b[0mb\u001b[0m\u001b[0;34m\u001b[0m\u001b[0;34m\u001b[0m\u001b[0m\n\u001b[0m\u001b[1;32m    152\u001b[0m \u001b[0;34m\u001b[0m\u001b[0m\n\u001b[1;32m    153\u001b[0m     if (sparse.issparse(a) and sparse.issparse(b)\n",
            "\u001b[0;31mKeyboardInterrupt\u001b[0m: "
          ]
        }
      ]
    },
    {
      "cell_type": "markdown",
      "metadata": {
        "id": "5KZZLCt4FCa-",
        "colab_type": "text"
      },
      "source": [
        "##Model GaussianNB"
      ]
    },
    {
      "cell_type": "code",
      "metadata": {
        "id": "KAfGi8xXFFRn",
        "colab_type": "code",
        "colab": {
          "base_uri": "https://localhost:8080/",
          "height": 68
        },
        "outputId": "e25c0b75-1323-4d60-c774-c03e1d715bd4"
      },
      "source": [
        "from sklearn.naive_bayes import GaussianNB\n",
        "\n",
        "gnb = GaussianNB(class_weight='balanced')\n",
        "\n",
        "\n",
        "gnb.fit(trainX, trainY)\n",
        "\n",
        "print(gnb.score(trainX, trainY))\n",
        "print(gnb.score(testX, testY))\n",
        "\n",
        "predY = gnb.predict(testX)\n",
        "\n",
        "print(precision_recall_fscore_support(testY, predY, average='macro'))"
      ],
      "execution_count": null,
      "outputs": [
        {
          "output_type": "stream",
          "text": [
            "0.7111963725148238\n",
            "0.6778242677824268\n",
            "(0.6757473405094858, 0.6743030227133979, 0.6747239237296956, None)\n"
          ],
          "name": "stdout"
        }
      ]
    },
    {
      "cell_type": "markdown",
      "metadata": {
        "id": "3ocz2dXmFITg",
        "colab_type": "text"
      },
      "source": [
        "##Model RandomForestClassifier"
      ]
    },
    {
      "cell_type": "code",
      "metadata": {
        "id": "gNKcT4nOFLM-",
        "colab_type": "code",
        "colab": {
          "base_uri": "https://localhost:8080/",
          "height": 68
        },
        "outputId": "19249617-ca67-40b9-df5a-a47b19834c7d"
      },
      "source": [
        "from sklearn.ensemble import RandomForestClassifier\n",
        "\n",
        "rfc = RandomForestClassifier(n_estimators= 10, random_state= 0, class_weight='balanced')\n",
        "\n",
        "rfc.fit(trainX, trainY)\n",
        "\n",
        "print(rfc.score(trainX, trainY))\n",
        "print(rfc.score(testX, testY))\n",
        "\n",
        "predY = rfc.predict(testX)\n",
        "\n",
        "print(precision_recall_fscore_support(testY, predY, average='macro'))"
      ],
      "execution_count": null,
      "outputs": [
        {
          "output_type": "stream",
          "text": [
            "0.9919776770143006\n",
            "0.701534170153417\n",
            "(0.701454431053676, 0.6954627991797504, 0.6962008775125528, None)\n"
          ],
          "name": "stdout"
        }
      ]
    },
    {
      "cell_type": "markdown",
      "metadata": {
        "id": "LU_6yjq9FObW",
        "colab_type": "text"
      },
      "source": [
        "##Model SVM"
      ]
    },
    {
      "cell_type": "code",
      "metadata": {
        "id": "HrxVSotiFRlU",
        "colab_type": "code",
        "colab": {
          "base_uri": "https://localhost:8080/",
          "height": 68
        },
        "outputId": "117a88f4-6316-4574-d72d-be28ff1ff067"
      },
      "source": [
        "from sklearn import svm\n",
        "\n",
        "lsvc = svm.SVC(class_weight='balanced')\n",
        "lsvc.fit(trainX, trainY)\n",
        "\n",
        "print(lsvc.score(trainX, trainY))\n",
        "print(lsvc.score(testX, testY))\n",
        "\n",
        "predY = lsvc.predict(testX)\n",
        "\n",
        "print(precision_recall_fscore_support(testY, predY, average='macro'))"
      ],
      "execution_count": null,
      "outputs": [
        {
          "output_type": "stream",
          "text": [
            "0.9968608301360307\n",
            "0.8856345885634589\n",
            "(0.8848536036036037, 0.8851728941972042, 0.8850062588014396, None)\n"
          ],
          "name": "stdout"
        }
      ]
    },
    {
      "cell_type": "markdown",
      "metadata": {
        "id": "hY2jg58ZOLd7",
        "colab_type": "text"
      },
      "source": [
        "###Lưu Model"
      ]
    },
    {
      "cell_type": "code",
      "metadata": {
        "id": "bWZMUG1gOBvH",
        "colab_type": "code",
        "colab": {}
      },
      "source": [
        "import pickle\n",
        "\n",
        "pickle.dump(lr, open('/content/drive/My Drive/Machine Lol/backup/logic3.sav', 'wb'))\n",
        "pickle.dump(gnb, open('/content/drive/My Drive/Machine Lol/backup/gauss3.sav', 'wb'))\n",
        "pickle.dump(rfc, open('/content/drive/My Drive/Machine Lol/backup/randforest3.sav', 'wb'))\n",
        "pickle.dump(lsvc, open('/content/drive/My Drive/Machine Lol/backup/svm3.sav', 'wb'))"
      ],
      "execution_count": null,
      "outputs": []
    },
    {
      "cell_type": "markdown",
      "metadata": {
        "id": "jcW-6P0HG9Y5",
        "colab_type": "text"
      },
      "source": [
        "#Ứng dụng"
      ]
    },
    {
      "cell_type": "markdown",
      "metadata": {
        "id": "rgHl6XebRwdi",
        "colab_type": "text"
      },
      "source": [
        "###Load Model"
      ]
    },
    {
      "cell_type": "code",
      "metadata": {
        "id": "PMBc36W5H5Tf",
        "colab_type": "code",
        "colab": {}
      },
      "source": [
        "import pickle\n",
        "\n",
        "lr = pickle.load(open('/content/logic.sav', 'rb'))\n",
        "gnb = pickle.load(open('/content/gauss.sav', 'rb'))\n",
        "rfc = pickle.load(open('/content/randforest.sav', 'rb'))\n",
        "lsvc = pickle.load(open('/content/svm.sav', 'rb'))"
      ],
      "execution_count": null,
      "outputs": []
    },
    {
      "cell_type": "code",
      "metadata": {
        "id": "m8QAjP1odfjp",
        "colab_type": "code",
        "cellView": "form",
        "colab": {}
      },
      "source": [
        "#@title Lựa chọn đầu vào\n",
        "#@markdown Lựa chọn upload hay điền link video\n",
        "\n",
        "Choose = \"Upload\" #@param [\"Upload\", \"Link\", \"---\"]\n",
        "#@markdown ---\n",
        "\n",
        "Key = True\n",
        "list_fn = []\n",
        "if Choose == \"Upload\":\n",
        "  from google.colab import files\n",
        "\n",
        "  uploaded = files.upload()\n",
        "\n",
        "  for fn in uploaded.keys():\n",
        "    print('User uploaded file \"{name}\" with length {length} bytes'.format(\n",
        "      name=fn, length=len(uploaded[fn])))\n",
        "    list_fn.append(fn)\n",
        "elif Choose == \"Link\":\n",
        "  print(\"Nhập link\")\n",
        "  link = input()\n",
        "\n",
        "  import requests  \n",
        "    \n",
        "  r = requests.get(link, stream = True)  \n",
        "  \n",
        "  with open(\"/content/input.mp4\", \"wb\") as file:  \n",
        "    for block in r.iter_content(chunk_size = 1024): \n",
        "      if block:  \n",
        "        file.write(block) \n",
        "  print(\"File đã được lưu với tên input.mp4\")\n",
        "  list_fn.append(\"input.mp4\")\n",
        "\n",
        "import numpy as np\n",
        "import cv2\n",
        "from skimage.feature import hog\n",
        "\n",
        "while list_fn:\n",
        "  i = list_fn.pop(0)\n",
        "  cap = cv2.VideoCapture(i)\n",
        "\n",
        "  ret, frame1 = cap.read()\n",
        "\n",
        "  if ret:\n",
        "    frame1 = cv2.resize(frame1, (160, 120))\n",
        "    prvs = cv2.cvtColor(frame1,cv2.COLOR_BGR2GRAY)\n",
        "    hsv = np.zeros_like(frame1)\n",
        "    hsv[...,1] = 255\n",
        "    s = 1\n",
        "    roi = []\n",
        "    while(cap.isOpened()):\n",
        "        ret, frame2 = cap.read()\n",
        "\n",
        "        if not ret:\n",
        "          break;\n",
        "        if s % 6 == 0:\n",
        "          frame2 = cv2.resize(frame2, (160, 120))\n",
        "          #Trích xuất dòng quang từ 2 frame gần nhau\n",
        "          next = cv2.cvtColor(frame2,cv2.COLOR_BGR2GRAY)\n",
        "          optical_flow = cv2.optflow.DualTVL1OpticalFlow_create()\n",
        "          flow = optical_flow.calc(prvs, next, None)\n",
        "          mag, ang = cv2.cartToPolar(flow[...,0], flow[...,1])\n",
        "          hsv[...,0] = ang*180/np.pi/2\n",
        "          nom = np.zeros((160,120))\n",
        "          hsv[...,2] = cv2.normalize(mag,None,0,255,cv2.NORM_MINMAX)\n",
        "          bgr = cv2.cvtColor(hsv,cv2.COLOR_HSV2BGR)\n",
        "          gray = cv2.cvtColor(bgr, cv2.COLOR_BGR2GRAY)\n",
        "          \n",
        "          v = np.median(gray)\n",
        "          sigma = 0.33\n",
        "          lower = int(max(0, (1.0 - sigma) * v))\n",
        "          upper = int(min(255, (1.0 + sigma) * v))\n",
        "          canny = cv2.Canny(gray, lower, upper)\n",
        "          \n",
        "\n",
        "          kernel = np.ones((5,5),np.uint8)\n",
        "          closing = cv2.morphologyEx(canny, cv2.MORPH_CLOSE, kernel)\n",
        "\n",
        "          contour,hier = cv2.findContours(closing,cv2.RETR_CCOMP,cv2.CHAIN_APPROX_SIMPLE)\n",
        "\n",
        "          for cnt in contour:\n",
        "            cv2.drawContours(closing,[cnt],0,255,-1)\n",
        "\n",
        "          opening = cv2.morphologyEx(closing, cv2.MORPH_OPEN, kernel)\n",
        "\n",
        "          after_roi = next * opening\n",
        "\n",
        "          # trích xuất feature bằng HOG\n",
        "          image_hog = hog(after_roi, orientations=12, pixels_per_cell=(4, 4),\n",
        "            cells_per_block=(2, 2), block_norm='L1', visualize=False)\n",
        "          \n",
        "          roi.append(image_hog)\n",
        "          \n",
        "          prvs = next.copy()\n",
        "\n",
        "\n",
        "        s += 1\n",
        "  Y = lsvc.predict(roi)\n",
        "  print(Y)"
      ],
      "execution_count": null,
      "outputs": []
    },
    {
      "cell_type": "markdown",
      "metadata": {
        "id": "n3EVpPT0fsMH",
        "colab_type": "text"
      },
      "source": [
        "\n",
        "\n",
        "---\n",
        "\n",
        "\n",
        "\n",
        "\n",
        "\n",
        "\n",
        "---\n",
        "\n",
        "\n",
        "\n",
        "\n",
        "\n",
        "\n",
        "\n",
        "\n"
      ]
    }
  ]
}