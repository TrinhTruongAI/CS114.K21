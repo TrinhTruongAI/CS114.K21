{
  "nbformat": 4,
  "nbformat_minor": 0,
  "metadata": {
    "colab": {
      "name": "Đồ_án_ML.ipynb",
      "provenance": [],
      "collapsed_sections": [],
      "include_colab_link": true
    },
    "kernelspec": {
      "name": "python3",
      "display_name": "Python 3"
    },
    "accelerator": "GPU"
  },
  "cells": [
    {
      "cell_type": "markdown",
      "metadata": {
        "id": "view-in-github",
        "colab_type": "text"
      },
      "source": [
        "<a href=\"https://colab.research.google.com/github/UITTrinhQuangTruong/CS114.K21/blob/master/%C4%90%E1%BB%93_%C3%A1n_ML.ipynb\" target=\"_parent\"><img src=\"https://colab.research.google.com/assets/colab-badge.svg\" alt=\"Open In Colab\"/></a>"
      ]
    },
    {
      "cell_type": "markdown",
      "metadata": {
        "id": "-f08DFG320HM",
        "colab_type": "text"
      },
      "source": [
        "###Đổi tên hàng loạt"
      ]
    },
    {
      "cell_type": "code",
      "metadata": {
        "id": "Dbeos9dVvEsk",
        "colab_type": "code",
        "colab": {
          "base_uri": "https://localhost:8080/",
          "height": 102
        },
        "outputId": "b883bbd1-b74c-4914-ece8-480f0fc2a068"
      },
      "source": [
        "#405 Cobaoluc\n",
        "#412 Khongbaoluc\n",
        "!pip install hickle"
      ],
      "execution_count": null,
      "outputs": [
        {
          "output_type": "stream",
          "text": [
            "Requirement already satisfied: hickle in /usr/local/lib/python3.6/dist-packages (4.0.1)\n",
            "Requirement already satisfied: numpy>=1.8 in /usr/local/lib/python3.6/dist-packages (from hickle) (1.18.5)\n",
            "Requirement already satisfied: six>=1.11.0 in /usr/local/lib/python3.6/dist-packages (from hickle) (1.15.0)\n",
            "Requirement already satisfied: dill>=0.3.0 in /usr/local/lib/python3.6/dist-packages (from hickle) (0.3.2)\n",
            "Requirement already satisfied: h5py>=2.8.0 in /usr/local/lib/python3.6/dist-packages (from hickle) (2.10.0)\n"
          ],
          "name": "stdout"
        }
      ]
    },
    {
      "cell_type": "markdown",
      "metadata": {
        "id": "2S7VR2kxBgZ3",
        "colab_type": "text"
      },
      "source": [
        "#Tiền xử lý Dữ liệu"
      ]
    },
    {
      "cell_type": "markdown",
      "metadata": {
        "id": "zlSprLNcBjrs",
        "colab_type": "text"
      },
      "source": [
        "## Import các thư viện cần thiết"
      ]
    },
    {
      "cell_type": "code",
      "metadata": {
        "id": "iczFFAI2_dJk",
        "colab_type": "code",
        "colab": {}
      },
      "source": [
        "import numpy as np\n",
        "import cv2\n",
        "from google.colab.patches import cv2_imshow\n",
        "from skimage.feature import hog\n",
        "from sklearn.cluster import KMeans\n",
        "from os import listdir\n",
        "from os.path import isfile, join"
      ],
      "execution_count": null,
      "outputs": []
    },
    {
      "cell_type": "markdown",
      "metadata": {
        "id": "SkMi69E2Bzou",
        "colab_type": "text"
      },
      "source": [
        "##Trích xuất Optical flow bằng thuật toán TVL1 có trong OpenCV\n",
        " "
      ]
    },
    {
      "cell_type": "markdown",
      "metadata": {
        "id": "nNo6ptiKCVR-",
        "colab_type": "text"
      },
      "source": [
        "### Định nghĩa về Optical flow\n",
        "Optical Flow là khái niệm chỉ sự chuyển động tương đối của các điểm trên bề mặt một đối tượng, vật thể nào đó gây ra, dưới góc quan sát của một điểm mốc (mắt, camera…).\n",
        "\n",
        "Dễ hiểu là biểu diễn điểm khác biệt giữa 2 khung hình do vật thể di chuyển gây ra.\n",
        "\n",
        "![Hình ảnh mô tả Optical flow của các xe](https://opencv-python-tutroals.readthedocs.io/en/latest/_images/opticalflow_lk.jpg)"
      ]
    },
    {
      "cell_type": "markdown",
      "metadata": {
        "id": "XluYq0cBE_vM",
        "colab_type": "text"
      },
      "source": [
        "###Các bước thực hiện\n",
        "B1: Định nghĩa đối tượng bằng hàm DualTVL1OpticalFlow_create()\n",
        "\n",
        "B2: Tính flowx, flowy của 2 frame gần nhau bằng hàm calc. Với flowx là Optical Flow theo hướng x và tương tự với y\n",
        "\n",
        "B3: Tính mag = sqrt(flowx + flowy)\n",
        "\n",
        "B4: Normalize mag về ảnh hsv\n",
        "\n",
        "B5: Chuyển ảnh về định dạng Grayscale"
      ]
    },
    {
      "cell_type": "code",
      "metadata": {
        "id": "HiUb_HgBAxrr",
        "colab_type": "code",
        "colab": {}
      },
      "source": [
        "optical_flow = cv2.optflow_DualTVL1OpticalFlow.create()\n",
        "def OpticalFlow(prvs, next, hsv):\n",
        "    \n",
        "    flow = optical_flow.calc(prvs, next, None)\n",
        "    mag, ang = cv2.cartToPolar(flow[...,0], flow[...,1])\n",
        "    hsv[...,0] = ang*180/np.pi/2\n",
        "    nom = np.zeros((160,120))\n",
        "    hsv[...,2] = cv2.normalize(mag,None,0,255,cv2.NORM_MINMAX)\n",
        "\n",
        "    bgr = cv2.cvtColor(hsv,cv2.COLOR_HSV2BGR)\n",
        "    gray = cv2.cvtColor(bgr, cv2.COLOR_BGR2GRAY)\n",
        "    return gray"
      ],
      "execution_count": null,
      "outputs": []
    },
    {
      "cell_type": "markdown",
      "metadata": {
        "id": "lA71J_NpHJHF",
        "colab_type": "text"
      },
      "source": [
        "##Trích xuất vùng chuyển động\n",
        "Từ ảnh Optimal Flow vừa tìm được ta trích xuất ra vùng có sự chuyển động\n"
      ]
    },
    {
      "cell_type": "markdown",
      "metadata": {
        "id": "wIj-XpZnH5Vl",
        "colab_type": "text"
      },
      "source": [
        "###Phát hiện cạnh với thuật toán Canny\n",
        "![Cận trên và dứoi](https://docs.opencv.org/trunk/hysteresis.jpg)\n",
        "\n",
        "Thuật toán Canny tham khảo thêm [tại đây](https://docs.opencv.org/trunk/da/d22/tutorial_py_canny.html)\n",
        "\n",
        "Hàm tìm maxVal và minVal tham khảo thêm [tại đây](https://www.pyimagesearch.com/2015/04/06/zero-parameter-automatic-canny-edge-detection-with-python-and-opencv/)"
      ]
    },
    {
      "cell_type": "code",
      "metadata": {
        "id": "TudPxCiaRvn1",
        "colab_type": "code",
        "colab": {}
      },
      "source": [
        "def CvCanny(matrix):\n",
        "  v = np.median(matrix)\n",
        "  sigma = 0.33\n",
        "  lower = int(max(0, (1.0 - sigma) * v))\n",
        "  upper = int(min(255, (1.0 + sigma) * v))\n",
        "  canny = cv2.Canny(matrix, lower, upper)\n",
        "  return canny"
      ],
      "execution_count": null,
      "outputs": []
    },
    {
      "cell_type": "markdown",
      "metadata": {
        "id": "B229UyChJCFh",
        "colab_type": "text"
      },
      "source": [
        "###Trích xuất vùng chuyển động"
      ]
    },
    {
      "cell_type": "code",
      "metadata": {
        "id": "h_-ry_V5JeQv",
        "colab_type": "code",
        "colab": {}
      },
      "source": [
        "def MRM(prvs, next, hsv):\n",
        "    #Trích xuất dòng quang từ 2 frame gần nhau\n",
        "    gray = OpticalFlow(prvs, next, hsv)\n",
        "    '''if s == 3:\n",
        "    flowx = cv2.normalize(flow[...,0],None,0,255,cv2.NORM_MINMAX)\n",
        "    cv2_imshow(flowx)\n",
        "    flowy = cv2.normalize(flow[...,1],None,0,255,cv2.NORM_MINMAX)\n",
        "    cv2_imshow(flowy)'''\n",
        "    '''Tăng độ nét cho ảnh dòng quang\n",
        "    kernel = np.array([[-1, -1, -1], [-1, 9, -1], [-1, -1, -1]])\n",
        "    sharpen = cv2.filter2D(hsv, -1, kernel)\n",
        "    canny1 = CvCanny(sharpen)'''\n",
        "    #Phát hiện cạnh\n",
        "    canny = CvCanny(gray)\n",
        "    #gray = cv2.cvtColor(bgr, cv2.COLOR_BGR2GRAY)\n",
        "    #cv2_imshow(gray)    \n",
        "    '''gray1 = cv2.filter2D(gray, -1, kernel)[...,::-1]\n",
        "    gray = cv2.ximgproc.guidedFilter(gray, gray1, radius=2, eps=0.004, dDepth=-1)[...,::-1]\n",
        "    canny3 = CvCanny(gray)\n",
        "    cv2_imshow(gray)'''\n",
        "    #Đóng các nét hở và lấp đầy\n",
        "    kernel = np.ones((5,5),np.uint8)\n",
        "    closing = cv2.morphologyEx(canny, cv2.MORPH_CLOSE, kernel)\n",
        "    '''h, w = closing.shape[:2]\n",
        "    mask = np.zeros((h+2, w+2), np.uint8)\n",
        "    im_floodfill = closing.copy()\n",
        "    cv2.floodFill(im_floodfill, mask, (0,0), 255);\n",
        "    im_floodfill_inv = cv2.bitwise_not(im_floodfill)\n",
        "    floodfill = closing | im_floodfill'''\n",
        "\n",
        "    #Lấp đầy những lỗ hổng trong vùng chuyển động\n",
        "    contour,hier = cv2.findContours(closing,cv2.RETR_CCOMP,cv2.CHAIN_APPROX_SIMPLE)\n",
        "    for cnt in contour:\n",
        "        cv2.drawContours(closing,[cnt],0,255,-1)\n",
        "    \n",
        "    #Xóa bỏ những nét thừa\n",
        "    opening = cv2.morphologyEx(closing, cv2.MORPH_OPEN, kernel)\n",
        "    \n",
        "    return opening"
      ],
      "execution_count": null,
      "outputs": []
    },
    {
      "cell_type": "markdown",
      "metadata": {
        "id": "nUUzqEw5ZU53",
        "colab_type": "text"
      },
      "source": [
        "#Trích xuất đặc trưng\n"
      ]
    },
    {
      "cell_type": "markdown",
      "metadata": {
        "id": "2uK31gy7ZlKu",
        "colab_type": "text"
      },
      "source": [
        "##Vùng quan tâm\n",
        "\n",
        "Xem vùng chuyển động như là một vùng quan tâm (ROI), áp dụng ROI vào ảnh xám"
      ]
    },
    {
      "cell_type": "code",
      "metadata": {
        "id": "5bvJsHZiUBCU",
        "colab_type": "code",
        "colab": {}
      },
      "source": [
        "def apply_roi(img, roi):\n",
        "  #thresh, roi = cv2.threshold(roi, thresh=128, maxval=1, type=cv2.THRESH_BINARY)\n",
        "  new_img = img * roi\n",
        "  return new_img"
      ],
      "execution_count": null,
      "outputs": []
    },
    {
      "cell_type": "markdown",
      "metadata": {
        "id": "SIVRF_Wdaeir",
        "colab_type": "text"
      },
      "source": [
        "##Trích xuất đặc trưng"
      ]
    },
    {
      "cell_type": "code",
      "metadata": {
        "id": "8XGNx6GVsfYg",
        "colab_type": "code",
        "colab": {}
      },
      "source": [
        "def extract_features(path, label, descriptor_list, labels):\n",
        "    #Lấy danh sách các clip trong path \n",
        "    videoPaths = [join(path, f) for f in listdir(path) if isfile(join(path, f))]\n",
        "    for videoPath in videoPaths:\n",
        "\n",
        "        #Đọc video\n",
        "        cap = cv2.VideoCapture(videoPath)\n",
        "        videoPaths = [join(path, f) for f in listdir(path) if isfile(join(path, f))]\n",
        "\n",
        "        ret, frame1 = cap.read()\n",
        "        if not ret:\n",
        "          break;\n",
        "        #Thay đổi kích thước frame\n",
        "        frame1 = cv2.resize(frame1, (160, 120))\n",
        "        prvs = cv2.cvtColor(frame1,cv2.COLOR_BGR2GRAY)\n",
        "        hsv = np.zeros_like(frame1)\n",
        "        hsv[...,1] = 255\n",
        "        s = 1\n",
        "        while(cap.isOpened()):\n",
        "            ret, frame2 = cap.read()\n",
        "\n",
        "            if not ret:\n",
        "                break;\n",
        "\n",
        "            if s % 6 == 0:\n",
        "                frame2 = cv2.resize(frame2, (160, 120))\n",
        "                next = cv2.cvtColor(frame2,cv2.COLOR_BGR2GRAY)\n",
        "                mrm = MRM(prvs, next, hsv)\n",
        "\n",
        "                after_roi = apply_roi(next, mrm)\n",
        "                descriptor = hog(after_roi, orientations=12, pixels_per_cell=(4, 4), cells_per_block=(2,2), block_norm='L2-Hys', visualize=False)\n",
        "                descriptor_list.append(descriptor)\n",
        "                labels.append(label)\n",
        "                prvs = next\n",
        "            s += 1\n",
        "\n",
        "        print(videoPath + \"---done--\")\n"
      ],
      "execution_count": null,
      "outputs": []
    },
    {
      "cell_type": "code",
      "metadata": {
        "id": "q0RQnGm3C5E5",
        "colab_type": "code",
        "colab": {}
      },
      "source": [
        "labels = []\n",
        "descriptor_list = []"
      ],
      "execution_count": null,
      "outputs": []
    },
    {
      "cell_type": "code",
      "metadata": {
        "id": "X4HK8LXbCnHA",
        "colab_type": "code",
        "colab": {
          "base_uri": "https://localhost:8080/",
          "height": 1000
        },
        "outputId": "21f89f93-97dc-4d30-c699-5dedfcab97a5"
      },
      "source": [
        "path = \"/content/drive/My Drive/Machine Lol/Data/Của Trường/Cobaoluc\"\n",
        "extract_features(path, 0, descriptor_list, labels)\n",
        "path = \"/content/drive/My Drive/Machine Lol/Data/Của Trường/khongbaoluc\"\n",
        "extract_features(path, 1, descriptor_list, labels)"
      ],
      "execution_count": null,
      "outputs": [
        {
          "output_type": "stream",
          "text": [
            "/content/drive/My Drive/Machine Lol/Data/Của Trường/Cobaoluc/136.mp4---done--\n",
            "/content/drive/My Drive/Machine Lol/Data/Của Trường/Cobaoluc/137.mp4---done--\n",
            "/content/drive/My Drive/Machine Lol/Data/Của Trường/Cobaoluc/138.mp4---done--\n",
            "/content/drive/My Drive/Machine Lol/Data/Của Trường/Cobaoluc/139.mp4---done--\n",
            "/content/drive/My Drive/Machine Lol/Data/Của Trường/Cobaoluc/140.mp4---done--\n",
            "/content/drive/My Drive/Machine Lol/Data/Của Trường/Cobaoluc/141.mp4---done--\n",
            "/content/drive/My Drive/Machine Lol/Data/Của Trường/Cobaoluc/142.mp4---done--\n",
            "/content/drive/My Drive/Machine Lol/Data/Của Trường/Cobaoluc/143.mp4---done--\n",
            "/content/drive/My Drive/Machine Lol/Data/Của Trường/Cobaoluc/144.mp4---done--\n",
            "/content/drive/My Drive/Machine Lol/Data/Của Trường/Cobaoluc/145.mp4---done--\n",
            "/content/drive/My Drive/Machine Lol/Data/Của Trường/Cobaoluc/146.mp4---done--\n",
            "/content/drive/My Drive/Machine Lol/Data/Của Trường/Cobaoluc/147.mp4---done--\n",
            "/content/drive/My Drive/Machine Lol/Data/Của Trường/Cobaoluc/148.mp4---done--\n",
            "/content/drive/My Drive/Machine Lol/Data/Của Trường/Cobaoluc/149.mp4---done--\n",
            "/content/drive/My Drive/Machine Lol/Data/Của Trường/Cobaoluc/150.mp4---done--\n",
            "/content/drive/My Drive/Machine Lol/Data/Của Trường/Cobaoluc/151.mp4---done--\n",
            "/content/drive/My Drive/Machine Lol/Data/Của Trường/Cobaoluc/152.mp4---done--\n",
            "/content/drive/My Drive/Machine Lol/Data/Của Trường/Cobaoluc/153.mp4---done--\n",
            "/content/drive/My Drive/Machine Lol/Data/Của Trường/Cobaoluc/154.mp4---done--\n",
            "/content/drive/My Drive/Machine Lol/Data/Của Trường/Cobaoluc/155.mp4---done--\n",
            "/content/drive/My Drive/Machine Lol/Data/Của Trường/Cobaoluc/156.mp4---done--\n",
            "/content/drive/My Drive/Machine Lol/Data/Của Trường/Cobaoluc/157.mp4---done--\n",
            "/content/drive/My Drive/Machine Lol/Data/Của Trường/Cobaoluc/158.mp4---done--\n",
            "/content/drive/My Drive/Machine Lol/Data/Của Trường/Cobaoluc/159.mp4---done--\n",
            "/content/drive/My Drive/Machine Lol/Data/Của Trường/Cobaoluc/160.mp4---done--\n",
            "/content/drive/My Drive/Machine Lol/Data/Của Trường/Cobaoluc/161.mp4---done--\n",
            "/content/drive/My Drive/Machine Lol/Data/Của Trường/Cobaoluc/162.mp4---done--\n",
            "/content/drive/My Drive/Machine Lol/Data/Của Trường/Cobaoluc/163.mp4---done--\n",
            "/content/drive/My Drive/Machine Lol/Data/Của Trường/Cobaoluc/164.mp4---done--\n",
            "/content/drive/My Drive/Machine Lol/Data/Của Trường/Cobaoluc/165.mp4---done--\n",
            "/content/drive/My Drive/Machine Lol/Data/Của Trường/Cobaoluc/166.mp4---done--\n",
            "/content/drive/My Drive/Machine Lol/Data/Của Trường/Cobaoluc/167.mp4---done--\n",
            "/content/drive/My Drive/Machine Lol/Data/Của Trường/Cobaoluc/168.mp4---done--\n",
            "/content/drive/My Drive/Machine Lol/Data/Của Trường/Cobaoluc/169.mp4---done--\n",
            "/content/drive/My Drive/Machine Lol/Data/Của Trường/Cobaoluc/170.mp4---done--\n",
            "/content/drive/My Drive/Machine Lol/Data/Của Trường/Cobaoluc/171.mp4---done--\n",
            "/content/drive/My Drive/Machine Lol/Data/Của Trường/Cobaoluc/172.mp4---done--\n",
            "/content/drive/My Drive/Machine Lol/Data/Của Trường/Cobaoluc/173.mp4---done--\n",
            "/content/drive/My Drive/Machine Lol/Data/Của Trường/Cobaoluc/174.mp4---done--\n",
            "/content/drive/My Drive/Machine Lol/Data/Của Trường/Cobaoluc/175.mp4---done--\n",
            "/content/drive/My Drive/Machine Lol/Data/Của Trường/Cobaoluc/176.mp4---done--\n",
            "/content/drive/My Drive/Machine Lol/Data/Của Trường/Cobaoluc/177.mp4---done--\n",
            "/content/drive/My Drive/Machine Lol/Data/Của Trường/Cobaoluc/178.mp4---done--\n",
            "/content/drive/My Drive/Machine Lol/Data/Của Trường/Cobaoluc/179.mp4---done--\n",
            "/content/drive/My Drive/Machine Lol/Data/Của Trường/Cobaoluc/180.mp4---done--\n",
            "/content/drive/My Drive/Machine Lol/Data/Của Trường/Cobaoluc/181.mp4---done--\n",
            "/content/drive/My Drive/Machine Lol/Data/Của Trường/Cobaoluc/182.mp4---done--\n",
            "/content/drive/My Drive/Machine Lol/Data/Của Trường/Cobaoluc/183.mp4---done--\n",
            "/content/drive/My Drive/Machine Lol/Data/Của Trường/Cobaoluc/184.mp4---done--\n",
            "/content/drive/My Drive/Machine Lol/Data/Của Trường/Cobaoluc/185.mp4---done--\n",
            "/content/drive/My Drive/Machine Lol/Data/Của Trường/Cobaoluc/186.mp4---done--\n",
            "/content/drive/My Drive/Machine Lol/Data/Của Trường/Cobaoluc/187.mp4---done--\n",
            "/content/drive/My Drive/Machine Lol/Data/Của Trường/Cobaoluc/188.mp4---done--\n",
            "/content/drive/My Drive/Machine Lol/Data/Của Trường/Cobaoluc/189.mp4---done--\n",
            "/content/drive/My Drive/Machine Lol/Data/Của Trường/Cobaoluc/190.mp4---done--\n",
            "/content/drive/My Drive/Machine Lol/Data/Của Trường/Cobaoluc/191.mp4---done--\n",
            "/content/drive/My Drive/Machine Lol/Data/Của Trường/Cobaoluc/192.mp4---done--\n",
            "/content/drive/My Drive/Machine Lol/Data/Của Trường/Cobaoluc/193.mp4---done--\n",
            "/content/drive/My Drive/Machine Lol/Data/Của Trường/Cobaoluc/194.mp4---done--\n",
            "/content/drive/My Drive/Machine Lol/Data/Của Trường/Cobaoluc/195.mp4---done--\n",
            "/content/drive/My Drive/Machine Lol/Data/Của Trường/Cobaoluc/196.mp4---done--\n",
            "/content/drive/My Drive/Machine Lol/Data/Của Trường/Cobaoluc/197.mp4---done--\n",
            "/content/drive/My Drive/Machine Lol/Data/Của Trường/Cobaoluc/198.mp4---done--\n",
            "/content/drive/My Drive/Machine Lol/Data/Của Trường/Cobaoluc/199.mp4---done--\n",
            "/content/drive/My Drive/Machine Lol/Data/Của Trường/Cobaoluc/200.mp4---done--\n",
            "/content/drive/My Drive/Machine Lol/Data/Của Trường/Cobaoluc/201.mp4---done--\n",
            "/content/drive/My Drive/Machine Lol/Data/Của Trường/Cobaoluc/202.mp4---done--\n",
            "/content/drive/My Drive/Machine Lol/Data/Của Trường/Cobaoluc/203.mp4---done--\n",
            "/content/drive/My Drive/Machine Lol/Data/Của Trường/Cobaoluc/204.mp4---done--\n",
            "/content/drive/My Drive/Machine Lol/Data/Của Trường/Cobaoluc/205.mp4---done--\n",
            "/content/drive/My Drive/Machine Lol/Data/Của Trường/Cobaoluc/206.mp4---done--\n",
            "/content/drive/My Drive/Machine Lol/Data/Của Trường/Cobaoluc/207.mp4---done--\n",
            "/content/drive/My Drive/Machine Lol/Data/Của Trường/Cobaoluc/208.mp4---done--\n",
            "/content/drive/My Drive/Machine Lol/Data/Của Trường/Cobaoluc/209.mp4---done--\n",
            "/content/drive/My Drive/Machine Lol/Data/Của Trường/Cobaoluc/210.mp4---done--\n",
            "/content/drive/My Drive/Machine Lol/Data/Của Trường/Cobaoluc/211.mp4---done--\n",
            "/content/drive/My Drive/Machine Lol/Data/Của Trường/Cobaoluc/212.mp4---done--\n",
            "/content/drive/My Drive/Machine Lol/Data/Của Trường/Cobaoluc/213.mp4---done--\n",
            "/content/drive/My Drive/Machine Lol/Data/Của Trường/Cobaoluc/214.mp4---done--\n",
            "/content/drive/My Drive/Machine Lol/Data/Của Trường/Cobaoluc/215.mp4---done--\n",
            "/content/drive/My Drive/Machine Lol/Data/Của Trường/Cobaoluc/216.mp4---done--\n",
            "/content/drive/My Drive/Machine Lol/Data/Của Trường/Cobaoluc/217.mp4---done--\n",
            "/content/drive/My Drive/Machine Lol/Data/Của Trường/Cobaoluc/218.mp4---done--\n",
            "/content/drive/My Drive/Machine Lol/Data/Của Trường/Cobaoluc/219.mp4---done--\n",
            "/content/drive/My Drive/Machine Lol/Data/Của Trường/Cobaoluc/220.mp4---done--\n",
            "/content/drive/My Drive/Machine Lol/Data/Của Trường/Cobaoluc/221.mp4---done--\n",
            "/content/drive/My Drive/Machine Lol/Data/Của Trường/Cobaoluc/222.mp4---done--\n",
            "/content/drive/My Drive/Machine Lol/Data/Của Trường/Cobaoluc/223.mp4---done--\n",
            "/content/drive/My Drive/Machine Lol/Data/Của Trường/Cobaoluc/224.mp4---done--\n",
            "/content/drive/My Drive/Machine Lol/Data/Của Trường/Cobaoluc/225.mp4---done--\n",
            "/content/drive/My Drive/Machine Lol/Data/Của Trường/Cobaoluc/226.mp4---done--\n",
            "/content/drive/My Drive/Machine Lol/Data/Của Trường/Cobaoluc/227.mp4---done--\n",
            "/content/drive/My Drive/Machine Lol/Data/Của Trường/Cobaoluc/228.mp4---done--\n",
            "/content/drive/My Drive/Machine Lol/Data/Của Trường/Cobaoluc/229.mp4---done--\n",
            "/content/drive/My Drive/Machine Lol/Data/Của Trường/Cobaoluc/230.mp4---done--\n",
            "/content/drive/My Drive/Machine Lol/Data/Của Trường/Cobaoluc/231.mp4---done--\n",
            "/content/drive/My Drive/Machine Lol/Data/Của Trường/Cobaoluc/232.mp4---done--\n",
            "/content/drive/My Drive/Machine Lol/Data/Của Trường/Cobaoluc/233.mp4---done--\n",
            "/content/drive/My Drive/Machine Lol/Data/Của Trường/Cobaoluc/234.mp4---done--\n",
            "/content/drive/My Drive/Machine Lol/Data/Của Trường/Cobaoluc/235.mp4---done--\n",
            "/content/drive/My Drive/Machine Lol/Data/Của Trường/Cobaoluc/236.mp4---done--\n",
            "/content/drive/My Drive/Machine Lol/Data/Của Trường/Cobaoluc/237.mp4---done--\n",
            "/content/drive/My Drive/Machine Lol/Data/Của Trường/Cobaoluc/238.mp4---done--\n",
            "/content/drive/My Drive/Machine Lol/Data/Của Trường/Cobaoluc/239.mp4---done--\n",
            "/content/drive/My Drive/Machine Lol/Data/Của Trường/Cobaoluc/240.mp4---done--\n",
            "/content/drive/My Drive/Machine Lol/Data/Của Trường/Cobaoluc/241.mp4---done--\n",
            "/content/drive/My Drive/Machine Lol/Data/Của Trường/Cobaoluc/242.mp4---done--\n",
            "/content/drive/My Drive/Machine Lol/Data/Của Trường/Cobaoluc/243.mp4---done--\n",
            "/content/drive/My Drive/Machine Lol/Data/Của Trường/Cobaoluc/244.mp4---done--\n",
            "/content/drive/My Drive/Machine Lol/Data/Của Trường/Cobaoluc/245.mp4---done--\n",
            "/content/drive/My Drive/Machine Lol/Data/Của Trường/Cobaoluc/246.mp4---done--\n",
            "/content/drive/My Drive/Machine Lol/Data/Của Trường/Cobaoluc/247.mp4---done--\n",
            "/content/drive/My Drive/Machine Lol/Data/Của Trường/Cobaoluc/248.mp4---done--\n",
            "/content/drive/My Drive/Machine Lol/Data/Của Trường/Cobaoluc/249.mp4---done--\n",
            "/content/drive/My Drive/Machine Lol/Data/Của Trường/Cobaoluc/250.mp4---done--\n",
            "/content/drive/My Drive/Machine Lol/Data/Của Trường/Cobaoluc/251.mp4---done--\n",
            "/content/drive/My Drive/Machine Lol/Data/Của Trường/Cobaoluc/252.mp4---done--\n",
            "/content/drive/My Drive/Machine Lol/Data/Của Trường/Cobaoluc/253.mp4---done--\n",
            "/content/drive/My Drive/Machine Lol/Data/Của Trường/Cobaoluc/254.mp4---done--\n",
            "/content/drive/My Drive/Machine Lol/Data/Của Trường/Cobaoluc/255.mp4---done--\n",
            "/content/drive/My Drive/Machine Lol/Data/Của Trường/Cobaoluc/256.mp4---done--\n",
            "/content/drive/My Drive/Machine Lol/Data/Của Trường/Cobaoluc/257.mp4---done--\n",
            "/content/drive/My Drive/Machine Lol/Data/Của Trường/Cobaoluc/258.mp4---done--\n",
            "/content/drive/My Drive/Machine Lol/Data/Của Trường/Cobaoluc/259.mp4---done--\n",
            "/content/drive/My Drive/Machine Lol/Data/Của Trường/Cobaoluc/260.mp4---done--\n",
            "/content/drive/My Drive/Machine Lol/Data/Của Trường/Cobaoluc/261.mp4---done--\n",
            "/content/drive/My Drive/Machine Lol/Data/Của Trường/Cobaoluc/262.mp4---done--\n",
            "/content/drive/My Drive/Machine Lol/Data/Của Trường/Cobaoluc/263.mp4---done--\n",
            "/content/drive/My Drive/Machine Lol/Data/Của Trường/Cobaoluc/264.mp4---done--\n",
            "/content/drive/My Drive/Machine Lol/Data/Của Trường/Cobaoluc/265.mp4---done--\n",
            "/content/drive/My Drive/Machine Lol/Data/Của Trường/Cobaoluc/266.mp4---done--\n",
            "/content/drive/My Drive/Machine Lol/Data/Của Trường/Cobaoluc/267.mp4---done--\n",
            "/content/drive/My Drive/Machine Lol/Data/Của Trường/Cobaoluc/268.mp4---done--\n",
            "/content/drive/My Drive/Machine Lol/Data/Của Trường/Cobaoluc/269.mp4---done--\n",
            "/content/drive/My Drive/Machine Lol/Data/Của Trường/Cobaoluc/270.mp4---done--\n",
            "/content/drive/My Drive/Machine Lol/Data/Của Trường/Cobaoluc/271.mp4---done--\n",
            "/content/drive/My Drive/Machine Lol/Data/Của Trường/khongbaoluc/136.mp4---done--\n",
            "/content/drive/My Drive/Machine Lol/Data/Của Trường/khongbaoluc/137.mp4---done--\n",
            "/content/drive/My Drive/Machine Lol/Data/Của Trường/khongbaoluc/138.mp4---done--\n",
            "/content/drive/My Drive/Machine Lol/Data/Của Trường/khongbaoluc/139.mp4---done--\n",
            "/content/drive/My Drive/Machine Lol/Data/Của Trường/khongbaoluc/140.mp4---done--\n",
            "/content/drive/My Drive/Machine Lol/Data/Của Trường/khongbaoluc/141.mp4---done--\n",
            "/content/drive/My Drive/Machine Lol/Data/Của Trường/khongbaoluc/142.mp4---done--\n",
            "/content/drive/My Drive/Machine Lol/Data/Của Trường/khongbaoluc/143.mp4---done--\n",
            "/content/drive/My Drive/Machine Lol/Data/Của Trường/khongbaoluc/144.mp4---done--\n",
            "/content/drive/My Drive/Machine Lol/Data/Của Trường/khongbaoluc/145.mp4---done--\n",
            "/content/drive/My Drive/Machine Lol/Data/Của Trường/khongbaoluc/146.mp4---done--\n",
            "/content/drive/My Drive/Machine Lol/Data/Của Trường/khongbaoluc/147.mp4---done--\n",
            "/content/drive/My Drive/Machine Lol/Data/Của Trường/khongbaoluc/148.mp4---done--\n",
            "/content/drive/My Drive/Machine Lol/Data/Của Trường/khongbaoluc/149.mp4---done--\n",
            "/content/drive/My Drive/Machine Lol/Data/Của Trường/khongbaoluc/150.mp4---done--\n",
            "/content/drive/My Drive/Machine Lol/Data/Của Trường/khongbaoluc/151.mp4---done--\n",
            "/content/drive/My Drive/Machine Lol/Data/Của Trường/khongbaoluc/152.mp4---done--\n",
            "/content/drive/My Drive/Machine Lol/Data/Của Trường/khongbaoluc/153.mp4---done--\n",
            "/content/drive/My Drive/Machine Lol/Data/Của Trường/khongbaoluc/154.mp4---done--\n",
            "/content/drive/My Drive/Machine Lol/Data/Của Trường/khongbaoluc/155.mp4---done--\n",
            "/content/drive/My Drive/Machine Lol/Data/Của Trường/khongbaoluc/156.mp4---done--\n",
            "/content/drive/My Drive/Machine Lol/Data/Của Trường/khongbaoluc/157.mp4---done--\n",
            "/content/drive/My Drive/Machine Lol/Data/Của Trường/khongbaoluc/158.mp4---done--\n",
            "/content/drive/My Drive/Machine Lol/Data/Của Trường/khongbaoluc/159.mp4---done--\n",
            "/content/drive/My Drive/Machine Lol/Data/Của Trường/khongbaoluc/160.mp4---done--\n",
            "/content/drive/My Drive/Machine Lol/Data/Của Trường/khongbaoluc/161.mp4---done--\n",
            "/content/drive/My Drive/Machine Lol/Data/Của Trường/khongbaoluc/162.mp4---done--\n",
            "/content/drive/My Drive/Machine Lol/Data/Của Trường/khongbaoluc/163.mp4---done--\n",
            "/content/drive/My Drive/Machine Lol/Data/Của Trường/khongbaoluc/164.mp4---done--\n",
            "/content/drive/My Drive/Machine Lol/Data/Của Trường/khongbaoluc/165.mp4---done--\n",
            "/content/drive/My Drive/Machine Lol/Data/Của Trường/khongbaoluc/166.mp4---done--\n",
            "/content/drive/My Drive/Machine Lol/Data/Của Trường/khongbaoluc/167.mp4---done--\n",
            "/content/drive/My Drive/Machine Lol/Data/Của Trường/khongbaoluc/168.mp4---done--\n",
            "/content/drive/My Drive/Machine Lol/Data/Của Trường/khongbaoluc/169.mp4---done--\n",
            "/content/drive/My Drive/Machine Lol/Data/Của Trường/khongbaoluc/170.mp4---done--\n",
            "/content/drive/My Drive/Machine Lol/Data/Của Trường/khongbaoluc/171.mp4---done--\n",
            "/content/drive/My Drive/Machine Lol/Data/Của Trường/khongbaoluc/172.mp4---done--\n",
            "/content/drive/My Drive/Machine Lol/Data/Của Trường/khongbaoluc/173.mp4---done--\n",
            "/content/drive/My Drive/Machine Lol/Data/Của Trường/khongbaoluc/174.mp4---done--\n",
            "/content/drive/My Drive/Machine Lol/Data/Của Trường/khongbaoluc/175.mp4---done--\n",
            "/content/drive/My Drive/Machine Lol/Data/Của Trường/khongbaoluc/176.mp4---done--\n",
            "/content/drive/My Drive/Machine Lol/Data/Của Trường/khongbaoluc/177.mp4---done--\n",
            "/content/drive/My Drive/Machine Lol/Data/Của Trường/khongbaoluc/178.mp4---done--\n",
            "/content/drive/My Drive/Machine Lol/Data/Của Trường/khongbaoluc/179.mp4---done--\n",
            "/content/drive/My Drive/Machine Lol/Data/Của Trường/khongbaoluc/180.mp4---done--\n",
            "/content/drive/My Drive/Machine Lol/Data/Của Trường/khongbaoluc/181.mp4---done--\n",
            "/content/drive/My Drive/Machine Lol/Data/Của Trường/khongbaoluc/182.mp4---done--\n",
            "/content/drive/My Drive/Machine Lol/Data/Của Trường/khongbaoluc/183.mp4---done--\n",
            "/content/drive/My Drive/Machine Lol/Data/Của Trường/khongbaoluc/184.mp4---done--\n",
            "/content/drive/My Drive/Machine Lol/Data/Của Trường/khongbaoluc/185.mp4---done--\n",
            "/content/drive/My Drive/Machine Lol/Data/Của Trường/khongbaoluc/186.mp4---done--\n",
            "/content/drive/My Drive/Machine Lol/Data/Của Trường/khongbaoluc/187.mp4---done--\n",
            "/content/drive/My Drive/Machine Lol/Data/Của Trường/khongbaoluc/188.mp4---done--\n",
            "/content/drive/My Drive/Machine Lol/Data/Của Trường/khongbaoluc/189.mp4---done--\n",
            "/content/drive/My Drive/Machine Lol/Data/Của Trường/khongbaoluc/190.mp4---done--\n",
            "/content/drive/My Drive/Machine Lol/Data/Của Trường/khongbaoluc/191.mp4---done--\n",
            "/content/drive/My Drive/Machine Lol/Data/Của Trường/khongbaoluc/192.mp4---done--\n",
            "/content/drive/My Drive/Machine Lol/Data/Của Trường/khongbaoluc/193.mp4---done--\n",
            "/content/drive/My Drive/Machine Lol/Data/Của Trường/khongbaoluc/194.mp4---done--\n",
            "/content/drive/My Drive/Machine Lol/Data/Của Trường/khongbaoluc/195.mp4---done--\n",
            "/content/drive/My Drive/Machine Lol/Data/Của Trường/khongbaoluc/196.mp4---done--\n",
            "/content/drive/My Drive/Machine Lol/Data/Của Trường/khongbaoluc/197.mp4---done--\n",
            "/content/drive/My Drive/Machine Lol/Data/Của Trường/khongbaoluc/198.mp4---done--\n",
            "/content/drive/My Drive/Machine Lol/Data/Của Trường/khongbaoluc/199.mp4---done--\n",
            "/content/drive/My Drive/Machine Lol/Data/Của Trường/khongbaoluc/200.mp4---done--\n",
            "/content/drive/My Drive/Machine Lol/Data/Của Trường/khongbaoluc/201.mp4---done--\n",
            "/content/drive/My Drive/Machine Lol/Data/Của Trường/khongbaoluc/202.mp4---done--\n",
            "/content/drive/My Drive/Machine Lol/Data/Của Trường/khongbaoluc/203.mp4---done--\n",
            "/content/drive/My Drive/Machine Lol/Data/Của Trường/khongbaoluc/204.mp4---done--\n",
            "/content/drive/My Drive/Machine Lol/Data/Của Trường/khongbaoluc/205.mp4---done--\n",
            "/content/drive/My Drive/Machine Lol/Data/Của Trường/khongbaoluc/206.mp4---done--\n",
            "/content/drive/My Drive/Machine Lol/Data/Của Trường/khongbaoluc/207.mp4---done--\n",
            "/content/drive/My Drive/Machine Lol/Data/Của Trường/khongbaoluc/208.mp4---done--\n",
            "/content/drive/My Drive/Machine Lol/Data/Của Trường/khongbaoluc/209.mp4---done--\n",
            "/content/drive/My Drive/Machine Lol/Data/Của Trường/khongbaoluc/210.mp4---done--\n",
            "/content/drive/My Drive/Machine Lol/Data/Của Trường/khongbaoluc/211.mp4---done--\n",
            "/content/drive/My Drive/Machine Lol/Data/Của Trường/khongbaoluc/212.mp4---done--\n",
            "/content/drive/My Drive/Machine Lol/Data/Của Trường/khongbaoluc/213.mp4---done--\n",
            "/content/drive/My Drive/Machine Lol/Data/Của Trường/khongbaoluc/214.mp4---done--\n",
            "/content/drive/My Drive/Machine Lol/Data/Của Trường/khongbaoluc/215.mp4---done--\n",
            "/content/drive/My Drive/Machine Lol/Data/Của Trường/khongbaoluc/216.mp4---done--\n",
            "/content/drive/My Drive/Machine Lol/Data/Của Trường/khongbaoluc/217.mp4---done--\n",
            "/content/drive/My Drive/Machine Lol/Data/Của Trường/khongbaoluc/218.mp4---done--\n",
            "/content/drive/My Drive/Machine Lol/Data/Của Trường/khongbaoluc/219.mp4---done--\n",
            "/content/drive/My Drive/Machine Lol/Data/Của Trường/khongbaoluc/220.mp4---done--\n",
            "/content/drive/My Drive/Machine Lol/Data/Của Trường/khongbaoluc/221.mp4---done--\n",
            "/content/drive/My Drive/Machine Lol/Data/Của Trường/khongbaoluc/222.mp4---done--\n",
            "/content/drive/My Drive/Machine Lol/Data/Của Trường/khongbaoluc/223.mp4---done--\n",
            "/content/drive/My Drive/Machine Lol/Data/Của Trường/khongbaoluc/224.mp4---done--\n",
            "/content/drive/My Drive/Machine Lol/Data/Của Trường/khongbaoluc/225.mp4---done--\n",
            "/content/drive/My Drive/Machine Lol/Data/Của Trường/khongbaoluc/226.mp4---done--\n",
            "/content/drive/My Drive/Machine Lol/Data/Của Trường/khongbaoluc/227.mp4---done--\n",
            "/content/drive/My Drive/Machine Lol/Data/Của Trường/khongbaoluc/228.mp4---done--\n",
            "/content/drive/My Drive/Machine Lol/Data/Của Trường/khongbaoluc/229.mp4---done--\n",
            "/content/drive/My Drive/Machine Lol/Data/Của Trường/khongbaoluc/230.mp4---done--\n",
            "/content/drive/My Drive/Machine Lol/Data/Của Trường/khongbaoluc/231.mp4---done--\n",
            "/content/drive/My Drive/Machine Lol/Data/Của Trường/khongbaoluc/232.mp4---done--\n",
            "/content/drive/My Drive/Machine Lol/Data/Của Trường/khongbaoluc/233.mp4---done--\n",
            "/content/drive/My Drive/Machine Lol/Data/Của Trường/khongbaoluc/234.mp4---done--\n",
            "/content/drive/My Drive/Machine Lol/Data/Của Trường/khongbaoluc/235.mp4---done--\n",
            "/content/drive/My Drive/Machine Lol/Data/Của Trường/khongbaoluc/236.mp4---done--\n",
            "/content/drive/My Drive/Machine Lol/Data/Của Trường/khongbaoluc/237.mp4---done--\n",
            "/content/drive/My Drive/Machine Lol/Data/Của Trường/khongbaoluc/238.mp4---done--\n",
            "/content/drive/My Drive/Machine Lol/Data/Của Trường/khongbaoluc/239.mp4---done--\n",
            "/content/drive/My Drive/Machine Lol/Data/Của Trường/khongbaoluc/240.mp4---done--\n",
            "/content/drive/My Drive/Machine Lol/Data/Của Trường/khongbaoluc/241.mp4---done--\n",
            "/content/drive/My Drive/Machine Lol/Data/Của Trường/khongbaoluc/242.mp4---done--\n",
            "/content/drive/My Drive/Machine Lol/Data/Của Trường/khongbaoluc/243.mp4---done--\n",
            "/content/drive/My Drive/Machine Lol/Data/Của Trường/khongbaoluc/244.mp4---done--\n",
            "/content/drive/My Drive/Machine Lol/Data/Của Trường/khongbaoluc/245.mp4---done--\n",
            "/content/drive/My Drive/Machine Lol/Data/Của Trường/khongbaoluc/246.mp4---done--\n",
            "/content/drive/My Drive/Machine Lol/Data/Của Trường/khongbaoluc/247.mp4---done--\n",
            "/content/drive/My Drive/Machine Lol/Data/Của Trường/khongbaoluc/248.mp4---done--\n",
            "/content/drive/My Drive/Machine Lol/Data/Của Trường/khongbaoluc/249.mp4---done--\n",
            "/content/drive/My Drive/Machine Lol/Data/Của Trường/khongbaoluc/250.mp4---done--\n",
            "/content/drive/My Drive/Machine Lol/Data/Của Trường/khongbaoluc/251.mp4---done--\n",
            "/content/drive/My Drive/Machine Lol/Data/Của Trường/khongbaoluc/252.mp4---done--\n",
            "/content/drive/My Drive/Machine Lol/Data/Của Trường/khongbaoluc/253.mp4---done--\n",
            "/content/drive/My Drive/Machine Lol/Data/Của Trường/khongbaoluc/254.mp4---done--\n",
            "/content/drive/My Drive/Machine Lol/Data/Của Trường/khongbaoluc/255.mp4---done--\n",
            "/content/drive/My Drive/Machine Lol/Data/Của Trường/khongbaoluc/256.mp4---done--\n",
            "/content/drive/My Drive/Machine Lol/Data/Của Trường/khongbaoluc/257.mp4---done--\n",
            "/content/drive/My Drive/Machine Lol/Data/Của Trường/khongbaoluc/258.mp4---done--\n",
            "/content/drive/My Drive/Machine Lol/Data/Của Trường/khongbaoluc/259.mp4---done--\n",
            "/content/drive/My Drive/Machine Lol/Data/Của Trường/khongbaoluc/260.mp4---done--\n",
            "/content/drive/My Drive/Machine Lol/Data/Của Trường/khongbaoluc/261.mp4---done--\n",
            "/content/drive/My Drive/Machine Lol/Data/Của Trường/khongbaoluc/262.mp4---done--\n",
            "/content/drive/My Drive/Machine Lol/Data/Của Trường/khongbaoluc/263.mp4---done--\n",
            "/content/drive/My Drive/Machine Lol/Data/Của Trường/khongbaoluc/264.mp4---done--\n",
            "/content/drive/My Drive/Machine Lol/Data/Của Trường/khongbaoluc/265.mp4---done--\n",
            "/content/drive/My Drive/Machine Lol/Data/Của Trường/khongbaoluc/266.mp4---done--\n",
            "/content/drive/My Drive/Machine Lol/Data/Của Trường/khongbaoluc/267.mp4---done--\n",
            "/content/drive/My Drive/Machine Lol/Data/Của Trường/khongbaoluc/268.mp4---done--\n",
            "/content/drive/My Drive/Machine Lol/Data/Của Trường/khongbaoluc/269.mp4---done--\n",
            "/content/drive/My Drive/Machine Lol/Data/Của Trường/khongbaoluc/270.mp4---done--\n",
            "/content/drive/My Drive/Machine Lol/Data/Của Trường/khongbaoluc/271.mp4---done--\n"
          ],
          "name": "stdout"
        }
      ]
    },
    {
      "cell_type": "code",
      "metadata": {
        "id": "whE-AXUYCoPQ",
        "colab_type": "code",
        "colab": {
          "base_uri": "https://localhost:8080/",
          "height": 51
        },
        "outputId": "0b7c48a7-718f-4146-dc21-9c22555f7068"
      },
      "source": [
        "print(len(descriptor_list))\n",
        "print(len(labels))"
      ],
      "execution_count": null,
      "outputs": [
        {
          "output_type": "stream",
          "text": [
            "3584\n",
            "3584\n"
          ],
          "name": "stdout"
        }
      ]
    },
    {
      "cell_type": "markdown",
      "metadata": {
        "id": "rxQmJ2prZOvB",
        "colab_type": "text"
      },
      "source": [
        "##Chuẩn hóa đặc trưng"
      ]
    },
    {
      "cell_type": "code",
      "metadata": {
        "id": "f75NoPt4ZOM2",
        "colab_type": "code",
        "colab": {}
      },
      "source": [
        "from sklearn.preprocessing import MinMaxScaler\n",
        "\n",
        "trans = MinMaxScaler()\n",
        "\n",
        "data = trans.fit_transform(descriptor_list)"
      ],
      "execution_count": null,
      "outputs": []
    },
    {
      "cell_type": "markdown",
      "metadata": {
        "id": "fmbZvh2EHorY",
        "colab_type": "text"
      },
      "source": [
        "##Lưu lại đặc trưng cho lần train tiếp theo"
      ]
    },
    {
      "cell_type": "code",
      "metadata": {
        "id": "rYZvYo6GFNzK",
        "colab_type": "code",
        "colab": {}
      },
      "source": [
        "import hickle as hck\n",
        "\n",
        "hck.dump(descriptor_list, '/content/drive/My Drive/Machine Lol/backup/data3.hkl', mode='w')\n",
        "\n",
        "hck.dump(labels, '/content/drive/My Drive/Machine Lol/backup/labels3.hkl', mode='w')"
      ],
      "execution_count": null,
      "outputs": []
    },
    {
      "cell_type": "markdown",
      "metadata": {
        "id": "PlqWRw6FE1P8",
        "colab_type": "text"
      },
      "source": [
        "#Training model"
      ]
    },
    {
      "cell_type": "markdown",
      "metadata": {
        "id": "2RLBEMcKHSBu",
        "colab_type": "text"
      },
      "source": [
        "###Load Data Backup(Nếu có)"
      ]
    },
    {
      "cell_type": "code",
      "metadata": {
        "id": "RDZCtIA8FtvW",
        "colab_type": "code",
        "colab": {
          "base_uri": "https://localhost:8080/",
          "height": 51
        },
        "outputId": "f2459ca6-fceb-4fa8-d61c-3aedf5f8d18e"
      },
      "source": [
        "import hickle as hck\n",
        "descriptor_list = hck.load('/content/drive/My Drive/Machine Lol/backup/data3.hkl')\n",
        "labels = hck.load('/content/drive/My Drive/Machine Lol/backup/labels3.hkl')\n",
        "\n",
        "print(len(descriptor_list))\n",
        "print(len(labels))"
      ],
      "execution_count": null,
      "outputs": [
        {
          "output_type": "stream",
          "text": [
            "3584\n",
            "3584\n"
          ],
          "name": "stdout"
        }
      ]
    },
    {
      "cell_type": "markdown",
      "metadata": {
        "id": "VXMAvPfR-snT",
        "colab_type": "text"
      },
      "source": [
        "##Chia tỉ lệ Train|Test\n",
        "Tỉ lệ giữa data train và data test là 0.8|0.2"
      ]
    },
    {
      "cell_type": "code",
      "metadata": {
        "id": "r1aPF4rZ-r4C",
        "colab_type": "code",
        "colab": {}
      },
      "source": [
        "from sklearn.model_selection import train_test_split\n",
        "\n",
        "trainX, testX, trainY, testY = train_test_split(data, labels,test_size =0.2, random_state=42)"
      ],
      "execution_count": null,
      "outputs": []
    },
    {
      "cell_type": "markdown",
      "metadata": {
        "id": "xHLsEs5KE3mH",
        "colab_type": "text"
      },
      "source": [
        "##Model LogisticRegression"
      ]
    },
    {
      "cell_type": "code",
      "metadata": {
        "id": "FYIiIpPnE-ht",
        "colab_type": "code",
        "colab": {
          "base_uri": "https://localhost:8080/",
          "height": 224
        },
        "outputId": "1e8fc04f-7ca7-45e3-bed8-05300228b716"
      },
      "source": [
        "\n",
        "from sklearn.linear_model import LogisticRegression\n",
        "from sklearn.metrics import precision_recall_fscore_support\n",
        "\n",
        "lr = LogisticRegression()\n",
        "\n",
        "lr.fit(trainX, trainY)\n",
        "\n",
        "\n",
        "print(lr.score(trainX, trainY))\n",
        "print(lr.score(testX, testY))\n",
        "\n",
        "predY = lr.predict(testX)\n",
        "\n",
        "print(precision_recall_fscore_support(testY, predY, average='macro'))"
      ],
      "execution_count": null,
      "outputs": [
        {
          "output_type": "stream",
          "text": [
            "/usr/local/lib/python3.6/dist-packages/sklearn/linear_model/_logistic.py:940: ConvergenceWarning: lbfgs failed to converge (status=1):\n",
            "STOP: TOTAL NO. of ITERATIONS REACHED LIMIT.\n",
            "\n",
            "Increase the number of iterations (max_iter) or scale the data as shown in:\n",
            "    https://scikit-learn.org/stable/modules/preprocessing.html\n",
            "Please also refer to the documentation for alternative solver options:\n",
            "    https://scikit-learn.org/stable/modules/linear_model.html#logistic-regression\n",
            "  extra_warning_msg=_LOGISTIC_SOLVER_CONVERGENCE_MSG)\n"
          ],
          "name": "stderr"
        },
        {
          "output_type": "stream",
          "text": [
            "1.0\n",
            "0.8926080892608089\n",
            "(0.891820857863751, 0.8938019504406494, 0.8923055915887212, None)\n"
          ],
          "name": "stdout"
        }
      ]
    },
    {
      "cell_type": "markdown",
      "metadata": {
        "id": "5KZZLCt4FCa-",
        "colab_type": "text"
      },
      "source": [
        "##Model GaussianNB"
      ]
    },
    {
      "cell_type": "code",
      "metadata": {
        "id": "KAfGi8xXFFRn",
        "colab_type": "code",
        "colab": {
          "base_uri": "https://localhost:8080/",
          "height": 68
        },
        "outputId": "728065ab-a1cb-4c26-c8bd-8fd87c3f4f15"
      },
      "source": [
        "from sklearn.naive_bayes import GaussianNB\n",
        "\n",
        "gnb = GaussianNB()\n",
        "\n",
        "\n",
        "gnb.fit(trainX, trainY)\n",
        "\n",
        "print(gnb.score(trainX, trainY))\n",
        "print(gnb.score(testX, testY))\n",
        "\n",
        "predY = gnb.predict(testX)\n",
        "\n",
        "print(precision_recall_fscore_support(testY, predY, average='macro'))"
      ],
      "execution_count": null,
      "outputs": [
        {
          "output_type": "stream",
          "text": [
            "0.7111963725148238\n",
            "0.6778242677824268\n",
            "(0.6757473405094858, 0.6743030227133979, 0.6747239237296956, None)\n"
          ],
          "name": "stdout"
        }
      ]
    },
    {
      "cell_type": "markdown",
      "metadata": {
        "id": "3ocz2dXmFITg",
        "colab_type": "text"
      },
      "source": [
        "##Model RandomForestClassifier"
      ]
    },
    {
      "cell_type": "code",
      "metadata": {
        "id": "gNKcT4nOFLM-",
        "colab_type": "code",
        "colab": {
          "base_uri": "https://localhost:8080/",
          "height": 68
        },
        "outputId": "1dff1715-7c04-4516-e35c-d80c40ede109"
      },
      "source": [
        "from sklearn.ensemble import RandomForestClassifier\n",
        "\n",
        "rfc = RandomForestClassifier(n_estimators= 10, random_state= 0)\n",
        "\n",
        "rfc.fit(trainX, trainY)\n",
        "\n",
        "print(rfc.score(trainX, trainY))\n",
        "print(rfc.score(testX, testY))\n",
        "\n",
        "predY = rfc.predict(testX)\n",
        "\n",
        "print(precision_recall_fscore_support(testY, predY, average='macro'))"
      ],
      "execution_count": null,
      "outputs": [
        {
          "output_type": "stream",
          "text": [
            "0.9919776770143006\n",
            "0.701534170153417\n",
            "(0.701454431053676, 0.6954627991797504, 0.6962008775125528, None)\n"
          ],
          "name": "stdout"
        }
      ]
    },
    {
      "cell_type": "markdown",
      "metadata": {
        "id": "LU_6yjq9FObW",
        "colab_type": "text"
      },
      "source": [
        "##Model SVM"
      ]
    },
    {
      "cell_type": "code",
      "metadata": {
        "id": "HrxVSotiFRlU",
        "colab_type": "code",
        "colab": {
          "base_uri": "https://localhost:8080/",
          "height": 68
        },
        "outputId": "18d56ba4-e11b-4907-ff7b-314601b97ba1"
      },
      "source": [
        "from sklearn import svm\n",
        "\n",
        "lsvc = svm.SVC()\n",
        "lsvc.fit(trainX, trainY)\n",
        "\n",
        "print(lsvc.score(trainX, trainY))\n",
        "print(lsvc.score(testX, testY))\n",
        "\n",
        "predY = lsvc.predict(testX)\n",
        "\n",
        "print(precision_recall_fscore_support(testY, predY, average='macro'))"
      ],
      "execution_count": null,
      "outputs": [
        {
          "output_type": "stream",
          "text": [
            "0.997558423439135\n",
            "0.8870292887029289\n",
            "(0.8865642046523293, 0.8860377565236448, 0.8862851828283322, None)\n"
          ],
          "name": "stdout"
        }
      ]
    },
    {
      "cell_type": "markdown",
      "metadata": {
        "id": "hY2jg58ZOLd7",
        "colab_type": "text"
      },
      "source": [
        "###Lưu Model"
      ]
    },
    {
      "cell_type": "code",
      "metadata": {
        "id": "bWZMUG1gOBvH",
        "colab_type": "code",
        "colab": {}
      },
      "source": [
        "import pickle\n",
        "\n",
        "pickle.dump(lr, open('/content/drive/My Drive/Machine Lol/backup/logic3.sav', 'wb'))\n",
        "pickle.dump(gnb, open('/content/drive/My Drive/Machine Lol/backup/gauss3.sav', 'wb'))\n",
        "pickle.dump(rfc, open('/content/drive/My Drive/Machine Lol/backup/randforest3.sav', 'wb'))\n",
        "pickle.dump(lsvc, open('/content/drive/My Drive/Machine Lol/backup/svm3.sav', 'wb'))"
      ],
      "execution_count": null,
      "outputs": []
    },
    {
      "cell_type": "markdown",
      "metadata": {
        "id": "jcW-6P0HG9Y5",
        "colab_type": "text"
      },
      "source": [
        "#Ứng dụng"
      ]
    },
    {
      "cell_type": "markdown",
      "metadata": {
        "id": "rgHl6XebRwdi",
        "colab_type": "text"
      },
      "source": [
        "###Load Model"
      ]
    },
    {
      "cell_type": "code",
      "metadata": {
        "id": "PMBc36W5H5Tf",
        "colab_type": "code",
        "colab": {}
      },
      "source": [
        "import pickle\n",
        "\n",
        "lr = pickle.load(open('/content/drive/My Drive/Machine Lol/backup/logic3.sav', 'rb'))\n",
        "gnb = pickle.load(open('/content/drive/My Drive/Machine Lol/backup/gauss3.sav', 'rb'))\n",
        "rfc = pickle.load(open('/content/drive/My Drive/Machine Lol/backup/randforest3.sav', 'rb'))\n",
        "lsvc = pickle.load(open('/content/drive/My Drive/Machine Lol/backup/svm3.sav', 'rb'))"
      ],
      "execution_count": 5,
      "outputs": []
    },
    {
      "cell_type": "code",
      "metadata": {
        "id": "m8QAjP1odfjp",
        "colab_type": "code",
        "cellView": "form",
        "colab": {
          "base_uri": "https://localhost:8080/",
          "height": 283
        },
        "outputId": "7ee8533c-81f8-4c31-fcb9-312a291b7a88"
      },
      "source": [
        "#@title Lựa chọn đầu vào\n",
        "#@markdown Lựa chọn upload hay điền link video\n",
        "\n",
        "Choose = \"Link\" #@param [\"Upload\", \"Link\", \"---\"]\n",
        "#@markdown ---\n",
        "\n",
        "Key = True\n",
        "list_fn = []\n",
        "if Choose == \"Upload\":\n",
        "  from google.colab import files\n",
        "\n",
        "  uploaded = files.upload()\n",
        "\n",
        "  for fn in uploaded.keys():\n",
        "    print('Người dùng đã upload file \"{name}\" độ lớn {length} bytes'.format(\n",
        "      name=fn, length=len(uploaded[fn])))\n",
        "    list_fn.append(fn)\n",
        "elif Choose == \"Link\":\n",
        "  print(\"Nhập link\")\n",
        "  link = input()\n",
        "\n",
        "  import requests  \n",
        "    \n",
        "  r = requests.get(link, stream = True)  \n",
        "  \n",
        "  with open(\"/content/input.mp4\", \"wb\") as file:  \n",
        "    for block in r.iter_content(chunk_size = 1024): \n",
        "      if block:  \n",
        "        file.write(block) \n",
        "  print(\"File đã được lưu với tên input.mp4\")\n",
        "  list_fn.append(\"input.mp4\")\n",
        "\n",
        "import numpy as np\n",
        "import cv2\n",
        "from skimage.feature import hog\n",
        "\n",
        "num_vid = 0\n",
        "while list_fn:\n",
        "  i = list_fn.pop(0)\n",
        "  cap = cv2.VideoCapture(i)\n",
        "\n",
        "  ret, frame1 = cap.read()\n",
        "\n",
        "  if ret:\n",
        "    frames = []\n",
        "    frames.append(frame1.copy())\n",
        "    frame1 = cv2.resize(frame1, (160, 120))\n",
        "    prvs = cv2.cvtColor(frame1,cv2.COLOR_BGR2GRAY)\n",
        "    hsv = np.zeros_like(frame1)\n",
        "    hsv[...,1] = 255\n",
        "    s = 1\n",
        "    roi = []\n",
        "    while(cap.isOpened()):\n",
        "        ret, frame2 = cap.read()\n",
        "        if not ret:\n",
        "          break;\n",
        "        frames.append(frame2)\n",
        "        if s % 6 == 0:\n",
        "          frame2 = cv2.resize(frame2, (160, 120))\n",
        "          #Trích xuất dòng quang từ 2 frame gần nhau\n",
        "          next = cv2.cvtColor(frame2,cv2.COLOR_BGR2GRAY)\n",
        "          optical_flow = cv2.optflow.DualTVL1OpticalFlow_create()\n",
        "          flow = optical_flow.calc(prvs, next, None)\n",
        "          mag, ang = cv2.cartToPolar(flow[...,0], flow[...,1])\n",
        "          hsv[...,0] = ang*180/np.pi/2\n",
        "          nom = np.zeros((160,120))\n",
        "          hsv[...,2] = cv2.normalize(mag,None,0,255,cv2.NORM_MINMAX)\n",
        "          bgr = cv2.cvtColor(hsv,cv2.COLOR_HSV2BGR)\n",
        "          gray = cv2.cvtColor(bgr, cv2.COLOR_BGR2GRAY)\n",
        "          \n",
        "          v = np.median(gray)\n",
        "          sigma = 0.33\n",
        "          lower = int(max(0, (1.0 - sigma) * v))\n",
        "          upper = int(min(255, (1.0 + sigma) * v))\n",
        "          canny = cv2.Canny(gray, lower, upper)\n",
        "          \n",
        "\n",
        "          kernel = np.ones((5,5),np.uint8)\n",
        "          closing = cv2.morphologyEx(canny, cv2.MORPH_CLOSE, kernel)\n",
        "\n",
        "          contour,hier = cv2.findContours(closing,cv2.RETR_CCOMP,cv2.CHAIN_APPROX_SIMPLE)\n",
        "\n",
        "          for cnt in contour:\n",
        "            cv2.drawContours(closing,[cnt],0,255,-1)\n",
        "\n",
        "          opening = cv2.morphologyEx(closing, cv2.MORPH_OPEN, kernel)\n",
        "\n",
        "          after_roi = next * opening\n",
        "\n",
        "          # trích xuất feature bằng HOG\n",
        "          image_hog = hog(after_roi, orientations=12, pixels_per_cell=(4, 4),\n",
        "            cells_per_block=(2, 2), block_norm='L1', visualize=False)\n",
        "          \n",
        "          roi.append(image_hog)\n",
        "          \n",
        "          prvs = next.copy()\n",
        "\n",
        "\n",
        "        s += 1\n",
        "    Y = lsvc.predict(roi)\n",
        "    h, w, d = frames[0].shape\n",
        "    i = 0\n",
        "    n = len(Y)\n",
        "    while i < n:\n",
        "      if Y[i] == 0:\n",
        "        s = 5\n",
        "        j = i*6\n",
        "        while s > 0:\n",
        "          cv2.rectangle(frames[j],(0,0),(w,h),(0,0,255),10)\n",
        "          s -= 1\n",
        "          j += 1\n",
        "    out = cv2.VideoWriter('output'+str(num_vid)+'.avi',cv2.VideoWriter_fourcc(*'DIVX'), 15, (w, h), True)\n",
        "    for i in frames:\n",
        "      out.write(i)\n",
        "    \n",
        "    out.release()\n",
        "  num_vid += 1"
      ],
      "execution_count": 6,
      "outputs": [
        {
          "output_type": "stream",
          "text": [
            "Nhập link\n",
            "https://github.com/UITTrinhQuangTruong/CS114.K21/raw/master/test3.mp4\n",
            "File đã được lưu với tên input.mp4\n"
          ],
          "name": "stdout"
        },
        {
          "output_type": "error",
          "ename": "KeyboardInterrupt",
          "evalue": "ignored",
          "traceback": [
            "\u001b[0;31m---------------------------------------------------------------------------\u001b[0m",
            "\u001b[0;31mKeyboardInterrupt\u001b[0m                         Traceback (most recent call last)",
            "\u001b[0;32m<ipython-input-6-1c5df2cdb1eb>\u001b[0m in \u001b[0;36m<module>\u001b[0;34m()\u001b[0m\n\u001b[1;32m    107\u001b[0m         \u001b[0mj\u001b[0m \u001b[0;34m=\u001b[0m \u001b[0mi\u001b[0m\u001b[0;34m*\u001b[0m\u001b[0;36m6\u001b[0m\u001b[0;34m\u001b[0m\u001b[0;34m\u001b[0m\u001b[0m\n\u001b[1;32m    108\u001b[0m         \u001b[0;32mwhile\u001b[0m \u001b[0ms\u001b[0m \u001b[0;34m>\u001b[0m \u001b[0;36m0\u001b[0m\u001b[0;34m:\u001b[0m\u001b[0;34m\u001b[0m\u001b[0;34m\u001b[0m\u001b[0m\n\u001b[0;32m--> 109\u001b[0;31m           \u001b[0mcv2\u001b[0m\u001b[0;34m.\u001b[0m\u001b[0mrectangle\u001b[0m\u001b[0;34m(\u001b[0m\u001b[0mframes\u001b[0m\u001b[0;34m[\u001b[0m\u001b[0mj\u001b[0m\u001b[0;34m]\u001b[0m\u001b[0;34m,\u001b[0m\u001b[0;34m(\u001b[0m\u001b[0;36m0\u001b[0m\u001b[0;34m,\u001b[0m\u001b[0;36m0\u001b[0m\u001b[0;34m)\u001b[0m\u001b[0;34m,\u001b[0m\u001b[0;34m(\u001b[0m\u001b[0mw\u001b[0m\u001b[0;34m,\u001b[0m\u001b[0mh\u001b[0m\u001b[0;34m)\u001b[0m\u001b[0;34m,\u001b[0m\u001b[0;34m(\u001b[0m\u001b[0;36m0\u001b[0m\u001b[0;34m,\u001b[0m\u001b[0;36m0\u001b[0m\u001b[0;34m,\u001b[0m\u001b[0;36m255\u001b[0m\u001b[0;34m)\u001b[0m\u001b[0;34m,\u001b[0m\u001b[0;36m10\u001b[0m\u001b[0;34m)\u001b[0m\u001b[0;34m\u001b[0m\u001b[0;34m\u001b[0m\u001b[0m\n\u001b[0m\u001b[1;32m    110\u001b[0m           \u001b[0ms\u001b[0m \u001b[0;34m-=\u001b[0m \u001b[0;36m1\u001b[0m\u001b[0;34m\u001b[0m\u001b[0;34m\u001b[0m\u001b[0m\n\u001b[1;32m    111\u001b[0m           \u001b[0mj\u001b[0m \u001b[0;34m+=\u001b[0m \u001b[0;36m1\u001b[0m\u001b[0;34m\u001b[0m\u001b[0;34m\u001b[0m\u001b[0m\n",
            "\u001b[0;31mKeyboardInterrupt\u001b[0m: "
          ]
        }
      ]
    },
    {
      "cell_type": "markdown",
      "metadata": {
        "id": "9fE6OsfJjCkA",
        "colab_type": "text"
      },
      "source": [
        "Tài liệu tham khảo\n"
      ]
    }
  ]
}